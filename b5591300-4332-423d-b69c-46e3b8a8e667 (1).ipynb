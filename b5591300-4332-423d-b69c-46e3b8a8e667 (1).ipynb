{
 "cells": [
  {
   "cell_type": "markdown",
   "metadata": {
    "toc": true
   },
   "source": [
    "<h1>Содержание<span class=\"tocSkip\"></span></h1>\n",
    "<div class=\"toc\"><ul class=\"toc-item\"><li><span><a href=\"#Изучение-данных-из-файла\" data-toc-modified-id=\"Изучение-данных-из-файла-1\"><span class=\"toc-item-num\">1&nbsp;&nbsp;</span>Изучение данных из файла</a></span><ul class=\"toc-item\"><li><span><a href=\"#Вывод\" data-toc-modified-id=\"Вывод-1.1\"><span class=\"toc-item-num\">1.1&nbsp;&nbsp;</span>Вывод</a></span></li></ul></li><li><span><a href=\"#Предобработка-данных\" data-toc-modified-id=\"Предобработка-данных-2\"><span class=\"toc-item-num\">2&nbsp;&nbsp;</span>Предобработка данных</a></span><ul class=\"toc-item\"><li><span><a href=\"#Определить-и-заполнить-пропущенные-значения\" data-toc-modified-id=\"Определить-и-заполнить-пропущенные-значения-2.1\"><span class=\"toc-item-num\">2.1&nbsp;&nbsp;</span>Определить и заполнить пропущенные значения</a></span></li><li><span><a href=\"#Приведение-типов-данных\" data-toc-modified-id=\"Приведение-типов-данных-2.2\"><span class=\"toc-item-num\">2.2&nbsp;&nbsp;</span>Приведение типов данных</a></span></li></ul></li><li><span><a href=\"#Расчёты-и-добавление-результатов-в-таблицу\" data-toc-modified-id=\"Расчёты-и-добавление-результатов-в-таблицу-3\"><span class=\"toc-item-num\">3&nbsp;&nbsp;</span>Расчёты и добавление результатов в таблицу</a></span></li><li><span><a href=\"#Исследовательский-анализ-данных\" data-toc-modified-id=\"Исследовательский-анализ-данных-4\"><span class=\"toc-item-num\">4&nbsp;&nbsp;</span>Исследовательский анализ данных</a></span><ul class=\"toc-item\"><li><span><a href=\"#Параметры:-площадь,-цена,-число-комнат,-высота-потолков\" data-toc-modified-id=\"Параметры:-площадь,-цена,-число-комнат,-высота-потолков-4.1\"><span class=\"toc-item-num\">4.1&nbsp;&nbsp;</span>Параметры: площадь, цена, число комнат, высота потолков</a></span></li><li><span><a href=\"#Вывод\" data-toc-modified-id=\"Вывод-4.2\"><span class=\"toc-item-num\">4.2&nbsp;&nbsp;</span>Вывод</a></span></li><li><span><a href=\"#Время-продажи-квартиры.\" data-toc-modified-id=\"Время-продажи-квартиры.-4.3\"><span class=\"toc-item-num\">4.3&nbsp;&nbsp;</span>Время продажи квартиры.</a></span></li><li><span><a href=\"#Вывод\" data-toc-modified-id=\"Вывод-4.4\"><span class=\"toc-item-num\">4.4&nbsp;&nbsp;</span>Вывод</a></span></li><li><span><a href=\"#Убираем-редкие-и-выбивающиеся-значения\" data-toc-modified-id=\"Убираем-редкие-и-выбивающиеся-значения-4.5\"><span class=\"toc-item-num\">4.5&nbsp;&nbsp;</span>Убираем редкие и выбивающиеся значения</a></span></li><li><span><a href=\"#Какие-факторы-больше-всего-влияют-на-стоимость-квартиры?\" data-toc-modified-id=\"Какие-факторы-больше-всего-влияют-на-стоимость-квартиры?-4.6\"><span class=\"toc-item-num\">4.6&nbsp;&nbsp;</span>Какие факторы больше всего влияют на стоимость квартиры?</a></span></li><li><span><a href=\"#10-населённых-пунктов-с-наибольшим-числом-объявлений\" data-toc-modified-id=\"10-населённых-пунктов-с-наибольшим-числом-объявлений-4.7\"><span class=\"toc-item-num\">4.7&nbsp;&nbsp;</span>10 населённых пунктов с наибольшим числом объявлений</a></span></li><li><span><a href=\"#Расстояние-до-центра\" data-toc-modified-id=\"Расстояние-до-центра-4.8\"><span class=\"toc-item-num\">4.8&nbsp;&nbsp;</span>Расстояние до центра</a></span></li><li><span><a href=\"#Анализ-квартир-в-центре-Санкт-Петербурга\" data-toc-modified-id=\"Анализ-квартир-в-центре-Санкт-Петербурга-4.9\"><span class=\"toc-item-num\">4.9&nbsp;&nbsp;</span>Анализ квартир в центре Санкт-Петербурга</a></span></li></ul></li><li><span><a href=\"#Общий-вывод\" data-toc-modified-id=\"Общий-вывод-5\"><span class=\"toc-item-num\">5&nbsp;&nbsp;</span>Общий вывод</a></span></li></ul></div>"
   ]
  },
  {
   "cell_type": "markdown",
   "metadata": {},
   "source": [
    "# Исследование объявлений о продаже квартир\n",
    "\n",
    "В вашем распоряжении данные сервиса Яндекс.Недвижимость — архив объявлений о продаже квартир в Санкт-Петербурге и соседних населённых пунктах за несколько лет. Нужно научиться определять рыночную стоимость объектов недвижимости. Ваша задача — установить параметры. Это позволит построить автоматизированную систему: она отследит аномалии и мошенническую деятельность. \n",
    "\n",
    "По каждой квартире на продажу доступны два вида данных. Первые вписаны пользователем, вторые получены автоматически на основе картографических данных. Например, расстояние до центра, аэропорта, ближайшего парка и водоёма. "
   ]
  },
  {
   "cell_type": "markdown",
   "metadata": {},
   "source": [
    "## Изучение данных из файла"
   ]
  },
  {
   "cell_type": "markdown",
   "metadata": {},
   "source": [
    "Импортируем привычную библиотеку pandas, а также для продвинутой работы с графиками (в том числе гистограммами), импортируем библиотеку matplotlib.\n",
    "\n",
    "Выведем первые строки таблицы методом head():"
   ]
  },
  {
   "cell_type": "code",
   "execution_count": 1,
   "metadata": {},
   "outputs": [
    {
     "data": {
      "text/html": [
       "<div>\n",
       "<style scoped>\n",
       "    .dataframe tbody tr th:only-of-type {\n",
       "        vertical-align: middle;\n",
       "    }\n",
       "\n",
       "    .dataframe tbody tr th {\n",
       "        vertical-align: top;\n",
       "    }\n",
       "\n",
       "    .dataframe thead th {\n",
       "        text-align: right;\n",
       "    }\n",
       "</style>\n",
       "<table border=\"1\" class=\"dataframe\">\n",
       "  <thead>\n",
       "    <tr style=\"text-align: right;\">\n",
       "      <th></th>\n",
       "      <th>total_images\\tlast_price\\ttotal_area\\tfirst_day_exposition\\trooms\\tceiling_height\\tfloors_total\\tliving_area\\tfloor\\tis_apartment\\tstudio\\topen_plan\\tkitchen_area\\tbalcony\\tlocality_name\\tairports_nearest\\tcityCenters_nearest\\tparks_around3000\\tparks_nearest\\tponds_around3000\\tponds_nearest\\tdays_exposition</th>\n",
       "    </tr>\n",
       "  </thead>\n",
       "  <tbody>\n",
       "    <tr>\n",
       "      <th>0</th>\n",
       "      <td>20\\t13000000.0\\t108.0\\t2019-03-07T00:00:00\\t3\\...</td>\n",
       "    </tr>\n",
       "    <tr>\n",
       "      <th>1</th>\n",
       "      <td>7\\t3350000.0\\t40.4\\t2018-12-04T00:00:00\\t1\\t\\t...</td>\n",
       "    </tr>\n",
       "    <tr>\n",
       "      <th>2</th>\n",
       "      <td>10\\t5196000.0\\t56.0\\t2015-08-20T00:00:00\\t2\\t\\...</td>\n",
       "    </tr>\n",
       "    <tr>\n",
       "      <th>3</th>\n",
       "      <td>0\\t64900000.0\\t159.0\\t2015-07-24T00:00:00\\t3\\t...</td>\n",
       "    </tr>\n",
       "    <tr>\n",
       "      <th>4</th>\n",
       "      <td>2\\t10000000.0\\t100.0\\t2018-06-19T00:00:00\\t2\\t...</td>\n",
       "    </tr>\n",
       "  </tbody>\n",
       "</table>\n",
       "</div>"
      ],
      "text/plain": [
       "  total_images\\tlast_price\\ttotal_area\\tfirst_day_exposition\\trooms\\tceiling_height\\tfloors_total\\tliving_area\\tfloor\\tis_apartment\\tstudio\\topen_plan\\tkitchen_area\\tbalcony\\tlocality_name\\tairports_nearest\\tcityCenters_nearest\\tparks_around3000\\tparks_nearest\\tponds_around3000\\tponds_nearest\\tdays_exposition\n",
       "0  20\\t13000000.0\\t108.0\\t2019-03-07T00:00:00\\t3\\...                                                                                                                                                                                                                                                                  \n",
       "1  7\\t3350000.0\\t40.4\\t2018-12-04T00:00:00\\t1\\t\\t...                                                                                                                                                                                                                                                                  \n",
       "2  10\\t5196000.0\\t56.0\\t2015-08-20T00:00:00\\t2\\t\\...                                                                                                                                                                                                                                                                  \n",
       "3  0\\t64900000.0\\t159.0\\t2015-07-24T00:00:00\\t3\\t...                                                                                                                                                                                                                                                                  \n",
       "4  2\\t10000000.0\\t100.0\\t2018-06-19T00:00:00\\t2\\t...                                                                                                                                                                                                                                                                  "
      ]
     },
     "execution_count": 1,
     "metadata": {},
     "output_type": "execute_result"
    }
   ],
   "source": [
    "import pandas as pd\n",
    "import matplotlib.pyplot as plt\n",
    "import seaborn as sns\n",
    "data = pd.read_csv('/datasets/real_estate_data.csv')\n",
    "data.head()"
   ]
  },
  {
   "cell_type": "markdown",
   "metadata": {},
   "source": [
    "Данные склеились в одну строку вместо того, чтобы разбиться по колонкам. Это произошло из-за разделителей в формате csv.\n",
    "Прочитаем файл real_estate_data.csv, указав как разделитель знак табуляции: '\\t'."
   ]
  },
  {
   "cell_type": "code",
   "execution_count": 2,
   "metadata": {},
   "outputs": [
    {
     "data": {
      "text/html": [
       "<div>\n",
       "<style scoped>\n",
       "    .dataframe tbody tr th:only-of-type {\n",
       "        vertical-align: middle;\n",
       "    }\n",
       "\n",
       "    .dataframe tbody tr th {\n",
       "        vertical-align: top;\n",
       "    }\n",
       "\n",
       "    .dataframe thead th {\n",
       "        text-align: right;\n",
       "    }\n",
       "</style>\n",
       "<table border=\"1\" class=\"dataframe\">\n",
       "  <thead>\n",
       "    <tr style=\"text-align: right;\">\n",
       "      <th></th>\n",
       "      <th>total_images</th>\n",
       "      <th>last_price</th>\n",
       "      <th>total_area</th>\n",
       "      <th>first_day_exposition</th>\n",
       "      <th>rooms</th>\n",
       "      <th>ceiling_height</th>\n",
       "      <th>floors_total</th>\n",
       "      <th>living_area</th>\n",
       "      <th>floor</th>\n",
       "      <th>is_apartment</th>\n",
       "      <th>...</th>\n",
       "      <th>kitchen_area</th>\n",
       "      <th>balcony</th>\n",
       "      <th>locality_name</th>\n",
       "      <th>airports_nearest</th>\n",
       "      <th>cityCenters_nearest</th>\n",
       "      <th>parks_around3000</th>\n",
       "      <th>parks_nearest</th>\n",
       "      <th>ponds_around3000</th>\n",
       "      <th>ponds_nearest</th>\n",
       "      <th>days_exposition</th>\n",
       "    </tr>\n",
       "  </thead>\n",
       "  <tbody>\n",
       "    <tr>\n",
       "      <th>0</th>\n",
       "      <td>20</td>\n",
       "      <td>13000000.0</td>\n",
       "      <td>108.00</td>\n",
       "      <td>2019-03-07T00:00:00</td>\n",
       "      <td>3</td>\n",
       "      <td>2.70</td>\n",
       "      <td>16.0</td>\n",
       "      <td>51.00</td>\n",
       "      <td>8</td>\n",
       "      <td>NaN</td>\n",
       "      <td>...</td>\n",
       "      <td>25.00</td>\n",
       "      <td>NaN</td>\n",
       "      <td>Санкт-Петербург</td>\n",
       "      <td>18863.0</td>\n",
       "      <td>16028.0</td>\n",
       "      <td>1.0</td>\n",
       "      <td>482.0</td>\n",
       "      <td>2.0</td>\n",
       "      <td>755.0</td>\n",
       "      <td>NaN</td>\n",
       "    </tr>\n",
       "    <tr>\n",
       "      <th>1</th>\n",
       "      <td>7</td>\n",
       "      <td>3350000.0</td>\n",
       "      <td>40.40</td>\n",
       "      <td>2018-12-04T00:00:00</td>\n",
       "      <td>1</td>\n",
       "      <td>NaN</td>\n",
       "      <td>11.0</td>\n",
       "      <td>18.60</td>\n",
       "      <td>1</td>\n",
       "      <td>NaN</td>\n",
       "      <td>...</td>\n",
       "      <td>11.00</td>\n",
       "      <td>2.0</td>\n",
       "      <td>посёлок Шушары</td>\n",
       "      <td>12817.0</td>\n",
       "      <td>18603.0</td>\n",
       "      <td>0.0</td>\n",
       "      <td>NaN</td>\n",
       "      <td>0.0</td>\n",
       "      <td>NaN</td>\n",
       "      <td>81.0</td>\n",
       "    </tr>\n",
       "    <tr>\n",
       "      <th>2</th>\n",
       "      <td>10</td>\n",
       "      <td>5196000.0</td>\n",
       "      <td>56.00</td>\n",
       "      <td>2015-08-20T00:00:00</td>\n",
       "      <td>2</td>\n",
       "      <td>NaN</td>\n",
       "      <td>5.0</td>\n",
       "      <td>34.30</td>\n",
       "      <td>4</td>\n",
       "      <td>NaN</td>\n",
       "      <td>...</td>\n",
       "      <td>8.30</td>\n",
       "      <td>0.0</td>\n",
       "      <td>Санкт-Петербург</td>\n",
       "      <td>21741.0</td>\n",
       "      <td>13933.0</td>\n",
       "      <td>1.0</td>\n",
       "      <td>90.0</td>\n",
       "      <td>2.0</td>\n",
       "      <td>574.0</td>\n",
       "      <td>558.0</td>\n",
       "    </tr>\n",
       "    <tr>\n",
       "      <th>3</th>\n",
       "      <td>0</td>\n",
       "      <td>64900000.0</td>\n",
       "      <td>159.00</td>\n",
       "      <td>2015-07-24T00:00:00</td>\n",
       "      <td>3</td>\n",
       "      <td>NaN</td>\n",
       "      <td>14.0</td>\n",
       "      <td>NaN</td>\n",
       "      <td>9</td>\n",
       "      <td>NaN</td>\n",
       "      <td>...</td>\n",
       "      <td>NaN</td>\n",
       "      <td>0.0</td>\n",
       "      <td>Санкт-Петербург</td>\n",
       "      <td>28098.0</td>\n",
       "      <td>6800.0</td>\n",
       "      <td>2.0</td>\n",
       "      <td>84.0</td>\n",
       "      <td>3.0</td>\n",
       "      <td>234.0</td>\n",
       "      <td>424.0</td>\n",
       "    </tr>\n",
       "    <tr>\n",
       "      <th>4</th>\n",
       "      <td>2</td>\n",
       "      <td>10000000.0</td>\n",
       "      <td>100.00</td>\n",
       "      <td>2018-06-19T00:00:00</td>\n",
       "      <td>2</td>\n",
       "      <td>3.03</td>\n",
       "      <td>14.0</td>\n",
       "      <td>32.00</td>\n",
       "      <td>13</td>\n",
       "      <td>NaN</td>\n",
       "      <td>...</td>\n",
       "      <td>41.00</td>\n",
       "      <td>NaN</td>\n",
       "      <td>Санкт-Петербург</td>\n",
       "      <td>31856.0</td>\n",
       "      <td>8098.0</td>\n",
       "      <td>2.0</td>\n",
       "      <td>112.0</td>\n",
       "      <td>1.0</td>\n",
       "      <td>48.0</td>\n",
       "      <td>121.0</td>\n",
       "    </tr>\n",
       "    <tr>\n",
       "      <th>5</th>\n",
       "      <td>10</td>\n",
       "      <td>2890000.0</td>\n",
       "      <td>30.40</td>\n",
       "      <td>2018-09-10T00:00:00</td>\n",
       "      <td>1</td>\n",
       "      <td>NaN</td>\n",
       "      <td>12.0</td>\n",
       "      <td>14.40</td>\n",
       "      <td>5</td>\n",
       "      <td>NaN</td>\n",
       "      <td>...</td>\n",
       "      <td>9.10</td>\n",
       "      <td>NaN</td>\n",
       "      <td>городской посёлок Янино-1</td>\n",
       "      <td>NaN</td>\n",
       "      <td>NaN</td>\n",
       "      <td>NaN</td>\n",
       "      <td>NaN</td>\n",
       "      <td>NaN</td>\n",
       "      <td>NaN</td>\n",
       "      <td>55.0</td>\n",
       "    </tr>\n",
       "    <tr>\n",
       "      <th>6</th>\n",
       "      <td>6</td>\n",
       "      <td>3700000.0</td>\n",
       "      <td>37.30</td>\n",
       "      <td>2017-11-02T00:00:00</td>\n",
       "      <td>1</td>\n",
       "      <td>NaN</td>\n",
       "      <td>26.0</td>\n",
       "      <td>10.60</td>\n",
       "      <td>6</td>\n",
       "      <td>NaN</td>\n",
       "      <td>...</td>\n",
       "      <td>14.40</td>\n",
       "      <td>1.0</td>\n",
       "      <td>посёлок Парголово</td>\n",
       "      <td>52996.0</td>\n",
       "      <td>19143.0</td>\n",
       "      <td>0.0</td>\n",
       "      <td>NaN</td>\n",
       "      <td>0.0</td>\n",
       "      <td>NaN</td>\n",
       "      <td>155.0</td>\n",
       "    </tr>\n",
       "    <tr>\n",
       "      <th>7</th>\n",
       "      <td>5</td>\n",
       "      <td>7915000.0</td>\n",
       "      <td>71.60</td>\n",
       "      <td>2019-04-18T00:00:00</td>\n",
       "      <td>2</td>\n",
       "      <td>NaN</td>\n",
       "      <td>24.0</td>\n",
       "      <td>NaN</td>\n",
       "      <td>22</td>\n",
       "      <td>NaN</td>\n",
       "      <td>...</td>\n",
       "      <td>18.90</td>\n",
       "      <td>2.0</td>\n",
       "      <td>Санкт-Петербург</td>\n",
       "      <td>23982.0</td>\n",
       "      <td>11634.0</td>\n",
       "      <td>0.0</td>\n",
       "      <td>NaN</td>\n",
       "      <td>0.0</td>\n",
       "      <td>NaN</td>\n",
       "      <td>NaN</td>\n",
       "    </tr>\n",
       "    <tr>\n",
       "      <th>8</th>\n",
       "      <td>20</td>\n",
       "      <td>2900000.0</td>\n",
       "      <td>33.16</td>\n",
       "      <td>2018-05-23T00:00:00</td>\n",
       "      <td>1</td>\n",
       "      <td>NaN</td>\n",
       "      <td>27.0</td>\n",
       "      <td>15.43</td>\n",
       "      <td>26</td>\n",
       "      <td>NaN</td>\n",
       "      <td>...</td>\n",
       "      <td>8.81</td>\n",
       "      <td>NaN</td>\n",
       "      <td>посёлок Мурино</td>\n",
       "      <td>NaN</td>\n",
       "      <td>NaN</td>\n",
       "      <td>NaN</td>\n",
       "      <td>NaN</td>\n",
       "      <td>NaN</td>\n",
       "      <td>NaN</td>\n",
       "      <td>189.0</td>\n",
       "    </tr>\n",
       "    <tr>\n",
       "      <th>9</th>\n",
       "      <td>18</td>\n",
       "      <td>5400000.0</td>\n",
       "      <td>61.00</td>\n",
       "      <td>2017-02-26T00:00:00</td>\n",
       "      <td>3</td>\n",
       "      <td>2.50</td>\n",
       "      <td>9.0</td>\n",
       "      <td>43.60</td>\n",
       "      <td>7</td>\n",
       "      <td>NaN</td>\n",
       "      <td>...</td>\n",
       "      <td>6.50</td>\n",
       "      <td>2.0</td>\n",
       "      <td>Санкт-Петербург</td>\n",
       "      <td>50898.0</td>\n",
       "      <td>15008.0</td>\n",
       "      <td>0.0</td>\n",
       "      <td>NaN</td>\n",
       "      <td>0.0</td>\n",
       "      <td>NaN</td>\n",
       "      <td>289.0</td>\n",
       "    </tr>\n",
       "    <tr>\n",
       "      <th>10</th>\n",
       "      <td>5</td>\n",
       "      <td>5050000.0</td>\n",
       "      <td>39.60</td>\n",
       "      <td>2017-11-16T00:00:00</td>\n",
       "      <td>1</td>\n",
       "      <td>2.67</td>\n",
       "      <td>12.0</td>\n",
       "      <td>20.30</td>\n",
       "      <td>3</td>\n",
       "      <td>NaN</td>\n",
       "      <td>...</td>\n",
       "      <td>8.50</td>\n",
       "      <td>NaN</td>\n",
       "      <td>Санкт-Петербург</td>\n",
       "      <td>38357.0</td>\n",
       "      <td>13878.0</td>\n",
       "      <td>1.0</td>\n",
       "      <td>310.0</td>\n",
       "      <td>2.0</td>\n",
       "      <td>553.0</td>\n",
       "      <td>137.0</td>\n",
       "    </tr>\n",
       "    <tr>\n",
       "      <th>11</th>\n",
       "      <td>9</td>\n",
       "      <td>3300000.0</td>\n",
       "      <td>44.00</td>\n",
       "      <td>2018-08-27T00:00:00</td>\n",
       "      <td>2</td>\n",
       "      <td>NaN</td>\n",
       "      <td>5.0</td>\n",
       "      <td>31.00</td>\n",
       "      <td>4</td>\n",
       "      <td>False</td>\n",
       "      <td>...</td>\n",
       "      <td>6.00</td>\n",
       "      <td>1.0</td>\n",
       "      <td>Ломоносов</td>\n",
       "      <td>48252.0</td>\n",
       "      <td>51677.0</td>\n",
       "      <td>0.0</td>\n",
       "      <td>NaN</td>\n",
       "      <td>0.0</td>\n",
       "      <td>NaN</td>\n",
       "      <td>7.0</td>\n",
       "    </tr>\n",
       "    <tr>\n",
       "      <th>12</th>\n",
       "      <td>10</td>\n",
       "      <td>3890000.0</td>\n",
       "      <td>54.00</td>\n",
       "      <td>2016-06-30T00:00:00</td>\n",
       "      <td>2</td>\n",
       "      <td>NaN</td>\n",
       "      <td>5.0</td>\n",
       "      <td>30.00</td>\n",
       "      <td>5</td>\n",
       "      <td>NaN</td>\n",
       "      <td>...</td>\n",
       "      <td>9.00</td>\n",
       "      <td>0.0</td>\n",
       "      <td>Сертолово</td>\n",
       "      <td>NaN</td>\n",
       "      <td>NaN</td>\n",
       "      <td>NaN</td>\n",
       "      <td>NaN</td>\n",
       "      <td>NaN</td>\n",
       "      <td>NaN</td>\n",
       "      <td>90.0</td>\n",
       "    </tr>\n",
       "    <tr>\n",
       "      <th>13</th>\n",
       "      <td>20</td>\n",
       "      <td>3550000.0</td>\n",
       "      <td>42.80</td>\n",
       "      <td>2017-07-01T00:00:00</td>\n",
       "      <td>2</td>\n",
       "      <td>2.56</td>\n",
       "      <td>5.0</td>\n",
       "      <td>27.00</td>\n",
       "      <td>5</td>\n",
       "      <td>NaN</td>\n",
       "      <td>...</td>\n",
       "      <td>5.20</td>\n",
       "      <td>1.0</td>\n",
       "      <td>Петергоф</td>\n",
       "      <td>37868.0</td>\n",
       "      <td>33058.0</td>\n",
       "      <td>1.0</td>\n",
       "      <td>294.0</td>\n",
       "      <td>3.0</td>\n",
       "      <td>298.0</td>\n",
       "      <td>366.0</td>\n",
       "    </tr>\n",
       "    <tr>\n",
       "      <th>14</th>\n",
       "      <td>1</td>\n",
       "      <td>4400000.0</td>\n",
       "      <td>36.00</td>\n",
       "      <td>2016-06-23T00:00:00</td>\n",
       "      <td>1</td>\n",
       "      <td>NaN</td>\n",
       "      <td>6.0</td>\n",
       "      <td>17.00</td>\n",
       "      <td>1</td>\n",
       "      <td>NaN</td>\n",
       "      <td>...</td>\n",
       "      <td>8.00</td>\n",
       "      <td>0.0</td>\n",
       "      <td>Пушкин</td>\n",
       "      <td>20782.0</td>\n",
       "      <td>30759.0</td>\n",
       "      <td>0.0</td>\n",
       "      <td>NaN</td>\n",
       "      <td>1.0</td>\n",
       "      <td>96.0</td>\n",
       "      <td>203.0</td>\n",
       "    </tr>\n",
       "    <tr>\n",
       "      <th>15</th>\n",
       "      <td>16</td>\n",
       "      <td>4650000.0</td>\n",
       "      <td>39.00</td>\n",
       "      <td>2017-11-18T00:00:00</td>\n",
       "      <td>1</td>\n",
       "      <td>NaN</td>\n",
       "      <td>14.0</td>\n",
       "      <td>20.50</td>\n",
       "      <td>5</td>\n",
       "      <td>NaN</td>\n",
       "      <td>...</td>\n",
       "      <td>7.60</td>\n",
       "      <td>1.0</td>\n",
       "      <td>Санкт-Петербург</td>\n",
       "      <td>12900.0</td>\n",
       "      <td>14259.0</td>\n",
       "      <td>1.0</td>\n",
       "      <td>590.0</td>\n",
       "      <td>1.0</td>\n",
       "      <td>296.0</td>\n",
       "      <td>19.0</td>\n",
       "    </tr>\n",
       "    <tr>\n",
       "      <th>16</th>\n",
       "      <td>11</td>\n",
       "      <td>6700000.0</td>\n",
       "      <td>82.00</td>\n",
       "      <td>2017-11-23T00:00:00</td>\n",
       "      <td>3</td>\n",
       "      <td>3.05</td>\n",
       "      <td>5.0</td>\n",
       "      <td>55.60</td>\n",
       "      <td>1</td>\n",
       "      <td>NaN</td>\n",
       "      <td>...</td>\n",
       "      <td>9.00</td>\n",
       "      <td>NaN</td>\n",
       "      <td>Санкт-Петербург</td>\n",
       "      <td>22108.0</td>\n",
       "      <td>10698.0</td>\n",
       "      <td>3.0</td>\n",
       "      <td>420.0</td>\n",
       "      <td>0.0</td>\n",
       "      <td>NaN</td>\n",
       "      <td>397.0</td>\n",
       "    </tr>\n",
       "    <tr>\n",
       "      <th>17</th>\n",
       "      <td>6</td>\n",
       "      <td>4180000.0</td>\n",
       "      <td>36.00</td>\n",
       "      <td>2016-09-09T00:00:00</td>\n",
       "      <td>1</td>\n",
       "      <td>NaN</td>\n",
       "      <td>17.0</td>\n",
       "      <td>16.50</td>\n",
       "      <td>7</td>\n",
       "      <td>NaN</td>\n",
       "      <td>...</td>\n",
       "      <td>11.00</td>\n",
       "      <td>1.0</td>\n",
       "      <td>Санкт-Петербург</td>\n",
       "      <td>33564.0</td>\n",
       "      <td>14616.0</td>\n",
       "      <td>0.0</td>\n",
       "      <td>NaN</td>\n",
       "      <td>1.0</td>\n",
       "      <td>859.0</td>\n",
       "      <td>571.0</td>\n",
       "    </tr>\n",
       "    <tr>\n",
       "      <th>18</th>\n",
       "      <td>8</td>\n",
       "      <td>3250000.0</td>\n",
       "      <td>31.00</td>\n",
       "      <td>2017-01-27T00:00:00</td>\n",
       "      <td>1</td>\n",
       "      <td>2.50</td>\n",
       "      <td>5.0</td>\n",
       "      <td>19.40</td>\n",
       "      <td>2</td>\n",
       "      <td>NaN</td>\n",
       "      <td>...</td>\n",
       "      <td>5.60</td>\n",
       "      <td>1.0</td>\n",
       "      <td>Санкт-Петербург</td>\n",
       "      <td>44060.0</td>\n",
       "      <td>10842.0</td>\n",
       "      <td>1.0</td>\n",
       "      <td>759.0</td>\n",
       "      <td>0.0</td>\n",
       "      <td>NaN</td>\n",
       "      <td>168.0</td>\n",
       "    </tr>\n",
       "    <tr>\n",
       "      <th>19</th>\n",
       "      <td>16</td>\n",
       "      <td>14200000.0</td>\n",
       "      <td>121.00</td>\n",
       "      <td>2019-01-09T00:00:00</td>\n",
       "      <td>3</td>\n",
       "      <td>2.75</td>\n",
       "      <td>16.0</td>\n",
       "      <td>76.00</td>\n",
       "      <td>8</td>\n",
       "      <td>NaN</td>\n",
       "      <td>...</td>\n",
       "      <td>12.00</td>\n",
       "      <td>NaN</td>\n",
       "      <td>Санкт-Петербург</td>\n",
       "      <td>38900.0</td>\n",
       "      <td>12843.0</td>\n",
       "      <td>0.0</td>\n",
       "      <td>NaN</td>\n",
       "      <td>0.0</td>\n",
       "      <td>NaN</td>\n",
       "      <td>97.0</td>\n",
       "    </tr>\n",
       "  </tbody>\n",
       "</table>\n",
       "<p>20 rows × 22 columns</p>\n",
       "</div>"
      ],
      "text/plain": [
       "    total_images  last_price  total_area first_day_exposition  rooms  \\\n",
       "0             20  13000000.0      108.00  2019-03-07T00:00:00      3   \n",
       "1              7   3350000.0       40.40  2018-12-04T00:00:00      1   \n",
       "2             10   5196000.0       56.00  2015-08-20T00:00:00      2   \n",
       "3              0  64900000.0      159.00  2015-07-24T00:00:00      3   \n",
       "4              2  10000000.0      100.00  2018-06-19T00:00:00      2   \n",
       "5             10   2890000.0       30.40  2018-09-10T00:00:00      1   \n",
       "6              6   3700000.0       37.30  2017-11-02T00:00:00      1   \n",
       "7              5   7915000.0       71.60  2019-04-18T00:00:00      2   \n",
       "8             20   2900000.0       33.16  2018-05-23T00:00:00      1   \n",
       "9             18   5400000.0       61.00  2017-02-26T00:00:00      3   \n",
       "10             5   5050000.0       39.60  2017-11-16T00:00:00      1   \n",
       "11             9   3300000.0       44.00  2018-08-27T00:00:00      2   \n",
       "12            10   3890000.0       54.00  2016-06-30T00:00:00      2   \n",
       "13            20   3550000.0       42.80  2017-07-01T00:00:00      2   \n",
       "14             1   4400000.0       36.00  2016-06-23T00:00:00      1   \n",
       "15            16   4650000.0       39.00  2017-11-18T00:00:00      1   \n",
       "16            11   6700000.0       82.00  2017-11-23T00:00:00      3   \n",
       "17             6   4180000.0       36.00  2016-09-09T00:00:00      1   \n",
       "18             8   3250000.0       31.00  2017-01-27T00:00:00      1   \n",
       "19            16  14200000.0      121.00  2019-01-09T00:00:00      3   \n",
       "\n",
       "    ceiling_height  floors_total  living_area  floor is_apartment  ...  \\\n",
       "0             2.70          16.0        51.00      8          NaN  ...   \n",
       "1              NaN          11.0        18.60      1          NaN  ...   \n",
       "2              NaN           5.0        34.30      4          NaN  ...   \n",
       "3              NaN          14.0          NaN      9          NaN  ...   \n",
       "4             3.03          14.0        32.00     13          NaN  ...   \n",
       "5              NaN          12.0        14.40      5          NaN  ...   \n",
       "6              NaN          26.0        10.60      6          NaN  ...   \n",
       "7              NaN          24.0          NaN     22          NaN  ...   \n",
       "8              NaN          27.0        15.43     26          NaN  ...   \n",
       "9             2.50           9.0        43.60      7          NaN  ...   \n",
       "10            2.67          12.0        20.30      3          NaN  ...   \n",
       "11             NaN           5.0        31.00      4        False  ...   \n",
       "12             NaN           5.0        30.00      5          NaN  ...   \n",
       "13            2.56           5.0        27.00      5          NaN  ...   \n",
       "14             NaN           6.0        17.00      1          NaN  ...   \n",
       "15             NaN          14.0        20.50      5          NaN  ...   \n",
       "16            3.05           5.0        55.60      1          NaN  ...   \n",
       "17             NaN          17.0        16.50      7          NaN  ...   \n",
       "18            2.50           5.0        19.40      2          NaN  ...   \n",
       "19            2.75          16.0        76.00      8          NaN  ...   \n",
       "\n",
       "    kitchen_area  balcony              locality_name  airports_nearest  \\\n",
       "0          25.00      NaN            Санкт-Петербург           18863.0   \n",
       "1          11.00      2.0             посёлок Шушары           12817.0   \n",
       "2           8.30      0.0            Санкт-Петербург           21741.0   \n",
       "3            NaN      0.0            Санкт-Петербург           28098.0   \n",
       "4          41.00      NaN            Санкт-Петербург           31856.0   \n",
       "5           9.10      NaN  городской посёлок Янино-1               NaN   \n",
       "6          14.40      1.0          посёлок Парголово           52996.0   \n",
       "7          18.90      2.0            Санкт-Петербург           23982.0   \n",
       "8           8.81      NaN             посёлок Мурино               NaN   \n",
       "9           6.50      2.0            Санкт-Петербург           50898.0   \n",
       "10          8.50      NaN            Санкт-Петербург           38357.0   \n",
       "11          6.00      1.0                  Ломоносов           48252.0   \n",
       "12          9.00      0.0                  Сертолово               NaN   \n",
       "13          5.20      1.0                   Петергоф           37868.0   \n",
       "14          8.00      0.0                     Пушкин           20782.0   \n",
       "15          7.60      1.0            Санкт-Петербург           12900.0   \n",
       "16          9.00      NaN            Санкт-Петербург           22108.0   \n",
       "17         11.00      1.0            Санкт-Петербург           33564.0   \n",
       "18          5.60      1.0            Санкт-Петербург           44060.0   \n",
       "19         12.00      NaN            Санкт-Петербург           38900.0   \n",
       "\n",
       "   cityCenters_nearest  parks_around3000  parks_nearest  ponds_around3000  \\\n",
       "0              16028.0               1.0          482.0               2.0   \n",
       "1              18603.0               0.0            NaN               0.0   \n",
       "2              13933.0               1.0           90.0               2.0   \n",
       "3               6800.0               2.0           84.0               3.0   \n",
       "4               8098.0               2.0          112.0               1.0   \n",
       "5                  NaN               NaN            NaN               NaN   \n",
       "6              19143.0               0.0            NaN               0.0   \n",
       "7              11634.0               0.0            NaN               0.0   \n",
       "8                  NaN               NaN            NaN               NaN   \n",
       "9              15008.0               0.0            NaN               0.0   \n",
       "10             13878.0               1.0          310.0               2.0   \n",
       "11             51677.0               0.0            NaN               0.0   \n",
       "12                 NaN               NaN            NaN               NaN   \n",
       "13             33058.0               1.0          294.0               3.0   \n",
       "14             30759.0               0.0            NaN               1.0   \n",
       "15             14259.0               1.0          590.0               1.0   \n",
       "16             10698.0               3.0          420.0               0.0   \n",
       "17             14616.0               0.0            NaN               1.0   \n",
       "18             10842.0               1.0          759.0               0.0   \n",
       "19             12843.0               0.0            NaN               0.0   \n",
       "\n",
       "    ponds_nearest  days_exposition  \n",
       "0           755.0              NaN  \n",
       "1             NaN             81.0  \n",
       "2           574.0            558.0  \n",
       "3           234.0            424.0  \n",
       "4            48.0            121.0  \n",
       "5             NaN             55.0  \n",
       "6             NaN            155.0  \n",
       "7             NaN              NaN  \n",
       "8             NaN            189.0  \n",
       "9             NaN            289.0  \n",
       "10          553.0            137.0  \n",
       "11            NaN              7.0  \n",
       "12            NaN             90.0  \n",
       "13          298.0            366.0  \n",
       "14           96.0            203.0  \n",
       "15          296.0             19.0  \n",
       "16            NaN            397.0  \n",
       "17          859.0            571.0  \n",
       "18            NaN            168.0  \n",
       "19            NaN             97.0  \n",
       "\n",
       "[20 rows x 22 columns]"
      ]
     },
     "execution_count": 2,
     "metadata": {},
     "output_type": "execute_result"
    }
   ],
   "source": [
    "data = pd.read_csv('/datasets/real_estate_data.csv', sep='\\t')\n",
    "data.head(20)"
   ]
  },
  {
   "cell_type": "markdown",
   "metadata": {},
   "source": [
    "Теперь посмотрим общую информацию о таблице:"
   ]
  },
  {
   "cell_type": "code",
   "execution_count": 3,
   "metadata": {},
   "outputs": [
    {
     "name": "stdout",
     "output_type": "stream",
     "text": [
      "<class 'pandas.core.frame.DataFrame'>\n",
      "RangeIndex: 23699 entries, 0 to 23698\n",
      "Data columns (total 22 columns):\n",
      " #   Column                Non-Null Count  Dtype  \n",
      "---  ------                --------------  -----  \n",
      " 0   total_images          23699 non-null  int64  \n",
      " 1   last_price            23699 non-null  float64\n",
      " 2   total_area            23699 non-null  float64\n",
      " 3   first_day_exposition  23699 non-null  object \n",
      " 4   rooms                 23699 non-null  int64  \n",
      " 5   ceiling_height        14504 non-null  float64\n",
      " 6   floors_total          23613 non-null  float64\n",
      " 7   living_area           21796 non-null  float64\n",
      " 8   floor                 23699 non-null  int64  \n",
      " 9   is_apartment          2775 non-null   object \n",
      " 10  studio                23699 non-null  bool   \n",
      " 11  open_plan             23699 non-null  bool   \n",
      " 12  kitchen_area          21421 non-null  float64\n",
      " 13  balcony               12180 non-null  float64\n",
      " 14  locality_name         23650 non-null  object \n",
      " 15  airports_nearest      18157 non-null  float64\n",
      " 16  cityCenters_nearest   18180 non-null  float64\n",
      " 17  parks_around3000      18181 non-null  float64\n",
      " 18  parks_nearest         8079 non-null   float64\n",
      " 19  ponds_around3000      18181 non-null  float64\n",
      " 20  ponds_nearest         9110 non-null   float64\n",
      " 21  days_exposition       20518 non-null  float64\n",
      "dtypes: bool(2), float64(14), int64(3), object(3)\n",
      "memory usage: 3.7+ MB\n"
     ]
    }
   ],
   "source": [
    "data.info()"
   ]
  },
  {
   "cell_type": "markdown",
   "metadata": {},
   "source": [
    "### Вывод"
   ]
  },
  {
   "cell_type": "markdown",
   "metadata": {},
   "source": [
    "Таблица состоит из 22 столбцов и 23699 строк, имея различные типы данных, а также пропущенные значения (высота потолков, всего этажей в доме, жилая площадь в квадратных метрах, апартаменты, площадь кухни в квадратных метрах, число балконов, название населенного пункта, расстояние до ближайшего аэропорта в метрах (м), расстояние до центра города (м), число парков в радиусе 3 км, расстояние до ближайшего парка (м), число водоёмов в радиусе 3 км, расстояние до ближайшего водоёма (м), сколько дней было размещено объявление (от публикации до снятия)."
   ]
  },
  {
   "cell_type": "markdown",
   "metadata": {},
   "source": [
    "## Предобработка данных"
   ]
  },
  {
   "cell_type": "markdown",
   "metadata": {},
   "source": [
    "### Определить и заполнить пропущенные значения"
   ]
  },
  {
   "cell_type": "markdown",
   "metadata": {},
   "source": [
    "Первые пропущенные значения встречаются в столбце \"высота потолков\". Проверим количество пропущенных значений в данном столбце:"
   ]
  },
  {
   "cell_type": "code",
   "execution_count": 4,
   "metadata": {},
   "outputs": [
    {
     "data": {
      "text/plain": [
       "9195"
      ]
     },
     "execution_count": 4,
     "metadata": {},
     "output_type": "execute_result"
    }
   ],
   "source": [
    "data['ceiling_height'].isnull().sum()"
   ]
  },
  {
   "cell_type": "markdown",
   "metadata": {},
   "source": [
    "Построим гистрограмму, чтобы посмотреть какая высота потолков встречается чаще всего:"
   ]
  },
  {
   "cell_type": "code",
   "execution_count": 5,
   "metadata": {},
   "outputs": [
    {
     "data": {
      "text/plain": [
       "Text(0.5, 1.0, 'Распределение квартир от высоты потолка')"
      ]
     },
     "execution_count": 5,
     "metadata": {},
     "output_type": "execute_result"
    },
    {
     "data": {
      "image/png": "[encoded data removed]",
      "text/plain": [
       "<Figure size 432x288 with 1 Axes>"
      ]
     },
     "metadata": {
      "needs_background": "light"
     },
     "output_type": "display_data"
    }
   ],
   "source": [
    "data['ceiling_height'].sort_values().plot(y = 'ceiling_height', kind = 'hist', bins = 20, range=(2, 6)).set_title('Распределение квартир от высоты потолка')"
   ]
  },
  {
   "cell_type": "markdown",
   "metadata": {},
   "source": [
    "Посмотрим числовое описание данных:"
   ]
  },
  {
   "cell_type": "code",
   "execution_count": 6,
   "metadata": {},
   "outputs": [
    {
     "data": {
      "text/plain": [
       "count    14504.000000\n",
       "mean         2.771499\n",
       "std          1.261056\n",
       "min          1.000000\n",
       "25%          2.520000\n",
       "50%          2.650000\n",
       "75%          2.800000\n",
       "max        100.000000\n",
       "Name: ceiling_height, dtype: float64"
      ]
     },
     "execution_count": 6,
     "metadata": {},
     "output_type": "execute_result"
    }
   ],
   "source": [
    "data['ceiling_height'].describe()"
   ]
  },
  {
   "cell_type": "markdown",
   "metadata": {},
   "source": [
    "Выведем на экран последниее 10 строк с максимальной высотой потолков:"
   ]
  },
  {
   "cell_type": "code",
   "execution_count": 7,
   "metadata": {},
   "outputs": [
    {
     "data": {
      "text/html": [
       "<div>\n",
       "<style scoped>\n",
       "    .dataframe tbody tr th:only-of-type {\n",
       "        vertical-align: middle;\n",
       "    }\n",
       "\n",
       "    .dataframe tbody tr th {\n",
       "        vertical-align: top;\n",
       "    }\n",
       "\n",
       "    .dataframe thead th {\n",
       "        text-align: right;\n",
       "    }\n",
       "</style>\n",
       "<table border=\"1\" class=\"dataframe\">\n",
       "  <thead>\n",
       "    <tr style=\"text-align: right;\">\n",
       "      <th></th>\n",
       "      <th>total_images</th>\n",
       "      <th>last_price</th>\n",
       "      <th>total_area</th>\n",
       "      <th>first_day_exposition</th>\n",
       "      <th>rooms</th>\n",
       "      <th>ceiling_height</th>\n",
       "      <th>floors_total</th>\n",
       "      <th>living_area</th>\n",
       "      <th>floor</th>\n",
       "      <th>is_apartment</th>\n",
       "      <th>...</th>\n",
       "      <th>kitchen_area</th>\n",
       "      <th>balcony</th>\n",
       "      <th>locality_name</th>\n",
       "      <th>airports_nearest</th>\n",
       "      <th>cityCenters_nearest</th>\n",
       "      <th>parks_around3000</th>\n",
       "      <th>parks_nearest</th>\n",
       "      <th>ponds_around3000</th>\n",
       "      <th>ponds_nearest</th>\n",
       "      <th>days_exposition</th>\n",
       "    </tr>\n",
       "  </thead>\n",
       "  <tbody>\n",
       "    <tr>\n",
       "      <th>21824</th>\n",
       "      <td>20</td>\n",
       "      <td>2450000.0</td>\n",
       "      <td>44.0</td>\n",
       "      <td>2019-02-12T00:00:00</td>\n",
       "      <td>2</td>\n",
       "      <td>27.0</td>\n",
       "      <td>2.0</td>\n",
       "      <td>38.0</td>\n",
       "      <td>2</td>\n",
       "      <td>False</td>\n",
       "      <td>...</td>\n",
       "      <td>8.6</td>\n",
       "      <td>2.0</td>\n",
       "      <td>городской поселок Большая Ижора</td>\n",
       "      <td>NaN</td>\n",
       "      <td>NaN</td>\n",
       "      <td>NaN</td>\n",
       "      <td>NaN</td>\n",
       "      <td>NaN</td>\n",
       "      <td>NaN</td>\n",
       "      <td>NaN</td>\n",
       "    </tr>\n",
       "    <tr>\n",
       "      <th>22938</th>\n",
       "      <td>14</td>\n",
       "      <td>4000000.0</td>\n",
       "      <td>98.0</td>\n",
       "      <td>2018-03-15T00:00:00</td>\n",
       "      <td>4</td>\n",
       "      <td>27.0</td>\n",
       "      <td>2.0</td>\n",
       "      <td>73.0</td>\n",
       "      <td>2</td>\n",
       "      <td>True</td>\n",
       "      <td>...</td>\n",
       "      <td>9.0</td>\n",
       "      <td>1.0</td>\n",
       "      <td>деревня Нижняя</td>\n",
       "      <td>NaN</td>\n",
       "      <td>NaN</td>\n",
       "      <td>NaN</td>\n",
       "      <td>NaN</td>\n",
       "      <td>NaN</td>\n",
       "      <td>NaN</td>\n",
       "      <td>27.0</td>\n",
       "    </tr>\n",
       "    <tr>\n",
       "      <th>4876</th>\n",
       "      <td>7</td>\n",
       "      <td>3000000.0</td>\n",
       "      <td>25.0</td>\n",
       "      <td>2017-09-27T00:00:00</td>\n",
       "      <td>0</td>\n",
       "      <td>27.0</td>\n",
       "      <td>25.0</td>\n",
       "      <td>17.0</td>\n",
       "      <td>17</td>\n",
       "      <td>NaN</td>\n",
       "      <td>...</td>\n",
       "      <td>NaN</td>\n",
       "      <td>2.0</td>\n",
       "      <td>посёлок Мурино</td>\n",
       "      <td>NaN</td>\n",
       "      <td>NaN</td>\n",
       "      <td>NaN</td>\n",
       "      <td>NaN</td>\n",
       "      <td>NaN</td>\n",
       "      <td>NaN</td>\n",
       "      <td>28.0</td>\n",
       "    </tr>\n",
       "    <tr>\n",
       "      <th>10773</th>\n",
       "      <td>8</td>\n",
       "      <td>3800000.0</td>\n",
       "      <td>58.0</td>\n",
       "      <td>2017-10-13T00:00:00</td>\n",
       "      <td>2</td>\n",
       "      <td>27.0</td>\n",
       "      <td>10.0</td>\n",
       "      <td>30.1</td>\n",
       "      <td>3</td>\n",
       "      <td>False</td>\n",
       "      <td>...</td>\n",
       "      <td>8.1</td>\n",
       "      <td>2.0</td>\n",
       "      <td>посёлок Мурино</td>\n",
       "      <td>NaN</td>\n",
       "      <td>NaN</td>\n",
       "      <td>NaN</td>\n",
       "      <td>NaN</td>\n",
       "      <td>NaN</td>\n",
       "      <td>NaN</td>\n",
       "      <td>71.0</td>\n",
       "    </tr>\n",
       "    <tr>\n",
       "      <th>20478</th>\n",
       "      <td>11</td>\n",
       "      <td>8000000.0</td>\n",
       "      <td>45.0</td>\n",
       "      <td>2017-07-18T00:00:00</td>\n",
       "      <td>1</td>\n",
       "      <td>27.0</td>\n",
       "      <td>4.0</td>\n",
       "      <td>22.0</td>\n",
       "      <td>2</td>\n",
       "      <td>NaN</td>\n",
       "      <td>...</td>\n",
       "      <td>10.0</td>\n",
       "      <td>1.0</td>\n",
       "      <td>Санкт-Петербург</td>\n",
       "      <td>18975.0</td>\n",
       "      <td>3246.0</td>\n",
       "      <td>0.0</td>\n",
       "      <td>NaN</td>\n",
       "      <td>3.0</td>\n",
       "      <td>449.0</td>\n",
       "      <td>429.0</td>\n",
       "    </tr>\n",
       "    <tr>\n",
       "      <th>17857</th>\n",
       "      <td>1</td>\n",
       "      <td>3900000.0</td>\n",
       "      <td>56.0</td>\n",
       "      <td>2017-12-22T00:00:00</td>\n",
       "      <td>3</td>\n",
       "      <td>27.0</td>\n",
       "      <td>5.0</td>\n",
       "      <td>33.0</td>\n",
       "      <td>4</td>\n",
       "      <td>False</td>\n",
       "      <td>...</td>\n",
       "      <td>NaN</td>\n",
       "      <td>NaN</td>\n",
       "      <td>Санкт-Петербург</td>\n",
       "      <td>41030.0</td>\n",
       "      <td>15543.0</td>\n",
       "      <td>0.0</td>\n",
       "      <td>NaN</td>\n",
       "      <td>0.0</td>\n",
       "      <td>NaN</td>\n",
       "      <td>73.0</td>\n",
       "    </tr>\n",
       "    <tr>\n",
       "      <th>21377</th>\n",
       "      <td>19</td>\n",
       "      <td>4900000.0</td>\n",
       "      <td>42.0</td>\n",
       "      <td>2017-04-18T00:00:00</td>\n",
       "      <td>1</td>\n",
       "      <td>27.5</td>\n",
       "      <td>24.0</td>\n",
       "      <td>37.7</td>\n",
       "      <td>19</td>\n",
       "      <td>False</td>\n",
       "      <td>...</td>\n",
       "      <td>11.0</td>\n",
       "      <td>2.0</td>\n",
       "      <td>Санкт-Петербург</td>\n",
       "      <td>42742.0</td>\n",
       "      <td>9760.0</td>\n",
       "      <td>0.0</td>\n",
       "      <td>NaN</td>\n",
       "      <td>0.0</td>\n",
       "      <td>NaN</td>\n",
       "      <td>61.0</td>\n",
       "    </tr>\n",
       "    <tr>\n",
       "      <th>22336</th>\n",
       "      <td>19</td>\n",
       "      <td>9999000.0</td>\n",
       "      <td>92.4</td>\n",
       "      <td>2019-04-05T00:00:00</td>\n",
       "      <td>2</td>\n",
       "      <td>32.0</td>\n",
       "      <td>6.0</td>\n",
       "      <td>55.5</td>\n",
       "      <td>5</td>\n",
       "      <td>False</td>\n",
       "      <td>...</td>\n",
       "      <td>16.5</td>\n",
       "      <td>4.0</td>\n",
       "      <td>Санкт-Петербург</td>\n",
       "      <td>18838.0</td>\n",
       "      <td>3506.0</td>\n",
       "      <td>0.0</td>\n",
       "      <td>NaN</td>\n",
       "      <td>3.0</td>\n",
       "      <td>511.0</td>\n",
       "      <td>NaN</td>\n",
       "    </tr>\n",
       "    <tr>\n",
       "      <th>3148</th>\n",
       "      <td>14</td>\n",
       "      <td>2900000.0</td>\n",
       "      <td>75.0</td>\n",
       "      <td>2018-11-12T00:00:00</td>\n",
       "      <td>3</td>\n",
       "      <td>32.0</td>\n",
       "      <td>3.0</td>\n",
       "      <td>53.0</td>\n",
       "      <td>2</td>\n",
       "      <td>NaN</td>\n",
       "      <td>...</td>\n",
       "      <td>8.0</td>\n",
       "      <td>NaN</td>\n",
       "      <td>Волхов</td>\n",
       "      <td>NaN</td>\n",
       "      <td>NaN</td>\n",
       "      <td>NaN</td>\n",
       "      <td>NaN</td>\n",
       "      <td>NaN</td>\n",
       "      <td>NaN</td>\n",
       "      <td>NaN</td>\n",
       "    </tr>\n",
       "    <tr>\n",
       "      <th>22869</th>\n",
       "      <td>0</td>\n",
       "      <td>15000000.0</td>\n",
       "      <td>25.0</td>\n",
       "      <td>2018-07-25T00:00:00</td>\n",
       "      <td>1</td>\n",
       "      <td>100.0</td>\n",
       "      <td>5.0</td>\n",
       "      <td>14.0</td>\n",
       "      <td>5</td>\n",
       "      <td>True</td>\n",
       "      <td>...</td>\n",
       "      <td>11.0</td>\n",
       "      <td>5.0</td>\n",
       "      <td>Санкт-Петербург</td>\n",
       "      <td>34963.0</td>\n",
       "      <td>8283.0</td>\n",
       "      <td>1.0</td>\n",
       "      <td>223.0</td>\n",
       "      <td>3.0</td>\n",
       "      <td>30.0</td>\n",
       "      <td>19.0</td>\n",
       "    </tr>\n",
       "  </tbody>\n",
       "</table>\n",
       "<p>10 rows × 22 columns</p>\n",
       "</div>"
      ],
      "text/plain": [
       "       total_images  last_price  total_area first_day_exposition  rooms  \\\n",
       "21824            20   2450000.0        44.0  2019-02-12T00:00:00      2   \n",
       "22938            14   4000000.0        98.0  2018-03-15T00:00:00      4   \n",
       "4876              7   3000000.0        25.0  2017-09-27T00:00:00      0   \n",
       "10773             8   3800000.0        58.0  2017-10-13T00:00:00      2   \n",
       "20478            11   8000000.0        45.0  2017-07-18T00:00:00      1   \n",
       "17857             1   3900000.0        56.0  2017-12-22T00:00:00      3   \n",
       "21377            19   4900000.0        42.0  2017-04-18T00:00:00      1   \n",
       "22336            19   9999000.0        92.4  2019-04-05T00:00:00      2   \n",
       "3148             14   2900000.0        75.0  2018-11-12T00:00:00      3   \n",
       "22869             0  15000000.0        25.0  2018-07-25T00:00:00      1   \n",
       "\n",
       "       ceiling_height  floors_total  living_area  floor is_apartment  ...  \\\n",
       "21824            27.0           2.0         38.0      2        False  ...   \n",
       "22938            27.0           2.0         73.0      2         True  ...   \n",
       "4876             27.0          25.0         17.0     17          NaN  ...   \n",
       "10773            27.0          10.0         30.1      3        False  ...   \n",
       "20478            27.0           4.0         22.0      2          NaN  ...   \n",
       "17857            27.0           5.0         33.0      4        False  ...   \n",
       "21377            27.5          24.0         37.7     19        False  ...   \n",
       "22336            32.0           6.0         55.5      5        False  ...   \n",
       "3148             32.0           3.0         53.0      2          NaN  ...   \n",
       "22869           100.0           5.0         14.0      5         True  ...   \n",
       "\n",
       "       kitchen_area  balcony                    locality_name  \\\n",
       "21824           8.6      2.0  городской поселок Большая Ижора   \n",
       "22938           9.0      1.0                   деревня Нижняя   \n",
       "4876            NaN      2.0                   посёлок Мурино   \n",
       "10773           8.1      2.0                   посёлок Мурино   \n",
       "20478          10.0      1.0                  Санкт-Петербург   \n",
       "17857           NaN      NaN                  Санкт-Петербург   \n",
       "21377          11.0      2.0                  Санкт-Петербург   \n",
       "22336          16.5      4.0                  Санкт-Петербург   \n",
       "3148            8.0      NaN                           Волхов   \n",
       "22869          11.0      5.0                  Санкт-Петербург   \n",
       "\n",
       "       airports_nearest cityCenters_nearest  parks_around3000  parks_nearest  \\\n",
       "21824               NaN                 NaN               NaN            NaN   \n",
       "22938               NaN                 NaN               NaN            NaN   \n",
       "4876                NaN                 NaN               NaN            NaN   \n",
       "10773               NaN                 NaN               NaN            NaN   \n",
       "20478           18975.0              3246.0               0.0            NaN   \n",
       "17857           41030.0             15543.0               0.0            NaN   \n",
       "21377           42742.0              9760.0               0.0            NaN   \n",
       "22336           18838.0              3506.0               0.0            NaN   \n",
       "3148                NaN                 NaN               NaN            NaN   \n",
       "22869           34963.0              8283.0               1.0          223.0   \n",
       "\n",
       "       ponds_around3000  ponds_nearest  days_exposition  \n",
       "21824               NaN            NaN              NaN  \n",
       "22938               NaN            NaN             27.0  \n",
       "4876                NaN            NaN             28.0  \n",
       "10773               NaN            NaN             71.0  \n",
       "20478               3.0          449.0            429.0  \n",
       "17857               0.0            NaN             73.0  \n",
       "21377               0.0            NaN             61.0  \n",
       "22336               3.0          511.0              NaN  \n",
       "3148                NaN            NaN              NaN  \n",
       "22869               3.0           30.0             19.0  \n",
       "\n",
       "[10 rows x 22 columns]"
      ]
     },
     "execution_count": 7,
     "metadata": {},
     "output_type": "execute_result"
    }
   ],
   "source": [
    "data[data['ceiling_height'] > 4].sort_values('ceiling_height').tail(10)"
   ]
  },
  {
   "cell_type": "markdown",
   "metadata": {},
   "source": [
    "Более 9000 пропущенных значений, возникших в результате того, что 1) люди не заполнли данную информацию, размещая объявление о продаже и 2) данные могли быть выгружены с разных источников, которые не хранили в себе информацию о высоте потолков. В данном случае пропуски нельзя заполнить по этому столбцу, т.к. с максимальной точностью это не сделать на основе имеющихся данных. В этом случае правильно оставить эти значения пустыми. Также мы можем наблюдать значения = потолки более 4 метров, даже встречаются высотой 32 м и 100 м, хоть и среднее значение почти не отличается от медианы. "
   ]
  },
  {
   "cell_type": "markdown",
   "metadata": {},
   "source": [
    "Далее посмотрим столбец \"количество этажей в доме\":"
   ]
  },
  {
   "cell_type": "code",
   "execution_count": 8,
   "metadata": {},
   "outputs": [
    {
     "data": {
      "text/plain": [
       "86"
      ]
     },
     "execution_count": 8,
     "metadata": {},
     "output_type": "execute_result"
    }
   ],
   "source": [
    "data['floors_total'].isnull().sum()"
   ]
  },
  {
   "cell_type": "markdown",
   "metadata": {},
   "source": [
    "86 пропушенных значений. Также оставим данные в этом столбце как есть."
   ]
  },
  {
   "cell_type": "markdown",
   "metadata": {},
   "source": [
    "Далее - \"жилая площадь в квадратных метрах(м²)\""
   ]
  },
  {
   "cell_type": "code",
   "execution_count": 9,
   "metadata": {},
   "outputs": [
    {
     "data": {
      "text/plain": [
       "count    21796.000000\n",
       "mean        34.457852\n",
       "std         22.030445\n",
       "min          2.000000\n",
       "25%         18.600000\n",
       "50%         30.000000\n",
       "75%         42.300000\n",
       "max        409.700000\n",
       "Name: living_area, dtype: float64"
      ]
     },
     "execution_count": 9,
     "metadata": {},
     "output_type": "execute_result"
    }
   ],
   "source": [
    "data['living_area'].describe()"
   ]
  },
  {
   "cell_type": "markdown",
   "metadata": {},
   "source": [
    "Слишком много цифр после запятой."
   ]
  },
  {
   "cell_type": "code",
   "execution_count": 10,
   "metadata": {},
   "outputs": [
    {
     "data": {
      "text/plain": [
       "1903"
      ]
     },
     "execution_count": 10,
     "metadata": {},
     "output_type": "execute_result"
    }
   ],
   "source": [
    "data['living_area'].isnull().sum()"
   ]
  },
  {
   "cell_type": "markdown",
   "metadata": {},
   "source": [
    "Также посмотрии на столбец \"площадь кухни\":"
   ]
  },
  {
   "cell_type": "code",
   "execution_count": 11,
   "metadata": {},
   "outputs": [
    {
     "data": {
      "text/plain": [
       "2278"
      ]
     },
     "execution_count": 11,
     "metadata": {},
     "output_type": "execute_result"
    }
   ],
   "source": [
    "data['kitchen_area'].isnull().sum()"
   ]
  },
  {
   "cell_type": "code",
   "execution_count": 12,
   "metadata": {},
   "outputs": [
    {
     "data": {
      "text/plain": [
       "count    21421.000000\n",
       "mean        10.569807\n",
       "std          5.905438\n",
       "min          1.300000\n",
       "25%          7.000000\n",
       "50%          9.100000\n",
       "75%         12.000000\n",
       "max        112.000000\n",
       "Name: kitchen_area, dtype: float64"
      ]
     },
     "execution_count": 12,
     "metadata": {},
     "output_type": "execute_result"
    }
   ],
   "source": [
    "data['kitchen_area'].describe()"
   ]
  },
  {
   "cell_type": "markdown",
   "metadata": {},
   "source": [
    "1903 и 2278 пропусков в столбцах \"жилая площадь\" и \"площадь кухни\" соответственно. Медиана от среднего почти не отличается. Даже учитывая, что встречаются кухни площадью 112 кв. м. или квартира с жилой площадью почти 410 кв. м. Также оставим значения как они есть."
   ]
  },
  {
   "cell_type": "markdown",
   "metadata": {},
   "source": [
    "Столбец \"явлется ли объект недвижимости - апартаментами\". Имеет тип данных - \"object\". Заполнены в нем только 2775 строк из 23699. Вохможная причина: столбец появился на сайте совсем недавно. Заполним остальные строки значением False:"
   ]
  },
  {
   "cell_type": "code",
   "execution_count": 13,
   "metadata": {},
   "outputs": [
    {
     "data": {
      "text/plain": [
       "False    23649\n",
       "True        50\n",
       "Name: is_apartment, dtype: int64"
      ]
     },
     "execution_count": 13,
     "metadata": {},
     "output_type": "execute_result"
    }
   ],
   "source": [
    "data['is_apartment'] = data['is_apartment'].fillna(False)\n",
    "data['is_apartment'].value_counts()"
   ]
  },
  {
   "cell_type": "markdown",
   "metadata": {},
   "source": [
    "Количество балконов:"
   ]
  },
  {
   "cell_type": "code",
   "execution_count": 14,
   "metadata": {},
   "outputs": [
    {
     "data": {
      "text/plain": [
       "1.0    4195\n",
       "0.0    3758\n",
       "2.0    3659\n",
       "5.0     304\n",
       "4.0     183\n",
       "3.0      81\n",
       "Name: balcony, dtype: int64"
      ]
     },
     "execution_count": 14,
     "metadata": {},
     "output_type": "execute_result"
    }
   ],
   "source": [
    "data['balcony'].value_counts()"
   ]
  },
  {
   "cell_type": "code",
   "execution_count": 15,
   "metadata": {},
   "outputs": [
    {
     "data": {
      "text/plain": [
       "1.0    4195\n",
       "0.0    3758\n",
       "2.0    3659\n",
       "5.0     304\n",
       "4.0     183\n",
       "3.0      81\n",
       "Name: balcony, dtype: int64"
      ]
     },
     "execution_count": 15,
     "metadata": {},
     "output_type": "execute_result"
    }
   ],
   "source": [
    "data['balcony'].value_counts()"
   ]
  },
  {
   "cell_type": "markdown",
   "metadata": {},
   "source": [
    "Здесь можно предположить логичную замену. Например, если человек не указал число балконов — скорее всего, их нет. Такие пропуски правильно заменить на 0."
   ]
  },
  {
   "cell_type": "code",
   "execution_count": 16,
   "metadata": {},
   "outputs": [],
   "source": [
    "data['balcony'] = data['balcony'].fillna(0)"
   ]
  },
  {
   "cell_type": "markdown",
   "metadata": {},
   "source": [
    "Cтолбец \"название населенного пункта\":"
   ]
  },
  {
   "cell_type": "code",
   "execution_count": 17,
   "metadata": {},
   "outputs": [
    {
     "data": {
      "text/plain": [
       "Санкт-Петербург                     15721\n",
       "посёлок Мурино                        522\n",
       "посёлок Шушары                        440\n",
       "Всеволожск                            398\n",
       "Пушкин                                369\n",
       "                                    ...  \n",
       "садовое товарищество Новая Ропша        1\n",
       "поселок Володарское                     1\n",
       "поселок Гончарово                       1\n",
       "посёлок Мыза-Ивановка                   1\n",
       "деревня Тойворово                       1\n",
       "Name: locality_name, Length: 364, dtype: int64"
      ]
     },
     "execution_count": 17,
     "metadata": {},
     "output_type": "execute_result"
    }
   ],
   "source": [
    "data['locality_name'].value_counts()"
   ]
  },
  {
   "cell_type": "markdown",
   "metadata": {},
   "source": [
    "Причина пропусков неизвестна. Оставим данные такими какие они есть."
   ]
  },
  {
   "cell_type": "markdown",
   "metadata": {},
   "source": [
    "Столбцы \"расстояние до ближайшего аэропорта в метрах (м)\", \"расстояние до центра города (м)\", \"число парков в радиусе 3 км, расстояние до ближайшего парка (м)\", \"число водоёмов в радиусе 3 км\", \"расстояние до ближайшего водоёма (м)\":"
   ]
  },
  {
   "cell_type": "code",
   "execution_count": 18,
   "metadata": {},
   "outputs": [
    {
     "data": {
      "text/plain": [
       "8460.0     61\n",
       "20802.0    32\n",
       "10720.0    30\n",
       "8434.0     27\n",
       "20444.0    27\n",
       "           ..\n",
       "5278.0      1\n",
       "11575.0     1\n",
       "3205.0      1\n",
       "12747.0     1\n",
       "4234.0      1\n",
       "Name: cityCenters_nearest, Length: 7642, dtype: int64"
      ]
     },
     "execution_count": 18,
     "metadata": {},
     "output_type": "execute_result"
    }
   ],
   "source": [
    "data['cityCenters_nearest'].value_counts()"
   ]
  },
  {
   "cell_type": "code",
   "execution_count": 19,
   "metadata": {},
   "outputs": [
    {
     "data": {
      "text/plain": [
       "0.0    10106\n",
       "1.0     5681\n",
       "2.0     1747\n",
       "3.0      647\n",
       "Name: parks_around3000, dtype: int64"
      ]
     },
     "execution_count": 19,
     "metadata": {},
     "output_type": "execute_result"
    }
   ],
   "source": [
    "data['parks_around3000'].value_counts()"
   ]
  },
  {
   "cell_type": "code",
   "execution_count": 20,
   "metadata": {},
   "outputs": [
    {
     "data": {
      "text/plain": [
       "441.0     67\n",
       "392.0     41\n",
       "173.0     41\n",
       "456.0     40\n",
       "471.0     32\n",
       "          ..\n",
       "2489.0     1\n",
       "786.0      1\n",
       "793.0      1\n",
       "92.0       1\n",
       "929.0      1\n",
       "Name: parks_nearest, Length: 995, dtype: int64"
      ]
     },
     "execution_count": 20,
     "metadata": {},
     "output_type": "execute_result"
    }
   ],
   "source": [
    "data['parks_nearest'].value_counts()"
   ]
  },
  {
   "cell_type": "code",
   "execution_count": 21,
   "metadata": {},
   "outputs": [
    {
     "data": {
      "text/plain": [
       "0.0    9071\n",
       "1.0    5717\n",
       "2.0    1892\n",
       "3.0    1501\n",
       "Name: ponds_around3000, dtype: int64"
      ]
     },
     "execution_count": 21,
     "metadata": {},
     "output_type": "execute_result"
    }
   ],
   "source": [
    "data['ponds_around3000'].value_counts()"
   ]
  },
  {
   "cell_type": "code",
   "execution_count": 22,
   "metadata": {},
   "outputs": [
    {
     "data": {
      "text/plain": [
       "427.0     70\n",
       "454.0     41\n",
       "153.0     40\n",
       "433.0     39\n",
       "564.0     37\n",
       "          ..\n",
       "1075.0     1\n",
       "74.0       1\n",
       "1236.0     1\n",
       "395.0      1\n",
       "995.0      1\n",
       "Name: ponds_nearest, Length: 1096, dtype: int64"
      ]
     },
     "execution_count": 22,
     "metadata": {},
     "output_type": "execute_result"
    }
   ],
   "source": [
    "data['ponds_nearest'].value_counts()"
   ]
  },
  {
   "cell_type": "markdown",
   "metadata": {},
   "source": [
    "Каких-либо ошибок в данных столбцах на первый взгляд нет. Оставим данные здесь как есть."
   ]
  },
  {
   "cell_type": "markdown",
   "metadata": {},
   "source": [
    "Рассмотрим столбец \"сколько дней было размещено объявление (от публикации до снятия)\":"
   ]
  },
  {
   "cell_type": "code",
   "execution_count": 23,
   "metadata": {},
   "outputs": [
    {
     "data": {
      "text/plain": [
       "count    20518.000000\n",
       "mean       180.888634\n",
       "std        219.727988\n",
       "min          1.000000\n",
       "25%         45.000000\n",
       "50%         95.000000\n",
       "75%        232.000000\n",
       "max       1580.000000\n",
       "Name: days_exposition, dtype: float64"
      ]
     },
     "execution_count": 23,
     "metadata": {},
     "output_type": "execute_result"
    }
   ],
   "source": [
    "data['days_exposition'].describe()"
   ]
  },
  {
   "cell_type": "markdown",
   "metadata": {},
   "source": [
    "Причина возникновения пропусков в данном столбце неизвестна. Заменим пропущенные значения на 0 (нули)."
   ]
  },
  {
   "cell_type": "code",
   "execution_count": 24,
   "metadata": {},
   "outputs": [],
   "source": [
    "data['days_exposition'] = data['days_exposition'].fillna(0)"
   ]
  },
  {
   "cell_type": "markdown",
   "metadata": {},
   "source": [
    "Округлим значения в столбце:"
   ]
  },
  {
   "cell_type": "code",
   "execution_count": 25,
   "metadata": {},
   "outputs": [
    {
     "data": {
      "text/plain": [
       "0          0.0\n",
       "1         81.0\n",
       "2        558.0\n",
       "3        424.0\n",
       "4        121.0\n",
       "         ...  \n",
       "23694      0.0\n",
       "23695     45.0\n",
       "23696      0.0\n",
       "23697    602.0\n",
       "23698      0.0\n",
       "Name: days_exposition, Length: 23699, dtype: float64"
      ]
     },
     "execution_count": 25,
     "metadata": {},
     "output_type": "execute_result"
    }
   ],
   "source": [
    "data['days_exposition'].round()"
   ]
  },
  {
   "cell_type": "markdown",
   "metadata": {},
   "source": [
    "Заменили пропуски в столбце количество балконов исходя из логики, что если человек не указал их = значит их нет. Также в столбце \"является ли объект апартаментами\" произвели заполнение пропусков на False, поскольку столбец повился на сайте, скорее всего, недавно. В остальных случаях - заполнение пропусков невозможно, т.к. с максимальной точностью это не сделать на основе имеющихся данных."
   ]
  },
  {
   "cell_type": "markdown",
   "metadata": {},
   "source": [
    "### Приведение типов данных"
   ]
  },
  {
   "cell_type": "markdown",
   "metadata": {},
   "source": [
    "Из пункта 1 следует, что у столбцов \"количество балконов\", а также \"цена на момент снятия публикации\" и \"количество дней с момента публикации объявления\" тип данных float вместо целочисленного int. Приведем из к корректному типу:"
   ]
  },
  {
   "cell_type": "code",
   "execution_count": 26,
   "metadata": {},
   "outputs": [],
   "source": [
    "data['balcony'] = data['balcony'].astype('int')\n",
    "data['last_price'] = data['last_price'].astype('int')\n",
    "data['days_exposition'] = data['days_exposition'].astype('int')"
   ]
  },
  {
   "cell_type": "markdown",
   "metadata": {},
   "source": [
    "Столбец \"является ли объект апартаментами\" - тип object, вместо булевого значения. Сделаем преобразование типа:"
   ]
  },
  {
   "cell_type": "code",
   "execution_count": 27,
   "metadata": {},
   "outputs": [],
   "source": [
    "data['is_apartment'] = data['is_apartment'].astype('bool')"
   ]
  },
  {
   "cell_type": "markdown",
   "metadata": {},
   "source": [
    "\"Дата публикации объявляения\" должна хранится в столбце с типом данных datetime, а не в строковом значении. Также сделаем преобразование типа:"
   ]
  },
  {
   "cell_type": "code",
   "execution_count": 28,
   "metadata": {},
   "outputs": [],
   "source": [
    "data['first_day_exposition'] = pd.to_datetime(data['first_day_exposition'], format = '%Y-%m-%d')"
   ]
  },
  {
   "cell_type": "code",
   "execution_count": 29,
   "metadata": {},
   "outputs": [
    {
     "name": "stdout",
     "output_type": "stream",
     "text": [
      "<class 'pandas.core.frame.DataFrame'>\n",
      "RangeIndex: 23699 entries, 0 to 23698\n",
      "Data columns (total 22 columns):\n",
      " #   Column                Non-Null Count  Dtype         \n",
      "---  ------                --------------  -----         \n",
      " 0   total_images          23699 non-null  int64         \n",
      " 1   last_price            23699 non-null  int64         \n",
      " 2   total_area            23699 non-null  float64       \n",
      " 3   first_day_exposition  23699 non-null  datetime64[ns]\n",
      " 4   rooms                 23699 non-null  int64         \n",
      " 5   ceiling_height        14504 non-null  float64       \n",
      " 6   floors_total          23613 non-null  float64       \n",
      " 7   living_area           21796 non-null  float64       \n",
      " 8   floor                 23699 non-null  int64         \n",
      " 9   is_apartment          23699 non-null  bool          \n",
      " 10  studio                23699 non-null  bool          \n",
      " 11  open_plan             23699 non-null  bool          \n",
      " 12  kitchen_area          21421 non-null  float64       \n",
      " 13  balcony               23699 non-null  int64         \n",
      " 14  locality_name         23650 non-null  object        \n",
      " 15  airports_nearest      18157 non-null  float64       \n",
      " 16  cityCenters_nearest   18180 non-null  float64       \n",
      " 17  parks_around3000      18181 non-null  float64       \n",
      " 18  parks_nearest         8079 non-null   float64       \n",
      " 19  ponds_around3000      18181 non-null  float64       \n",
      " 20  ponds_nearest         9110 non-null   float64       \n",
      " 21  days_exposition       23699 non-null  int64         \n",
      "dtypes: bool(3), datetime64[ns](1), float64(11), int64(6), object(1)\n",
      "memory usage: 3.5+ MB\n"
     ]
    }
   ],
   "source": [
    "data.info()"
   ]
  },
  {
   "cell_type": "markdown",
   "metadata": {},
   "source": [
    "Вызвав метод info() выше, мы заметили, что в таблице имеются различные типы данных, некоторые из них не соответствуют хранимой в них информации. Например: значения в столбце \"количество дней с момента публикации объявления\" хранится в числах с плавающей точкой, как и \"количество балконов\". Также столбец \"является ли объект апартаментами\" - тип object, хотя это булевое значение + информация в столбце \"дата публикации\" должна хранится не в строковом значении, а в datetime. Произвели замену на верный тип данных методами astype() и to_datetime()."
   ]
  },
  {
   "cell_type": "markdown",
   "metadata": {},
   "source": [
    "## Расчёты и добавление результатов в таблицу"
   ]
  },
  {
   "cell_type": "markdown",
   "metadata": {},
   "source": [
    "Добавим с таблицу столбец \"цена квадратного метра\". Для этого будем использовать данные из столбцов \"площадь квартиры в квадратных метрах (м²)\" и \"цена на момент снятия с публикации\"."
   ]
  },
  {
   "cell_type": "code",
   "execution_count": 30,
   "metadata": {},
   "outputs": [
    {
     "data": {
      "text/html": [
       "<div>\n",
       "<style scoped>\n",
       "    .dataframe tbody tr th:only-of-type {\n",
       "        vertical-align: middle;\n",
       "    }\n",
       "\n",
       "    .dataframe tbody tr th {\n",
       "        vertical-align: top;\n",
       "    }\n",
       "\n",
       "    .dataframe thead th {\n",
       "        text-align: right;\n",
       "    }\n",
       "</style>\n",
       "<table border=\"1\" class=\"dataframe\">\n",
       "  <thead>\n",
       "    <tr style=\"text-align: right;\">\n",
       "      <th></th>\n",
       "      <th>total_images</th>\n",
       "      <th>last_price</th>\n",
       "      <th>total_area</th>\n",
       "      <th>first_day_exposition</th>\n",
       "      <th>rooms</th>\n",
       "      <th>ceiling_height</th>\n",
       "      <th>floors_total</th>\n",
       "      <th>living_area</th>\n",
       "      <th>floor</th>\n",
       "      <th>is_apartment</th>\n",
       "      <th>...</th>\n",
       "      <th>balcony</th>\n",
       "      <th>locality_name</th>\n",
       "      <th>airports_nearest</th>\n",
       "      <th>cityCenters_nearest</th>\n",
       "      <th>parks_around3000</th>\n",
       "      <th>parks_nearest</th>\n",
       "      <th>ponds_around3000</th>\n",
       "      <th>ponds_nearest</th>\n",
       "      <th>days_exposition</th>\n",
       "      <th>price_per_square_meter</th>\n",
       "    </tr>\n",
       "  </thead>\n",
       "  <tbody>\n",
       "    <tr>\n",
       "      <th>0</th>\n",
       "      <td>20</td>\n",
       "      <td>13000000</td>\n",
       "      <td>108.0</td>\n",
       "      <td>2019-03-07</td>\n",
       "      <td>3</td>\n",
       "      <td>2.70</td>\n",
       "      <td>16.0</td>\n",
       "      <td>51.0</td>\n",
       "      <td>8</td>\n",
       "      <td>False</td>\n",
       "      <td>...</td>\n",
       "      <td>0</td>\n",
       "      <td>Санкт-Петербург</td>\n",
       "      <td>18863.0</td>\n",
       "      <td>16028.0</td>\n",
       "      <td>1.0</td>\n",
       "      <td>482.0</td>\n",
       "      <td>2.0</td>\n",
       "      <td>755.0</td>\n",
       "      <td>0</td>\n",
       "      <td>120370.370370</td>\n",
       "    </tr>\n",
       "    <tr>\n",
       "      <th>1</th>\n",
       "      <td>7</td>\n",
       "      <td>3350000</td>\n",
       "      <td>40.4</td>\n",
       "      <td>2018-12-04</td>\n",
       "      <td>1</td>\n",
       "      <td>NaN</td>\n",
       "      <td>11.0</td>\n",
       "      <td>18.6</td>\n",
       "      <td>1</td>\n",
       "      <td>False</td>\n",
       "      <td>...</td>\n",
       "      <td>2</td>\n",
       "      <td>посёлок Шушары</td>\n",
       "      <td>12817.0</td>\n",
       "      <td>18603.0</td>\n",
       "      <td>0.0</td>\n",
       "      <td>NaN</td>\n",
       "      <td>0.0</td>\n",
       "      <td>NaN</td>\n",
       "      <td>81</td>\n",
       "      <td>82920.792079</td>\n",
       "    </tr>\n",
       "    <tr>\n",
       "      <th>2</th>\n",
       "      <td>10</td>\n",
       "      <td>5196000</td>\n",
       "      <td>56.0</td>\n",
       "      <td>2015-08-20</td>\n",
       "      <td>2</td>\n",
       "      <td>NaN</td>\n",
       "      <td>5.0</td>\n",
       "      <td>34.3</td>\n",
       "      <td>4</td>\n",
       "      <td>False</td>\n",
       "      <td>...</td>\n",
       "      <td>0</td>\n",
       "      <td>Санкт-Петербург</td>\n",
       "      <td>21741.0</td>\n",
       "      <td>13933.0</td>\n",
       "      <td>1.0</td>\n",
       "      <td>90.0</td>\n",
       "      <td>2.0</td>\n",
       "      <td>574.0</td>\n",
       "      <td>558</td>\n",
       "      <td>92785.714286</td>\n",
       "    </tr>\n",
       "    <tr>\n",
       "      <th>3</th>\n",
       "      <td>0</td>\n",
       "      <td>64900000</td>\n",
       "      <td>159.0</td>\n",
       "      <td>2015-07-24</td>\n",
       "      <td>3</td>\n",
       "      <td>NaN</td>\n",
       "      <td>14.0</td>\n",
       "      <td>NaN</td>\n",
       "      <td>9</td>\n",
       "      <td>False</td>\n",
       "      <td>...</td>\n",
       "      <td>0</td>\n",
       "      <td>Санкт-Петербург</td>\n",
       "      <td>28098.0</td>\n",
       "      <td>6800.0</td>\n",
       "      <td>2.0</td>\n",
       "      <td>84.0</td>\n",
       "      <td>3.0</td>\n",
       "      <td>234.0</td>\n",
       "      <td>424</td>\n",
       "      <td>408176.100629</td>\n",
       "    </tr>\n",
       "    <tr>\n",
       "      <th>4</th>\n",
       "      <td>2</td>\n",
       "      <td>10000000</td>\n",
       "      <td>100.0</td>\n",
       "      <td>2018-06-19</td>\n",
       "      <td>2</td>\n",
       "      <td>3.03</td>\n",
       "      <td>14.0</td>\n",
       "      <td>32.0</td>\n",
       "      <td>13</td>\n",
       "      <td>False</td>\n",
       "      <td>...</td>\n",
       "      <td>0</td>\n",
       "      <td>Санкт-Петербург</td>\n",
       "      <td>31856.0</td>\n",
       "      <td>8098.0</td>\n",
       "      <td>2.0</td>\n",
       "      <td>112.0</td>\n",
       "      <td>1.0</td>\n",
       "      <td>48.0</td>\n",
       "      <td>121</td>\n",
       "      <td>100000.000000</td>\n",
       "    </tr>\n",
       "  </tbody>\n",
       "</table>\n",
       "<p>5 rows × 23 columns</p>\n",
       "</div>"
      ],
      "text/plain": [
       "   total_images  last_price  total_area first_day_exposition  rooms  \\\n",
       "0            20    13000000       108.0           2019-03-07      3   \n",
       "1             7     3350000        40.4           2018-12-04      1   \n",
       "2            10     5196000        56.0           2015-08-20      2   \n",
       "3             0    64900000       159.0           2015-07-24      3   \n",
       "4             2    10000000       100.0           2018-06-19      2   \n",
       "\n",
       "   ceiling_height  floors_total  living_area  floor  is_apartment  ...  \\\n",
       "0            2.70          16.0         51.0      8         False  ...   \n",
       "1             NaN          11.0         18.6      1         False  ...   \n",
       "2             NaN           5.0         34.3      4         False  ...   \n",
       "3             NaN          14.0          NaN      9         False  ...   \n",
       "4            3.03          14.0         32.0     13         False  ...   \n",
       "\n",
       "   balcony    locality_name  airports_nearest  cityCenters_nearest  \\\n",
       "0        0  Санкт-Петербург           18863.0              16028.0   \n",
       "1        2   посёлок Шушары           12817.0              18603.0   \n",
       "2        0  Санкт-Петербург           21741.0              13933.0   \n",
       "3        0  Санкт-Петербург           28098.0               6800.0   \n",
       "4        0  Санкт-Петербург           31856.0               8098.0   \n",
       "\n",
       "  parks_around3000  parks_nearest  ponds_around3000  ponds_nearest  \\\n",
       "0              1.0          482.0               2.0          755.0   \n",
       "1              0.0            NaN               0.0            NaN   \n",
       "2              1.0           90.0               2.0          574.0   \n",
       "3              2.0           84.0               3.0          234.0   \n",
       "4              2.0          112.0               1.0           48.0   \n",
       "\n",
       "   days_exposition  price_per_square_meter  \n",
       "0                0           120370.370370  \n",
       "1               81            82920.792079  \n",
       "2              558            92785.714286  \n",
       "3              424           408176.100629  \n",
       "4              121           100000.000000  \n",
       "\n",
       "[5 rows x 23 columns]"
      ]
     },
     "execution_count": 30,
     "metadata": {},
     "output_type": "execute_result"
    }
   ],
   "source": [
    "data['price_per_square_meter'] = data['last_price'] / data['total_area']\n",
    "data.head()"
   ]
  },
  {
   "cell_type": "markdown",
   "metadata": {},
   "source": [
    "Много знаков после запятой. Приведем данные к целому числу:"
   ]
  },
  {
   "cell_type": "code",
   "execution_count": 31,
   "metadata": {},
   "outputs": [
    {
     "data": {
      "text/html": [
       "<div>\n",
       "<style scoped>\n",
       "    .dataframe tbody tr th:only-of-type {\n",
       "        vertical-align: middle;\n",
       "    }\n",
       "\n",
       "    .dataframe tbody tr th {\n",
       "        vertical-align: top;\n",
       "    }\n",
       "\n",
       "    .dataframe thead th {\n",
       "        text-align: right;\n",
       "    }\n",
       "</style>\n",
       "<table border=\"1\" class=\"dataframe\">\n",
       "  <thead>\n",
       "    <tr style=\"text-align: right;\">\n",
       "      <th></th>\n",
       "      <th>total_images</th>\n",
       "      <th>last_price</th>\n",
       "      <th>total_area</th>\n",
       "      <th>first_day_exposition</th>\n",
       "      <th>rooms</th>\n",
       "      <th>ceiling_height</th>\n",
       "      <th>floors_total</th>\n",
       "      <th>living_area</th>\n",
       "      <th>floor</th>\n",
       "      <th>is_apartment</th>\n",
       "      <th>...</th>\n",
       "      <th>balcony</th>\n",
       "      <th>locality_name</th>\n",
       "      <th>airports_nearest</th>\n",
       "      <th>cityCenters_nearest</th>\n",
       "      <th>parks_around3000</th>\n",
       "      <th>parks_nearest</th>\n",
       "      <th>ponds_around3000</th>\n",
       "      <th>ponds_nearest</th>\n",
       "      <th>days_exposition</th>\n",
       "      <th>price_per_square_meter</th>\n",
       "    </tr>\n",
       "  </thead>\n",
       "  <tbody>\n",
       "    <tr>\n",
       "      <th>0</th>\n",
       "      <td>20</td>\n",
       "      <td>13000000</td>\n",
       "      <td>108.0</td>\n",
       "      <td>2019-03-07</td>\n",
       "      <td>3</td>\n",
       "      <td>2.70</td>\n",
       "      <td>16.0</td>\n",
       "      <td>51.0</td>\n",
       "      <td>8</td>\n",
       "      <td>False</td>\n",
       "      <td>...</td>\n",
       "      <td>0</td>\n",
       "      <td>Санкт-Петербург</td>\n",
       "      <td>18863.0</td>\n",
       "      <td>16028.0</td>\n",
       "      <td>1.0</td>\n",
       "      <td>482.0</td>\n",
       "      <td>2.0</td>\n",
       "      <td>755.0</td>\n",
       "      <td>0</td>\n",
       "      <td>120370</td>\n",
       "    </tr>\n",
       "    <tr>\n",
       "      <th>1</th>\n",
       "      <td>7</td>\n",
       "      <td>3350000</td>\n",
       "      <td>40.4</td>\n",
       "      <td>2018-12-04</td>\n",
       "      <td>1</td>\n",
       "      <td>NaN</td>\n",
       "      <td>11.0</td>\n",
       "      <td>18.6</td>\n",
       "      <td>1</td>\n",
       "      <td>False</td>\n",
       "      <td>...</td>\n",
       "      <td>2</td>\n",
       "      <td>посёлок Шушары</td>\n",
       "      <td>12817.0</td>\n",
       "      <td>18603.0</td>\n",
       "      <td>0.0</td>\n",
       "      <td>NaN</td>\n",
       "      <td>0.0</td>\n",
       "      <td>NaN</td>\n",
       "      <td>81</td>\n",
       "      <td>82920</td>\n",
       "    </tr>\n",
       "    <tr>\n",
       "      <th>2</th>\n",
       "      <td>10</td>\n",
       "      <td>5196000</td>\n",
       "      <td>56.0</td>\n",
       "      <td>2015-08-20</td>\n",
       "      <td>2</td>\n",
       "      <td>NaN</td>\n",
       "      <td>5.0</td>\n",
       "      <td>34.3</td>\n",
       "      <td>4</td>\n",
       "      <td>False</td>\n",
       "      <td>...</td>\n",
       "      <td>0</td>\n",
       "      <td>Санкт-Петербург</td>\n",
       "      <td>21741.0</td>\n",
       "      <td>13933.0</td>\n",
       "      <td>1.0</td>\n",
       "      <td>90.0</td>\n",
       "      <td>2.0</td>\n",
       "      <td>574.0</td>\n",
       "      <td>558</td>\n",
       "      <td>92785</td>\n",
       "    </tr>\n",
       "    <tr>\n",
       "      <th>3</th>\n",
       "      <td>0</td>\n",
       "      <td>64900000</td>\n",
       "      <td>159.0</td>\n",
       "      <td>2015-07-24</td>\n",
       "      <td>3</td>\n",
       "      <td>NaN</td>\n",
       "      <td>14.0</td>\n",
       "      <td>NaN</td>\n",
       "      <td>9</td>\n",
       "      <td>False</td>\n",
       "      <td>...</td>\n",
       "      <td>0</td>\n",
       "      <td>Санкт-Петербург</td>\n",
       "      <td>28098.0</td>\n",
       "      <td>6800.0</td>\n",
       "      <td>2.0</td>\n",
       "      <td>84.0</td>\n",
       "      <td>3.0</td>\n",
       "      <td>234.0</td>\n",
       "      <td>424</td>\n",
       "      <td>408176</td>\n",
       "    </tr>\n",
       "    <tr>\n",
       "      <th>4</th>\n",
       "      <td>2</td>\n",
       "      <td>10000000</td>\n",
       "      <td>100.0</td>\n",
       "      <td>2018-06-19</td>\n",
       "      <td>2</td>\n",
       "      <td>3.03</td>\n",
       "      <td>14.0</td>\n",
       "      <td>32.0</td>\n",
       "      <td>13</td>\n",
       "      <td>False</td>\n",
       "      <td>...</td>\n",
       "      <td>0</td>\n",
       "      <td>Санкт-Петербург</td>\n",
       "      <td>31856.0</td>\n",
       "      <td>8098.0</td>\n",
       "      <td>2.0</td>\n",
       "      <td>112.0</td>\n",
       "      <td>1.0</td>\n",
       "      <td>48.0</td>\n",
       "      <td>121</td>\n",
       "      <td>100000</td>\n",
       "    </tr>\n",
       "  </tbody>\n",
       "</table>\n",
       "<p>5 rows × 23 columns</p>\n",
       "</div>"
      ],
      "text/plain": [
       "   total_images  last_price  total_area first_day_exposition  rooms  \\\n",
       "0            20    13000000       108.0           2019-03-07      3   \n",
       "1             7     3350000        40.4           2018-12-04      1   \n",
       "2            10     5196000        56.0           2015-08-20      2   \n",
       "3             0    64900000       159.0           2015-07-24      3   \n",
       "4             2    10000000       100.0           2018-06-19      2   \n",
       "\n",
       "   ceiling_height  floors_total  living_area  floor  is_apartment  ...  \\\n",
       "0            2.70          16.0         51.0      8         False  ...   \n",
       "1             NaN          11.0         18.6      1         False  ...   \n",
       "2             NaN           5.0         34.3      4         False  ...   \n",
       "3             NaN          14.0          NaN      9         False  ...   \n",
       "4            3.03          14.0         32.0     13         False  ...   \n",
       "\n",
       "   balcony    locality_name  airports_nearest  cityCenters_nearest  \\\n",
       "0        0  Санкт-Петербург           18863.0              16028.0   \n",
       "1        2   посёлок Шушары           12817.0              18603.0   \n",
       "2        0  Санкт-Петербург           21741.0              13933.0   \n",
       "3        0  Санкт-Петербург           28098.0               6800.0   \n",
       "4        0  Санкт-Петербург           31856.0               8098.0   \n",
       "\n",
       "  parks_around3000  parks_nearest  ponds_around3000  ponds_nearest  \\\n",
       "0              1.0          482.0               2.0          755.0   \n",
       "1              0.0            NaN               0.0            NaN   \n",
       "2              1.0           90.0               2.0          574.0   \n",
       "3              2.0           84.0               3.0          234.0   \n",
       "4              2.0          112.0               1.0           48.0   \n",
       "\n",
       "   days_exposition  price_per_square_meter  \n",
       "0                0                  120370  \n",
       "1               81                   82920  \n",
       "2              558                   92785  \n",
       "3              424                  408176  \n",
       "4              121                  100000  \n",
       "\n",
       "[5 rows x 23 columns]"
      ]
     },
     "execution_count": 31,
     "metadata": {},
     "output_type": "execute_result"
    }
   ],
   "source": [
    "data['price_per_square_meter'] = data['price_per_square_meter'].astype('int')\n",
    "data.head()"
   ]
  },
  {
   "cell_type": "markdown",
   "metadata": {},
   "source": [
    "Добавим день недели, месяц и год публикации объявления:"
   ]
  },
  {
   "cell_type": "code",
   "execution_count": 32,
   "metadata": {},
   "outputs": [
    {
     "data": {
      "text/html": [
       "<div>\n",
       "<style scoped>\n",
       "    .dataframe tbody tr th:only-of-type {\n",
       "        vertical-align: middle;\n",
       "    }\n",
       "\n",
       "    .dataframe tbody tr th {\n",
       "        vertical-align: top;\n",
       "    }\n",
       "\n",
       "    .dataframe thead th {\n",
       "        text-align: right;\n",
       "    }\n",
       "</style>\n",
       "<table border=\"1\" class=\"dataframe\">\n",
       "  <thead>\n",
       "    <tr style=\"text-align: right;\">\n",
       "      <th></th>\n",
       "      <th>total_images</th>\n",
       "      <th>last_price</th>\n",
       "      <th>total_area</th>\n",
       "      <th>first_day_exposition</th>\n",
       "      <th>rooms</th>\n",
       "      <th>ceiling_height</th>\n",
       "      <th>floors_total</th>\n",
       "      <th>living_area</th>\n",
       "      <th>floor</th>\n",
       "      <th>is_apartment</th>\n",
       "      <th>...</th>\n",
       "      <th>cityCenters_nearest</th>\n",
       "      <th>parks_around3000</th>\n",
       "      <th>parks_nearest</th>\n",
       "      <th>ponds_around3000</th>\n",
       "      <th>ponds_nearest</th>\n",
       "      <th>days_exposition</th>\n",
       "      <th>price_per_square_meter</th>\n",
       "      <th>weekday_exposition</th>\n",
       "      <th>month_exposition</th>\n",
       "      <th>year_exposition</th>\n",
       "    </tr>\n",
       "  </thead>\n",
       "  <tbody>\n",
       "    <tr>\n",
       "      <th>0</th>\n",
       "      <td>20</td>\n",
       "      <td>13000000</td>\n",
       "      <td>108.0</td>\n",
       "      <td>2019-03-07</td>\n",
       "      <td>3</td>\n",
       "      <td>2.70</td>\n",
       "      <td>16.0</td>\n",
       "      <td>51.0</td>\n",
       "      <td>8</td>\n",
       "      <td>False</td>\n",
       "      <td>...</td>\n",
       "      <td>16028.0</td>\n",
       "      <td>1.0</td>\n",
       "      <td>482.0</td>\n",
       "      <td>2.0</td>\n",
       "      <td>755.0</td>\n",
       "      <td>0</td>\n",
       "      <td>120370</td>\n",
       "      <td>3</td>\n",
       "      <td>3</td>\n",
       "      <td>2019</td>\n",
       "    </tr>\n",
       "    <tr>\n",
       "      <th>1</th>\n",
       "      <td>7</td>\n",
       "      <td>3350000</td>\n",
       "      <td>40.4</td>\n",
       "      <td>2018-12-04</td>\n",
       "      <td>1</td>\n",
       "      <td>NaN</td>\n",
       "      <td>11.0</td>\n",
       "      <td>18.6</td>\n",
       "      <td>1</td>\n",
       "      <td>False</td>\n",
       "      <td>...</td>\n",
       "      <td>18603.0</td>\n",
       "      <td>0.0</td>\n",
       "      <td>NaN</td>\n",
       "      <td>0.0</td>\n",
       "      <td>NaN</td>\n",
       "      <td>81</td>\n",
       "      <td>82920</td>\n",
       "      <td>1</td>\n",
       "      <td>12</td>\n",
       "      <td>2018</td>\n",
       "    </tr>\n",
       "    <tr>\n",
       "      <th>2</th>\n",
       "      <td>10</td>\n",
       "      <td>5196000</td>\n",
       "      <td>56.0</td>\n",
       "      <td>2015-08-20</td>\n",
       "      <td>2</td>\n",
       "      <td>NaN</td>\n",
       "      <td>5.0</td>\n",
       "      <td>34.3</td>\n",
       "      <td>4</td>\n",
       "      <td>False</td>\n",
       "      <td>...</td>\n",
       "      <td>13933.0</td>\n",
       "      <td>1.0</td>\n",
       "      <td>90.0</td>\n",
       "      <td>2.0</td>\n",
       "      <td>574.0</td>\n",
       "      <td>558</td>\n",
       "      <td>92785</td>\n",
       "      <td>3</td>\n",
       "      <td>8</td>\n",
       "      <td>2015</td>\n",
       "    </tr>\n",
       "    <tr>\n",
       "      <th>3</th>\n",
       "      <td>0</td>\n",
       "      <td>64900000</td>\n",
       "      <td>159.0</td>\n",
       "      <td>2015-07-24</td>\n",
       "      <td>3</td>\n",
       "      <td>NaN</td>\n",
       "      <td>14.0</td>\n",
       "      <td>NaN</td>\n",
       "      <td>9</td>\n",
       "      <td>False</td>\n",
       "      <td>...</td>\n",
       "      <td>6800.0</td>\n",
       "      <td>2.0</td>\n",
       "      <td>84.0</td>\n",
       "      <td>3.0</td>\n",
       "      <td>234.0</td>\n",
       "      <td>424</td>\n",
       "      <td>408176</td>\n",
       "      <td>4</td>\n",
       "      <td>7</td>\n",
       "      <td>2015</td>\n",
       "    </tr>\n",
       "    <tr>\n",
       "      <th>4</th>\n",
       "      <td>2</td>\n",
       "      <td>10000000</td>\n",
       "      <td>100.0</td>\n",
       "      <td>2018-06-19</td>\n",
       "      <td>2</td>\n",
       "      <td>3.03</td>\n",
       "      <td>14.0</td>\n",
       "      <td>32.0</td>\n",
       "      <td>13</td>\n",
       "      <td>False</td>\n",
       "      <td>...</td>\n",
       "      <td>8098.0</td>\n",
       "      <td>2.0</td>\n",
       "      <td>112.0</td>\n",
       "      <td>1.0</td>\n",
       "      <td>48.0</td>\n",
       "      <td>121</td>\n",
       "      <td>100000</td>\n",
       "      <td>1</td>\n",
       "      <td>6</td>\n",
       "      <td>2018</td>\n",
       "    </tr>\n",
       "  </tbody>\n",
       "</table>\n",
       "<p>5 rows × 26 columns</p>\n",
       "</div>"
      ],
      "text/plain": [
       "   total_images  last_price  total_area first_day_exposition  rooms  \\\n",
       "0            20    13000000       108.0           2019-03-07      3   \n",
       "1             7     3350000        40.4           2018-12-04      1   \n",
       "2            10     5196000        56.0           2015-08-20      2   \n",
       "3             0    64900000       159.0           2015-07-24      3   \n",
       "4             2    10000000       100.0           2018-06-19      2   \n",
       "\n",
       "   ceiling_height  floors_total  living_area  floor  is_apartment  ...  \\\n",
       "0            2.70          16.0         51.0      8         False  ...   \n",
       "1             NaN          11.0         18.6      1         False  ...   \n",
       "2             NaN           5.0         34.3      4         False  ...   \n",
       "3             NaN          14.0          NaN      9         False  ...   \n",
       "4            3.03          14.0         32.0     13         False  ...   \n",
       "\n",
       "   cityCenters_nearest  parks_around3000  parks_nearest  ponds_around3000  \\\n",
       "0              16028.0               1.0          482.0               2.0   \n",
       "1              18603.0               0.0            NaN               0.0   \n",
       "2              13933.0               1.0           90.0               2.0   \n",
       "3               6800.0               2.0           84.0               3.0   \n",
       "4               8098.0               2.0          112.0               1.0   \n",
       "\n",
       "  ponds_nearest  days_exposition  price_per_square_meter  weekday_exposition  \\\n",
       "0         755.0                0                  120370                   3   \n",
       "1           NaN               81                   82920                   1   \n",
       "2         574.0              558                   92785                   3   \n",
       "3         234.0              424                  408176                   4   \n",
       "4          48.0              121                  100000                   1   \n",
       "\n",
       "   month_exposition  year_exposition  \n",
       "0                 3             2019  \n",
       "1                12             2018  \n",
       "2                 8             2015  \n",
       "3                 7             2015  \n",
       "4                 6             2018  \n",
       "\n",
       "[5 rows x 26 columns]"
      ]
     },
     "execution_count": 32,
     "metadata": {},
     "output_type": "execute_result"
    }
   ],
   "source": [
    "data['weekday_exposition'] = data['first_day_exposition'].dt.weekday\n",
    "data['month_exposition'] = data['first_day_exposition'].dt.month\n",
    "data['year_exposition'] = data['first_day_exposition'].dt.year\n",
    "data.head()"
   ]
  },
  {
   "cell_type": "markdown",
   "metadata": {},
   "source": [
    "Добавим этаж квартиры (варианты — первый, последний, другой). Создаём функцию для категоризации данных. На вход функции попадает этаж, а возвращает она категорию этажности. С помощью функции создадим столбей с категоризацией этажей."
   ]
  },
  {
   "cell_type": "code",
   "execution_count": 33,
   "metadata": {},
   "outputs": [
    {
     "data": {
      "text/html": [
       "<div>\n",
       "<style scoped>\n",
       "    .dataframe tbody tr th:only-of-type {\n",
       "        vertical-align: middle;\n",
       "    }\n",
       "\n",
       "    .dataframe tbody tr th {\n",
       "        vertical-align: top;\n",
       "    }\n",
       "\n",
       "    .dataframe thead th {\n",
       "        text-align: right;\n",
       "    }\n",
       "</style>\n",
       "<table border=\"1\" class=\"dataframe\">\n",
       "  <thead>\n",
       "    <tr style=\"text-align: right;\">\n",
       "      <th></th>\n",
       "      <th>total_images</th>\n",
       "      <th>last_price</th>\n",
       "      <th>total_area</th>\n",
       "      <th>first_day_exposition</th>\n",
       "      <th>rooms</th>\n",
       "      <th>ceiling_height</th>\n",
       "      <th>floors_total</th>\n",
       "      <th>living_area</th>\n",
       "      <th>floor</th>\n",
       "      <th>is_apartment</th>\n",
       "      <th>...</th>\n",
       "      <th>parks_around3000</th>\n",
       "      <th>parks_nearest</th>\n",
       "      <th>ponds_around3000</th>\n",
       "      <th>ponds_nearest</th>\n",
       "      <th>days_exposition</th>\n",
       "      <th>price_per_square_meter</th>\n",
       "      <th>weekday_exposition</th>\n",
       "      <th>month_exposition</th>\n",
       "      <th>year_exposition</th>\n",
       "      <th>floors_category</th>\n",
       "    </tr>\n",
       "  </thead>\n",
       "  <tbody>\n",
       "    <tr>\n",
       "      <th>0</th>\n",
       "      <td>20</td>\n",
       "      <td>13000000</td>\n",
       "      <td>108.0</td>\n",
       "      <td>2019-03-07</td>\n",
       "      <td>3</td>\n",
       "      <td>2.70</td>\n",
       "      <td>16.0</td>\n",
       "      <td>51.0</td>\n",
       "      <td>8</td>\n",
       "      <td>False</td>\n",
       "      <td>...</td>\n",
       "      <td>1.0</td>\n",
       "      <td>482.0</td>\n",
       "      <td>2.0</td>\n",
       "      <td>755.0</td>\n",
       "      <td>0</td>\n",
       "      <td>120370</td>\n",
       "      <td>3</td>\n",
       "      <td>3</td>\n",
       "      <td>2019</td>\n",
       "      <td>другой</td>\n",
       "    </tr>\n",
       "    <tr>\n",
       "      <th>1</th>\n",
       "      <td>7</td>\n",
       "      <td>3350000</td>\n",
       "      <td>40.4</td>\n",
       "      <td>2018-12-04</td>\n",
       "      <td>1</td>\n",
       "      <td>NaN</td>\n",
       "      <td>11.0</td>\n",
       "      <td>18.6</td>\n",
       "      <td>1</td>\n",
       "      <td>False</td>\n",
       "      <td>...</td>\n",
       "      <td>0.0</td>\n",
       "      <td>NaN</td>\n",
       "      <td>0.0</td>\n",
       "      <td>NaN</td>\n",
       "      <td>81</td>\n",
       "      <td>82920</td>\n",
       "      <td>1</td>\n",
       "      <td>12</td>\n",
       "      <td>2018</td>\n",
       "      <td>первый</td>\n",
       "    </tr>\n",
       "    <tr>\n",
       "      <th>2</th>\n",
       "      <td>10</td>\n",
       "      <td>5196000</td>\n",
       "      <td>56.0</td>\n",
       "      <td>2015-08-20</td>\n",
       "      <td>2</td>\n",
       "      <td>NaN</td>\n",
       "      <td>5.0</td>\n",
       "      <td>34.3</td>\n",
       "      <td>4</td>\n",
       "      <td>False</td>\n",
       "      <td>...</td>\n",
       "      <td>1.0</td>\n",
       "      <td>90.0</td>\n",
       "      <td>2.0</td>\n",
       "      <td>574.0</td>\n",
       "      <td>558</td>\n",
       "      <td>92785</td>\n",
       "      <td>3</td>\n",
       "      <td>8</td>\n",
       "      <td>2015</td>\n",
       "      <td>другой</td>\n",
       "    </tr>\n",
       "    <tr>\n",
       "      <th>3</th>\n",
       "      <td>0</td>\n",
       "      <td>64900000</td>\n",
       "      <td>159.0</td>\n",
       "      <td>2015-07-24</td>\n",
       "      <td>3</td>\n",
       "      <td>NaN</td>\n",
       "      <td>14.0</td>\n",
       "      <td>NaN</td>\n",
       "      <td>9</td>\n",
       "      <td>False</td>\n",
       "      <td>...</td>\n",
       "      <td>2.0</td>\n",
       "      <td>84.0</td>\n",
       "      <td>3.0</td>\n",
       "      <td>234.0</td>\n",
       "      <td>424</td>\n",
       "      <td>408176</td>\n",
       "      <td>4</td>\n",
       "      <td>7</td>\n",
       "      <td>2015</td>\n",
       "      <td>другой</td>\n",
       "    </tr>\n",
       "    <tr>\n",
       "      <th>4</th>\n",
       "      <td>2</td>\n",
       "      <td>10000000</td>\n",
       "      <td>100.0</td>\n",
       "      <td>2018-06-19</td>\n",
       "      <td>2</td>\n",
       "      <td>3.03</td>\n",
       "      <td>14.0</td>\n",
       "      <td>32.0</td>\n",
       "      <td>13</td>\n",
       "      <td>False</td>\n",
       "      <td>...</td>\n",
       "      <td>2.0</td>\n",
       "      <td>112.0</td>\n",
       "      <td>1.0</td>\n",
       "      <td>48.0</td>\n",
       "      <td>121</td>\n",
       "      <td>100000</td>\n",
       "      <td>1</td>\n",
       "      <td>6</td>\n",
       "      <td>2018</td>\n",
       "      <td>другой</td>\n",
       "    </tr>\n",
       "  </tbody>\n",
       "</table>\n",
       "<p>5 rows × 27 columns</p>\n",
       "</div>"
      ],
      "text/plain": [
       "   total_images  last_price  total_area first_day_exposition  rooms  \\\n",
       "0            20    13000000       108.0           2019-03-07      3   \n",
       "1             7     3350000        40.4           2018-12-04      1   \n",
       "2            10     5196000        56.0           2015-08-20      2   \n",
       "3             0    64900000       159.0           2015-07-24      3   \n",
       "4             2    10000000       100.0           2018-06-19      2   \n",
       "\n",
       "   ceiling_height  floors_total  living_area  floor  is_apartment  ...  \\\n",
       "0            2.70          16.0         51.0      8         False  ...   \n",
       "1             NaN          11.0         18.6      1         False  ...   \n",
       "2             NaN           5.0         34.3      4         False  ...   \n",
       "3             NaN          14.0          NaN      9         False  ...   \n",
       "4            3.03          14.0         32.0     13         False  ...   \n",
       "\n",
       "   parks_around3000  parks_nearest  ponds_around3000  ponds_nearest  \\\n",
       "0               1.0          482.0               2.0          755.0   \n",
       "1               0.0            NaN               0.0            NaN   \n",
       "2               1.0           90.0               2.0          574.0   \n",
       "3               2.0           84.0               3.0          234.0   \n",
       "4               2.0          112.0               1.0           48.0   \n",
       "\n",
       "  days_exposition  price_per_square_meter  weekday_exposition  \\\n",
       "0               0                  120370                   3   \n",
       "1              81                   82920                   1   \n",
       "2             558                   92785                   3   \n",
       "3             424                  408176                   4   \n",
       "4             121                  100000                   1   \n",
       "\n",
       "   month_exposition  year_exposition  floors_category  \n",
       "0                 3             2019           другой  \n",
       "1                12             2018           первый  \n",
       "2                 8             2015           другой  \n",
       "3                 7             2015           другой  \n",
       "4                 6             2018           другой  \n",
       "\n",
       "[5 rows x 27 columns]"
      ]
     },
     "execution_count": 33,
     "metadata": {},
     "output_type": "execute_result"
    }
   ],
   "source": [
    "def floors_category(row):\n",
    "    floor = row['floor']\n",
    "    floors_total = row['floors_total']\n",
    "    if floor == 1:\n",
    "        return 'первый'\n",
    "    elif floor == floors_total:\n",
    "        return 'последний'\n",
    "    elif 1 < floor < floors_total:\n",
    "        return 'другой'\n",
    "    \n",
    "data['floors_category'] = data.apply(floors_category, axis = 1)\n",
    "data.head()"
   ]
  },
  {
   "cell_type": "markdown",
   "metadata": {},
   "source": [
    "Отразим соотношение жилой и общей площади, а также отношение площади кухни к общей."
   ]
  },
  {
   "cell_type": "code",
   "execution_count": 34,
   "metadata": {},
   "outputs": [
    {
     "data": {
      "text/html": [
       "<div>\n",
       "<style scoped>\n",
       "    .dataframe tbody tr th:only-of-type {\n",
       "        vertical-align: middle;\n",
       "    }\n",
       "\n",
       "    .dataframe tbody tr th {\n",
       "        vertical-align: top;\n",
       "    }\n",
       "\n",
       "    .dataframe thead th {\n",
       "        text-align: right;\n",
       "    }\n",
       "</style>\n",
       "<table border=\"1\" class=\"dataframe\">\n",
       "  <thead>\n",
       "    <tr style=\"text-align: right;\">\n",
       "      <th></th>\n",
       "      <th>total_images</th>\n",
       "      <th>last_price</th>\n",
       "      <th>total_area</th>\n",
       "      <th>first_day_exposition</th>\n",
       "      <th>rooms</th>\n",
       "      <th>ceiling_height</th>\n",
       "      <th>floors_total</th>\n",
       "      <th>living_area</th>\n",
       "      <th>floor</th>\n",
       "      <th>is_apartment</th>\n",
       "      <th>...</th>\n",
       "      <th>ponds_around3000</th>\n",
       "      <th>ponds_nearest</th>\n",
       "      <th>days_exposition</th>\n",
       "      <th>price_per_square_meter</th>\n",
       "      <th>weekday_exposition</th>\n",
       "      <th>month_exposition</th>\n",
       "      <th>year_exposition</th>\n",
       "      <th>floors_category</th>\n",
       "      <th>living_area_vs_total_area</th>\n",
       "      <th>kitchen_area_vs_total_area</th>\n",
       "    </tr>\n",
       "  </thead>\n",
       "  <tbody>\n",
       "    <tr>\n",
       "      <th>0</th>\n",
       "      <td>20</td>\n",
       "      <td>13000000</td>\n",
       "      <td>108.0</td>\n",
       "      <td>2019-03-07</td>\n",
       "      <td>3</td>\n",
       "      <td>2.70</td>\n",
       "      <td>16.0</td>\n",
       "      <td>51.0</td>\n",
       "      <td>8</td>\n",
       "      <td>False</td>\n",
       "      <td>...</td>\n",
       "      <td>2.0</td>\n",
       "      <td>755.0</td>\n",
       "      <td>0</td>\n",
       "      <td>120370</td>\n",
       "      <td>3</td>\n",
       "      <td>3</td>\n",
       "      <td>2019</td>\n",
       "      <td>другой</td>\n",
       "      <td>47.222222</td>\n",
       "      <td>23.148148</td>\n",
       "    </tr>\n",
       "    <tr>\n",
       "      <th>1</th>\n",
       "      <td>7</td>\n",
       "      <td>3350000</td>\n",
       "      <td>40.4</td>\n",
       "      <td>2018-12-04</td>\n",
       "      <td>1</td>\n",
       "      <td>NaN</td>\n",
       "      <td>11.0</td>\n",
       "      <td>18.6</td>\n",
       "      <td>1</td>\n",
       "      <td>False</td>\n",
       "      <td>...</td>\n",
       "      <td>0.0</td>\n",
       "      <td>NaN</td>\n",
       "      <td>81</td>\n",
       "      <td>82920</td>\n",
       "      <td>1</td>\n",
       "      <td>12</td>\n",
       "      <td>2018</td>\n",
       "      <td>первый</td>\n",
       "      <td>46.039604</td>\n",
       "      <td>27.227723</td>\n",
       "    </tr>\n",
       "    <tr>\n",
       "      <th>2</th>\n",
       "      <td>10</td>\n",
       "      <td>5196000</td>\n",
       "      <td>56.0</td>\n",
       "      <td>2015-08-20</td>\n",
       "      <td>2</td>\n",
       "      <td>NaN</td>\n",
       "      <td>5.0</td>\n",
       "      <td>34.3</td>\n",
       "      <td>4</td>\n",
       "      <td>False</td>\n",
       "      <td>...</td>\n",
       "      <td>2.0</td>\n",
       "      <td>574.0</td>\n",
       "      <td>558</td>\n",
       "      <td>92785</td>\n",
       "      <td>3</td>\n",
       "      <td>8</td>\n",
       "      <td>2015</td>\n",
       "      <td>другой</td>\n",
       "      <td>61.250000</td>\n",
       "      <td>14.821429</td>\n",
       "    </tr>\n",
       "    <tr>\n",
       "      <th>3</th>\n",
       "      <td>0</td>\n",
       "      <td>64900000</td>\n",
       "      <td>159.0</td>\n",
       "      <td>2015-07-24</td>\n",
       "      <td>3</td>\n",
       "      <td>NaN</td>\n",
       "      <td>14.0</td>\n",
       "      <td>NaN</td>\n",
       "      <td>9</td>\n",
       "      <td>False</td>\n",
       "      <td>...</td>\n",
       "      <td>3.0</td>\n",
       "      <td>234.0</td>\n",
       "      <td>424</td>\n",
       "      <td>408176</td>\n",
       "      <td>4</td>\n",
       "      <td>7</td>\n",
       "      <td>2015</td>\n",
       "      <td>другой</td>\n",
       "      <td>NaN</td>\n",
       "      <td>NaN</td>\n",
       "    </tr>\n",
       "    <tr>\n",
       "      <th>4</th>\n",
       "      <td>2</td>\n",
       "      <td>10000000</td>\n",
       "      <td>100.0</td>\n",
       "      <td>2018-06-19</td>\n",
       "      <td>2</td>\n",
       "      <td>3.03</td>\n",
       "      <td>14.0</td>\n",
       "      <td>32.0</td>\n",
       "      <td>13</td>\n",
       "      <td>False</td>\n",
       "      <td>...</td>\n",
       "      <td>1.0</td>\n",
       "      <td>48.0</td>\n",
       "      <td>121</td>\n",
       "      <td>100000</td>\n",
       "      <td>1</td>\n",
       "      <td>6</td>\n",
       "      <td>2018</td>\n",
       "      <td>другой</td>\n",
       "      <td>32.000000</td>\n",
       "      <td>41.000000</td>\n",
       "    </tr>\n",
       "  </tbody>\n",
       "</table>\n",
       "<p>5 rows × 29 columns</p>\n",
       "</div>"
      ],
      "text/plain": [
       "   total_images  last_price  total_area first_day_exposition  rooms  \\\n",
       "0            20    13000000       108.0           2019-03-07      3   \n",
       "1             7     3350000        40.4           2018-12-04      1   \n",
       "2            10     5196000        56.0           2015-08-20      2   \n",
       "3             0    64900000       159.0           2015-07-24      3   \n",
       "4             2    10000000       100.0           2018-06-19      2   \n",
       "\n",
       "   ceiling_height  floors_total  living_area  floor  is_apartment  ...  \\\n",
       "0            2.70          16.0         51.0      8         False  ...   \n",
       "1             NaN          11.0         18.6      1         False  ...   \n",
       "2             NaN           5.0         34.3      4         False  ...   \n",
       "3             NaN          14.0          NaN      9         False  ...   \n",
       "4            3.03          14.0         32.0     13         False  ...   \n",
       "\n",
       "   ponds_around3000  ponds_nearest  days_exposition  price_per_square_meter  \\\n",
       "0               2.0          755.0                0                  120370   \n",
       "1               0.0            NaN               81                   82920   \n",
       "2               2.0          574.0              558                   92785   \n",
       "3               3.0          234.0              424                  408176   \n",
       "4               1.0           48.0              121                  100000   \n",
       "\n",
       "  weekday_exposition  month_exposition  year_exposition  floors_category  \\\n",
       "0                  3                 3             2019           другой   \n",
       "1                  1                12             2018           первый   \n",
       "2                  3                 8             2015           другой   \n",
       "3                  4                 7             2015           другой   \n",
       "4                  1                 6             2018           другой   \n",
       "\n",
       "   living_area_vs_total_area  kitchen_area_vs_total_area  \n",
       "0                  47.222222                   23.148148  \n",
       "1                  46.039604                   27.227723  \n",
       "2                  61.250000                   14.821429  \n",
       "3                        NaN                         NaN  \n",
       "4                  32.000000                   41.000000  \n",
       "\n",
       "[5 rows x 29 columns]"
      ]
     },
     "execution_count": 34,
     "metadata": {},
     "output_type": "execute_result"
    }
   ],
   "source": [
    "data['living_area_vs_total_area'] = data['living_area'] / data ['total_area'] * 100\n",
    "data['kitchen_area_vs_total_area'] = data['kitchen_area'] / data ['total_area'] * 100\n",
    "data.head()"
   ]
  },
  {
   "cell_type": "markdown",
   "metadata": {},
   "source": [
    "## Исследовательский анализ данных"
   ]
  },
  {
   "cell_type": "markdown",
   "metadata": {},
   "source": [
    "### Параметры: площадь, цена, число комнат, высота потолков"
   ]
  },
  {
   "cell_type": "markdown",
   "metadata": {},
   "source": [
    "Изучим следующие параметры: площадь, цена, число комнат, высота потолков. Постройте гистограммы для каждого параметра."
   ]
  },
  {
   "cell_type": "markdown",
   "metadata": {},
   "source": [
    "1) Рассмотрим площадь:"
   ]
  },
  {
   "cell_type": "code",
   "execution_count": 35,
   "metadata": {},
   "outputs": [
    {
     "data": {
      "image/png": "[encoded data removed]",
      "text/plain": [
       "<Figure size 648x432 with 1 Axes>"
      ]
     },
     "metadata": {
      "needs_background": "light"
     },
     "output_type": "display_data"
    }
   ],
   "source": [
    "data.plot(y = 'total_area', kind = 'hist', bins = 100, grid=True, figsize = (9, 6), range = (0,900)).set_title(\"Распределение квартир по площади\")\n",
    "plt.show()"
   ]
  },
  {
   "cell_type": "code",
   "execution_count": 36,
   "metadata": {},
   "outputs": [
    {
     "data": {
      "text/plain": [
       "count    23699.000000\n",
       "mean        60.348651\n",
       "std         35.654083\n",
       "min         12.000000\n",
       "25%         40.000000\n",
       "50%         52.000000\n",
       "75%         69.900000\n",
       "max        900.000000\n",
       "Name: total_area, dtype: float64"
      ]
     },
     "execution_count": 36,
     "metadata": {},
     "output_type": "execute_result"
    }
   ],
   "source": [
    "data['total_area'].describe()"
   ]
  },
  {
   "cell_type": "markdown",
   "metadata": {},
   "source": [
    "Очень мало значений после 200. Но отдельные выбросы были и до 900 кв. м. Также можно обратить внимание, что среднее почти равно медиане. Это говорит о том, что в распределении тот самый длинный хвост высоких значений (до 900 кв. м. или других несколько очень больших значений), особо не влияющих на среднее и на медиану. \n",
    "\n",
    "Мы видим нормальное распределение, где есть частовстречаемое значение и близкие к нему, а крайние значения встречаются довольно редко."
   ]
  },
  {
   "cell_type": "markdown",
   "metadata": {},
   "source": [
    "2) Рассмотрим цены на квартиры (т.к. данные в миллионах, разделим их на тысячу для наглядности):"
   ]
  },
  {
   "cell_type": "code",
   "execution_count": 37,
   "metadata": {},
   "outputs": [
    {
     "data": {
      "text/plain": [
       "count     23699.000000\n",
       "mean       6541.548772\n",
       "std       10887.013268\n",
       "min          12.190000\n",
       "25%        3400.000000\n",
       "50%        4650.000000\n",
       "75%        6800.000000\n",
       "max      763000.000000\n",
       "Name: last_price, dtype: float64"
      ]
     },
     "execution_count": 37,
     "metadata": {},
     "output_type": "execute_result"
    }
   ],
   "source": [
    "data['last_price'] = data['last_price'] / 1000\n",
    "data['last_price'].describe()"
   ]
  },
  {
   "cell_type": "code",
   "execution_count": 38,
   "metadata": {},
   "outputs": [
    {
     "data": {
      "text/plain": [
       "Text(0.5, 1.0, 'Распределение квартир по стоимости')"
      ]
     },
     "execution_count": 38,
     "metadata": {},
     "output_type": "execute_result"
    },
    {
     "data": {
      "image/png": "[encoded data removed]",
      "text/plain": [
       "<Figure size 648x432 with 1 Axes>"
      ]
     },
     "metadata": {
      "needs_background": "light"
     },
     "output_type": "display_data"
    }
   ],
   "source": [
    "data.plot(y = 'last_price', kind = 'hist', bins = 100, grid=True, range = (0,76000), figsize = (9, 6)).set_title('Распределение квартир по стоимости')"
   ]
  },
  {
   "cell_type": "markdown",
   "metadata": {},
   "source": [
    "Также наблюдаем нормальное распределение, где есть частовстречаемое значение. Но среднее выше квартиля 50%, что говорит о том, что длинный хвост с высокими значениями столбца \"цена\" отрицательно влияет на распределение."
   ]
  },
  {
   "cell_type": "markdown",
   "metadata": {},
   "source": [
    "3) Рассмотрим число комнат:"
   ]
  },
  {
   "cell_type": "code",
   "execution_count": 39,
   "metadata": {},
   "outputs": [
    {
     "data": {
      "text/plain": [
       "Text(0.5, 1.0, 'Распределение квартир по числу комнат')"
      ]
     },
     "execution_count": 39,
     "metadata": {},
     "output_type": "execute_result"
    },
    {
     "data": {
      "image/png": "[encoded data removed]",
      "text/plain": [
       "<Figure size 648x360 with 1 Axes>"
      ]
     },
     "metadata": {
      "needs_background": "light"
     },
     "output_type": "display_data"
    }
   ],
   "source": [
    "data.plot(y = 'rooms', kind = 'hist', bins = 30, grid=True, figsize = (9, 5)).set_title('Распределение квартир по числу комнат')\n"
   ]
  },
  {
   "cell_type": "code",
   "execution_count": 40,
   "metadata": {},
   "outputs": [
    {
     "data": {
      "text/plain": [
       "count    23699.000000\n",
       "mean         2.070636\n",
       "std          1.078405\n",
       "min          0.000000\n",
       "25%          1.000000\n",
       "50%          2.000000\n",
       "75%          3.000000\n",
       "max         19.000000\n",
       "Name: rooms, dtype: float64"
      ]
     },
     "execution_count": 40,
     "metadata": {},
     "output_type": "execute_result"
    }
   ],
   "source": [
    "data['rooms'].describe()"
   ]
  },
  {
   "cell_type": "markdown",
   "metadata": {},
   "source": [
    "С данными все хорошо. Медиана совпадает со средним."
   ]
  },
  {
   "cell_type": "markdown",
   "metadata": {},
   "source": [
    "4) Посмотрим на высоту потолков:"
   ]
  },
  {
   "cell_type": "code",
   "execution_count": 41,
   "metadata": {},
   "outputs": [
    {
     "data": {
      "text/plain": [
       "Text(0.5, 1.0, 'Распределение квартир по высоте потолков')"
      ]
     },
     "execution_count": 41,
     "metadata": {},
     "output_type": "execute_result"
    },
    {
     "data": {
      "image/png": "[encoded data removed]",
      "text/plain": [
       "<Figure size 648x432 with 1 Axes>"
      ]
     },
     "metadata": {
      "needs_background": "light"
     },
     "output_type": "display_data"
    }
   ],
   "source": [
    "data.plot(y = 'ceiling_height', kind = 'hist', bins = 30, range = (2, 5), grid=True, figsize = (9, 6)).set_title('Распределение квартир по высоте потолков')"
   ]
  },
  {
   "cell_type": "code",
   "execution_count": 42,
   "metadata": {},
   "outputs": [
    {
     "data": {
      "text/plain": [
       "count    14504.000000\n",
       "mean         2.771499\n",
       "std          1.261056\n",
       "min          1.000000\n",
       "25%          2.520000\n",
       "50%          2.650000\n",
       "75%          2.800000\n",
       "max        100.000000\n",
       "Name: ceiling_height, dtype: float64"
      ]
     },
     "execution_count": 42,
     "metadata": {},
     "output_type": "execute_result"
    }
   ],
   "source": [
    "data['ceiling_height'].describe()"
   ]
  },
  {
   "cell_type": "markdown",
   "metadata": {},
   "source": [
    "С данными все хорошо."
   ]
  },
  {
   "cell_type": "markdown",
   "metadata": {},
   "source": [
    "### Вывод"
   ]
  },
  {
   "cell_type": "markdown",
   "metadata": {},
   "source": [
    "Мы наблюдаем нормальное распределение параметров \"площадь\", где параметр колеблется от 12 до 900 кв. м. Медианное значение 52 кв. м., когда среднее - 60 кв.м. Также с \"ценой на момент снятия публикации\", где медианное значение 4,65 млн. руб, среднее - 6,54 млн.руб. Количество комнат колеблется от 1 до 19. Больше всего однокомнатных квартир. С высотой потолков - среднее 2,77 м что очень похоже на правду, медиана - 2,65 м. \n",
    "\n",
    "Во всех параметрах есть вбросы, например: высота потолка 1 метра или 100 метров, даже учитывая дореволюционную постройку в Санкт-Петербурге, максимальная высота потолка может быть 7-8 метров. 0 комнат = возможно студия. А может и нет. Оставим данные как они есть. Удаление их может привести к некорректным выводам."
   ]
  },
  {
   "cell_type": "markdown",
   "metadata": {},
   "source": [
    "### Время продажи квартиры. "
   ]
  },
  {
   "cell_type": "markdown",
   "metadata": {},
   "source": [
    "Изучите время продажи квартиры. Постройте гистограмму. Посчитайте среднее и медиану. Опишите, сколько обычно занимает продажа. Когда можно считать, что продажи прошли очень быстро, а когда необычно долго?"
   ]
  },
  {
   "cell_type": "markdown",
   "metadata": {},
   "source": [
    "Нарисуем диаграмму размаха для data, ограничив диапазон по вертикали значениями 1 и 1000."
   ]
  },
  {
   "cell_type": "code",
   "execution_count": 43,
   "metadata": {},
   "outputs": [
    {
     "data": {
      "image/png": "[encoded data removed]",
      "text/plain": [
       "<Figure size 432x288 with 1 Axes>"
      ]
     },
     "metadata": {
      "needs_background": "light"
     },
     "output_type": "display_data"
    }
   ],
   "source": [
    "plt.boxplot(data[data['days_exposition']!=0]['days_exposition'])\n",
    "plt.ylim(1,1000)\n",
    "plt.title('Диаграмма размаха для data')\n",
    "plt.show()"
   ]
  },
  {
   "cell_type": "markdown",
   "metadata": {},
   "source": [
    "Теперь мы видим, что большая часть значений лежит в диапазоне +/- 200 дней."
   ]
  },
  {
   "cell_type": "markdown",
   "metadata": {},
   "source": [
    "Построим гистограмму сколько дней было размещено объявление (от публикации до снятия) с 100 корзинами (для детализации), количество дней возьмем от 1 до 250."
   ]
  },
  {
   "cell_type": "code",
   "execution_count": 44,
   "metadata": {},
   "outputs": [
    {
     "data": {
      "text/plain": [
       "Text(0.5, 1.0, 'Количество снятых объявлений в разрезе времени')"
      ]
     },
     "execution_count": 44,
     "metadata": {},
     "output_type": "execute_result"
    },
    {
     "data": {
      "image/png": "[encoded data removed]",
      "text/plain": [
       "<Figure size 432x288 with 1 Axes>"
      ]
     },
     "metadata": {
      "needs_background": "light"
     },
     "output_type": "display_data"
    }
   ],
   "source": [
    "data.plot(y = 'days_exposition', kind = 'hist', bins = 100, grid = True, range = (1,250)).set_title('Количество снятых объявлений в разрезе времени')"
   ]
  },
  {
   "cell_type": "markdown",
   "metadata": {},
   "source": [
    "Заметны необычные скачки до и после 50 дней."
   ]
  },
  {
   "cell_type": "markdown",
   "metadata": {},
   "source": [
    "Найдем среднее значение, медиану:"
   ]
  },
  {
   "cell_type": "code",
   "execution_count": 45,
   "metadata": {},
   "outputs": [
    {
     "data": {
      "text/plain": [
       "count    20518.000000\n",
       "mean       180.888634\n",
       "std        219.727988\n",
       "min          1.000000\n",
       "25%         45.000000\n",
       "50%         95.000000\n",
       "75%        232.000000\n",
       "max       1580.000000\n",
       "Name: days_exposition, dtype: float64"
      ]
     },
     "execution_count": 45,
     "metadata": {},
     "output_type": "execute_result"
    }
   ],
   "source": [
    "data[data['days_exposition']!=0]['days_exposition'].describe()"
   ]
  },
  {
   "cell_type": "markdown",
   "metadata": {},
   "source": [
    "Так как максимальное значение у нас 1580, построим гистрограмму распределения целиком, чтобы понять его тип."
   ]
  },
  {
   "cell_type": "code",
   "execution_count": 46,
   "metadata": {},
   "outputs": [
    {
     "data": {
      "text/plain": [
       "Text(0.5, 1.0, 'Количество снятых объявлений в разрезе времени')"
      ]
     },
     "execution_count": 46,
     "metadata": {},
     "output_type": "execute_result"
    },
    {
     "data": {
      "image/png": "[encoded data removed]",
      "text/plain": [
       "<Figure size 432x288 with 1 Axes>"
      ]
     },
     "metadata": {
      "needs_background": "light"
     },
     "output_type": "display_data"
    }
   ],
   "source": [
    "data.plot(y = 'days_exposition', kind = 'hist', bins = 20, grid = True, range = (1,1600)).set_title('Количество снятых объявлений в разрезе времени')"
   ]
  },
  {
   "cell_type": "markdown",
   "metadata": {},
   "source": [
    "Таким образом, мы имеем распределение Пуассона.\n",
    "Среднее значение снятия - 180 дней.\n",
    "Медианное - 95 дней."
   ]
  },
  {
   "cell_type": "markdown",
   "metadata": {},
   "source": [
    "### Вывод"
   ]
  },
  {
   "cell_type": "markdown",
   "metadata": {},
   "source": [
    "Исходя из метода boxplot(), который мы применили к столбцу 'days_exposition', можно сделать вывод, что нормальные значения у нас до 500 дней, методом describe() получили межквартильный размах от 45 до 232 дней. Таким образом, необычайно долго - продавать недвижимость более 500 дней."
   ]
  },
  {
   "cell_type": "markdown",
   "metadata": {},
   "source": [
    "### Убираем редкие и выбивающиеся значения"
   ]
  },
  {
   "cell_type": "markdown",
   "metadata": {},
   "source": [
    "Проверим, что же за скачки были до и после 50 дней, которые бросаются в глаза. Используем метод value_counts() и вываедем топ-5 дней снятия объявлений:"
   ]
  },
  {
   "cell_type": "code",
   "execution_count": 47,
   "metadata": {},
   "outputs": [
    {
     "data": {
      "text/plain": [
       "45    880\n",
       "60    538\n",
       "7     234\n",
       "30    208\n",
       "90    204\n",
       "Name: days_exposition, dtype: int64"
      ]
     },
     "execution_count": 47,
     "metadata": {},
     "output_type": "execute_result"
    }
   ],
   "source": [
    "data[data['days_exposition']!=0]['days_exposition'].value_counts().head()"
   ]
  },
  {
   "cell_type": "markdown",
   "metadata": {},
   "source": [
    "Убедились: у нас аномалии на 45, 60, 7, 30, 90 днях. Это самое популярное количество дней снятия объявлений.\n",
    "\n",
    "Посмотрим на строки, которые были сняты на 45 день, а их - 880!"
   ]
  },
  {
   "cell_type": "code",
   "execution_count": 48,
   "metadata": {
    "scrolled": true
   },
   "outputs": [
    {
     "data": {
      "text/html": [
       "<div>\n",
       "<style scoped>\n",
       "    .dataframe tbody tr th:only-of-type {\n",
       "        vertical-align: middle;\n",
       "    }\n",
       "\n",
       "    .dataframe tbody tr th {\n",
       "        vertical-align: top;\n",
       "    }\n",
       "\n",
       "    .dataframe thead th {\n",
       "        text-align: right;\n",
       "    }\n",
       "</style>\n",
       "<table border=\"1\" class=\"dataframe\">\n",
       "  <thead>\n",
       "    <tr style=\"text-align: right;\">\n",
       "      <th></th>\n",
       "      <th>total_images</th>\n",
       "      <th>last_price</th>\n",
       "      <th>total_area</th>\n",
       "      <th>first_day_exposition</th>\n",
       "      <th>rooms</th>\n",
       "      <th>ceiling_height</th>\n",
       "      <th>floors_total</th>\n",
       "      <th>living_area</th>\n",
       "      <th>floor</th>\n",
       "      <th>is_apartment</th>\n",
       "      <th>...</th>\n",
       "      <th>ponds_around3000</th>\n",
       "      <th>ponds_nearest</th>\n",
       "      <th>days_exposition</th>\n",
       "      <th>price_per_square_meter</th>\n",
       "      <th>weekday_exposition</th>\n",
       "      <th>month_exposition</th>\n",
       "      <th>year_exposition</th>\n",
       "      <th>floors_category</th>\n",
       "      <th>living_area_vs_total_area</th>\n",
       "      <th>kitchen_area_vs_total_area</th>\n",
       "    </tr>\n",
       "  </thead>\n",
       "  <tbody>\n",
       "    <tr>\n",
       "      <th>78</th>\n",
       "      <td>9</td>\n",
       "      <td>4350.000</td>\n",
       "      <td>37.0</td>\n",
       "      <td>2018-02-22</td>\n",
       "      <td>1</td>\n",
       "      <td>NaN</td>\n",
       "      <td>19.0</td>\n",
       "      <td>18.00</td>\n",
       "      <td>6</td>\n",
       "      <td>False</td>\n",
       "      <td>...</td>\n",
       "      <td>0.0</td>\n",
       "      <td>NaN</td>\n",
       "      <td>45</td>\n",
       "      <td>117567</td>\n",
       "      <td>3</td>\n",
       "      <td>2</td>\n",
       "      <td>2018</td>\n",
       "      <td>другой</td>\n",
       "      <td>48.648649</td>\n",
       "      <td>28.918919</td>\n",
       "    </tr>\n",
       "    <tr>\n",
       "      <th>89</th>\n",
       "      <td>9</td>\n",
       "      <td>2500.000</td>\n",
       "      <td>63.0</td>\n",
       "      <td>2018-10-25</td>\n",
       "      <td>3</td>\n",
       "      <td>2.50</td>\n",
       "      <td>5.0</td>\n",
       "      <td>43.00</td>\n",
       "      <td>4</td>\n",
       "      <td>False</td>\n",
       "      <td>...</td>\n",
       "      <td>NaN</td>\n",
       "      <td>NaN</td>\n",
       "      <td>45</td>\n",
       "      <td>39682</td>\n",
       "      <td>3</td>\n",
       "      <td>10</td>\n",
       "      <td>2018</td>\n",
       "      <td>другой</td>\n",
       "      <td>68.253968</td>\n",
       "      <td>14.285714</td>\n",
       "    </tr>\n",
       "    <tr>\n",
       "      <th>110</th>\n",
       "      <td>6</td>\n",
       "      <td>3850.000</td>\n",
       "      <td>72.3</td>\n",
       "      <td>2017-09-29</td>\n",
       "      <td>2</td>\n",
       "      <td>NaN</td>\n",
       "      <td>3.0</td>\n",
       "      <td>27.40</td>\n",
       "      <td>2</td>\n",
       "      <td>False</td>\n",
       "      <td>...</td>\n",
       "      <td>NaN</td>\n",
       "      <td>NaN</td>\n",
       "      <td>45</td>\n",
       "      <td>53250</td>\n",
       "      <td>4</td>\n",
       "      <td>9</td>\n",
       "      <td>2017</td>\n",
       "      <td>другой</td>\n",
       "      <td>37.897649</td>\n",
       "      <td>32.641770</td>\n",
       "    </tr>\n",
       "    <tr>\n",
       "      <th>153</th>\n",
       "      <td>12</td>\n",
       "      <td>4350.000</td>\n",
       "      <td>55.0</td>\n",
       "      <td>2017-05-21</td>\n",
       "      <td>2</td>\n",
       "      <td>2.57</td>\n",
       "      <td>9.0</td>\n",
       "      <td>31.20</td>\n",
       "      <td>2</td>\n",
       "      <td>False</td>\n",
       "      <td>...</td>\n",
       "      <td>0.0</td>\n",
       "      <td>NaN</td>\n",
       "      <td>45</td>\n",
       "      <td>79090</td>\n",
       "      <td>6</td>\n",
       "      <td>5</td>\n",
       "      <td>2017</td>\n",
       "      <td>другой</td>\n",
       "      <td>56.727273</td>\n",
       "      <td>15.090909</td>\n",
       "    </tr>\n",
       "    <tr>\n",
       "      <th>158</th>\n",
       "      <td>15</td>\n",
       "      <td>3100.000</td>\n",
       "      <td>47.3</td>\n",
       "      <td>2017-11-07</td>\n",
       "      <td>2</td>\n",
       "      <td>NaN</td>\n",
       "      <td>5.0</td>\n",
       "      <td>27.50</td>\n",
       "      <td>2</td>\n",
       "      <td>False</td>\n",
       "      <td>...</td>\n",
       "      <td>NaN</td>\n",
       "      <td>NaN</td>\n",
       "      <td>45</td>\n",
       "      <td>65539</td>\n",
       "      <td>1</td>\n",
       "      <td>11</td>\n",
       "      <td>2017</td>\n",
       "      <td>другой</td>\n",
       "      <td>58.139535</td>\n",
       "      <td>17.970402</td>\n",
       "    </tr>\n",
       "    <tr>\n",
       "      <th>166</th>\n",
       "      <td>0</td>\n",
       "      <td>2300.000</td>\n",
       "      <td>60.0</td>\n",
       "      <td>2017-12-02</td>\n",
       "      <td>2</td>\n",
       "      <td>NaN</td>\n",
       "      <td>3.0</td>\n",
       "      <td>NaN</td>\n",
       "      <td>1</td>\n",
       "      <td>False</td>\n",
       "      <td>...</td>\n",
       "      <td>NaN</td>\n",
       "      <td>NaN</td>\n",
       "      <td>45</td>\n",
       "      <td>38333</td>\n",
       "      <td>5</td>\n",
       "      <td>12</td>\n",
       "      <td>2017</td>\n",
       "      <td>первый</td>\n",
       "      <td>NaN</td>\n",
       "      <td>NaN</td>\n",
       "    </tr>\n",
       "    <tr>\n",
       "      <th>189</th>\n",
       "      <td>0</td>\n",
       "      <td>6150.000</td>\n",
       "      <td>62.0</td>\n",
       "      <td>2017-10-13</td>\n",
       "      <td>3</td>\n",
       "      <td>NaN</td>\n",
       "      <td>9.0</td>\n",
       "      <td>41.50</td>\n",
       "      <td>5</td>\n",
       "      <td>False</td>\n",
       "      <td>...</td>\n",
       "      <td>0.0</td>\n",
       "      <td>NaN</td>\n",
       "      <td>45</td>\n",
       "      <td>99193</td>\n",
       "      <td>4</td>\n",
       "      <td>10</td>\n",
       "      <td>2017</td>\n",
       "      <td>другой</td>\n",
       "      <td>66.935484</td>\n",
       "      <td>13.709677</td>\n",
       "    </tr>\n",
       "    <tr>\n",
       "      <th>210</th>\n",
       "      <td>4</td>\n",
       "      <td>4300.000</td>\n",
       "      <td>58.5</td>\n",
       "      <td>2016-06-15</td>\n",
       "      <td>2</td>\n",
       "      <td>NaN</td>\n",
       "      <td>9.0</td>\n",
       "      <td>28.73</td>\n",
       "      <td>7</td>\n",
       "      <td>False</td>\n",
       "      <td>...</td>\n",
       "      <td>1.0</td>\n",
       "      <td>353.0</td>\n",
       "      <td>45</td>\n",
       "      <td>73504</td>\n",
       "      <td>2</td>\n",
       "      <td>6</td>\n",
       "      <td>2016</td>\n",
       "      <td>другой</td>\n",
       "      <td>49.111111</td>\n",
       "      <td>19.213675</td>\n",
       "    </tr>\n",
       "    <tr>\n",
       "      <th>227</th>\n",
       "      <td>13</td>\n",
       "      <td>2200.000</td>\n",
       "      <td>47.0</td>\n",
       "      <td>2018-01-12</td>\n",
       "      <td>3</td>\n",
       "      <td>2.34</td>\n",
       "      <td>5.0</td>\n",
       "      <td>NaN</td>\n",
       "      <td>1</td>\n",
       "      <td>False</td>\n",
       "      <td>...</td>\n",
       "      <td>NaN</td>\n",
       "      <td>NaN</td>\n",
       "      <td>45</td>\n",
       "      <td>46808</td>\n",
       "      <td>4</td>\n",
       "      <td>1</td>\n",
       "      <td>2018</td>\n",
       "      <td>первый</td>\n",
       "      <td>NaN</td>\n",
       "      <td>NaN</td>\n",
       "    </tr>\n",
       "    <tr>\n",
       "      <th>235</th>\n",
       "      <td>0</td>\n",
       "      <td>4000.000</td>\n",
       "      <td>60.0</td>\n",
       "      <td>2019-03-12</td>\n",
       "      <td>2</td>\n",
       "      <td>3.40</td>\n",
       "      <td>3.0</td>\n",
       "      <td>37.80</td>\n",
       "      <td>1</td>\n",
       "      <td>False</td>\n",
       "      <td>...</td>\n",
       "      <td>3.0</td>\n",
       "      <td>534.0</td>\n",
       "      <td>45</td>\n",
       "      <td>66666</td>\n",
       "      <td>1</td>\n",
       "      <td>3</td>\n",
       "      <td>2019</td>\n",
       "      <td>первый</td>\n",
       "      <td>63.000000</td>\n",
       "      <td>15.000000</td>\n",
       "    </tr>\n",
       "    <tr>\n",
       "      <th>289</th>\n",
       "      <td>11</td>\n",
       "      <td>3150.000</td>\n",
       "      <td>33.0</td>\n",
       "      <td>2017-06-05</td>\n",
       "      <td>1</td>\n",
       "      <td>NaN</td>\n",
       "      <td>6.0</td>\n",
       "      <td>18.00</td>\n",
       "      <td>4</td>\n",
       "      <td>False</td>\n",
       "      <td>...</td>\n",
       "      <td>0.0</td>\n",
       "      <td>NaN</td>\n",
       "      <td>45</td>\n",
       "      <td>95454</td>\n",
       "      <td>0</td>\n",
       "      <td>6</td>\n",
       "      <td>2017</td>\n",
       "      <td>другой</td>\n",
       "      <td>54.545455</td>\n",
       "      <td>21.212121</td>\n",
       "    </tr>\n",
       "    <tr>\n",
       "      <th>322</th>\n",
       "      <td>6</td>\n",
       "      <td>2000.000</td>\n",
       "      <td>25.0</td>\n",
       "      <td>2017-02-07</td>\n",
       "      <td>1</td>\n",
       "      <td>NaN</td>\n",
       "      <td>5.0</td>\n",
       "      <td>NaN</td>\n",
       "      <td>5</td>\n",
       "      <td>False</td>\n",
       "      <td>...</td>\n",
       "      <td>NaN</td>\n",
       "      <td>NaN</td>\n",
       "      <td>45</td>\n",
       "      <td>80000</td>\n",
       "      <td>1</td>\n",
       "      <td>2</td>\n",
       "      <td>2017</td>\n",
       "      <td>последний</td>\n",
       "      <td>NaN</td>\n",
       "      <td>NaN</td>\n",
       "    </tr>\n",
       "    <tr>\n",
       "      <th>340</th>\n",
       "      <td>13</td>\n",
       "      <td>3200.000</td>\n",
       "      <td>32.2</td>\n",
       "      <td>2017-06-15</td>\n",
       "      <td>1</td>\n",
       "      <td>2.65</td>\n",
       "      <td>9.0</td>\n",
       "      <td>19.00</td>\n",
       "      <td>5</td>\n",
       "      <td>False</td>\n",
       "      <td>...</td>\n",
       "      <td>0.0</td>\n",
       "      <td>NaN</td>\n",
       "      <td>45</td>\n",
       "      <td>99378</td>\n",
       "      <td>3</td>\n",
       "      <td>6</td>\n",
       "      <td>2017</td>\n",
       "      <td>другой</td>\n",
       "      <td>59.006211</td>\n",
       "      <td>20.186335</td>\n",
       "    </tr>\n",
       "    <tr>\n",
       "      <th>349</th>\n",
       "      <td>4</td>\n",
       "      <td>2320.000</td>\n",
       "      <td>25.0</td>\n",
       "      <td>2017-09-27</td>\n",
       "      <td>0</td>\n",
       "      <td>NaN</td>\n",
       "      <td>14.0</td>\n",
       "      <td>17.00</td>\n",
       "      <td>1</td>\n",
       "      <td>False</td>\n",
       "      <td>...</td>\n",
       "      <td>NaN</td>\n",
       "      <td>NaN</td>\n",
       "      <td>45</td>\n",
       "      <td>92800</td>\n",
       "      <td>2</td>\n",
       "      <td>9</td>\n",
       "      <td>2017</td>\n",
       "      <td>первый</td>\n",
       "      <td>68.000000</td>\n",
       "      <td>NaN</td>\n",
       "    </tr>\n",
       "    <tr>\n",
       "      <th>384</th>\n",
       "      <td>6</td>\n",
       "      <td>4100.000</td>\n",
       "      <td>41.5</td>\n",
       "      <td>2018-01-11</td>\n",
       "      <td>1</td>\n",
       "      <td>2.70</td>\n",
       "      <td>17.0</td>\n",
       "      <td>16.50</td>\n",
       "      <td>14</td>\n",
       "      <td>False</td>\n",
       "      <td>...</td>\n",
       "      <td>2.0</td>\n",
       "      <td>830.0</td>\n",
       "      <td>45</td>\n",
       "      <td>98795</td>\n",
       "      <td>3</td>\n",
       "      <td>1</td>\n",
       "      <td>2018</td>\n",
       "      <td>другой</td>\n",
       "      <td>39.759036</td>\n",
       "      <td>28.192771</td>\n",
       "    </tr>\n",
       "    <tr>\n",
       "      <th>392</th>\n",
       "      <td>10</td>\n",
       "      <td>3900.000</td>\n",
       "      <td>41.3</td>\n",
       "      <td>2018-01-19</td>\n",
       "      <td>2</td>\n",
       "      <td>2.55</td>\n",
       "      <td>5.0</td>\n",
       "      <td>NaN</td>\n",
       "      <td>3</td>\n",
       "      <td>False</td>\n",
       "      <td>...</td>\n",
       "      <td>0.0</td>\n",
       "      <td>NaN</td>\n",
       "      <td>45</td>\n",
       "      <td>94430</td>\n",
       "      <td>4</td>\n",
       "      <td>1</td>\n",
       "      <td>2018</td>\n",
       "      <td>другой</td>\n",
       "      <td>NaN</td>\n",
       "      <td>NaN</td>\n",
       "    </tr>\n",
       "    <tr>\n",
       "      <th>395</th>\n",
       "      <td>0</td>\n",
       "      <td>1450.000</td>\n",
       "      <td>44.0</td>\n",
       "      <td>2019-03-01</td>\n",
       "      <td>2</td>\n",
       "      <td>2.50</td>\n",
       "      <td>5.0</td>\n",
       "      <td>27.00</td>\n",
       "      <td>5</td>\n",
       "      <td>False</td>\n",
       "      <td>...</td>\n",
       "      <td>NaN</td>\n",
       "      <td>NaN</td>\n",
       "      <td>45</td>\n",
       "      <td>32954</td>\n",
       "      <td>4</td>\n",
       "      <td>3</td>\n",
       "      <td>2019</td>\n",
       "      <td>последний</td>\n",
       "      <td>61.363636</td>\n",
       "      <td>13.636364</td>\n",
       "    </tr>\n",
       "    <tr>\n",
       "      <th>421</th>\n",
       "      <td>7</td>\n",
       "      <td>2499.999</td>\n",
       "      <td>73.8</td>\n",
       "      <td>2017-12-19</td>\n",
       "      <td>3</td>\n",
       "      <td>NaN</td>\n",
       "      <td>5.0</td>\n",
       "      <td>NaN</td>\n",
       "      <td>2</td>\n",
       "      <td>False</td>\n",
       "      <td>...</td>\n",
       "      <td>NaN</td>\n",
       "      <td>NaN</td>\n",
       "      <td>45</td>\n",
       "      <td>33875</td>\n",
       "      <td>1</td>\n",
       "      <td>12</td>\n",
       "      <td>2017</td>\n",
       "      <td>другой</td>\n",
       "      <td>NaN</td>\n",
       "      <td>NaN</td>\n",
       "    </tr>\n",
       "    <tr>\n",
       "      <th>487</th>\n",
       "      <td>19</td>\n",
       "      <td>1300.000</td>\n",
       "      <td>65.4</td>\n",
       "      <td>2018-11-04</td>\n",
       "      <td>3</td>\n",
       "      <td>2.50</td>\n",
       "      <td>5.0</td>\n",
       "      <td>49.30</td>\n",
       "      <td>2</td>\n",
       "      <td>False</td>\n",
       "      <td>...</td>\n",
       "      <td>NaN</td>\n",
       "      <td>NaN</td>\n",
       "      <td>45</td>\n",
       "      <td>19877</td>\n",
       "      <td>6</td>\n",
       "      <td>11</td>\n",
       "      <td>2018</td>\n",
       "      <td>другой</td>\n",
       "      <td>75.382263</td>\n",
       "      <td>7.798165</td>\n",
       "    </tr>\n",
       "    <tr>\n",
       "      <th>524</th>\n",
       "      <td>10</td>\n",
       "      <td>3800.000</td>\n",
       "      <td>74.4</td>\n",
       "      <td>2017-05-18</td>\n",
       "      <td>3</td>\n",
       "      <td>NaN</td>\n",
       "      <td>5.0</td>\n",
       "      <td>44.40</td>\n",
       "      <td>3</td>\n",
       "      <td>False</td>\n",
       "      <td>...</td>\n",
       "      <td>NaN</td>\n",
       "      <td>NaN</td>\n",
       "      <td>45</td>\n",
       "      <td>51075</td>\n",
       "      <td>3</td>\n",
       "      <td>5</td>\n",
       "      <td>2017</td>\n",
       "      <td>другой</td>\n",
       "      <td>59.677419</td>\n",
       "      <td>11.962366</td>\n",
       "    </tr>\n",
       "  </tbody>\n",
       "</table>\n",
       "<p>20 rows × 29 columns</p>\n",
       "</div>"
      ],
      "text/plain": [
       "     total_images  last_price  total_area first_day_exposition  rooms  \\\n",
       "78              9    4350.000        37.0           2018-02-22      1   \n",
       "89              9    2500.000        63.0           2018-10-25      3   \n",
       "110             6    3850.000        72.3           2017-09-29      2   \n",
       "153            12    4350.000        55.0           2017-05-21      2   \n",
       "158            15    3100.000        47.3           2017-11-07      2   \n",
       "166             0    2300.000        60.0           2017-12-02      2   \n",
       "189             0    6150.000        62.0           2017-10-13      3   \n",
       "210             4    4300.000        58.5           2016-06-15      2   \n",
       "227            13    2200.000        47.0           2018-01-12      3   \n",
       "235             0    4000.000        60.0           2019-03-12      2   \n",
       "289            11    3150.000        33.0           2017-06-05      1   \n",
       "322             6    2000.000        25.0           2017-02-07      1   \n",
       "340            13    3200.000        32.2           2017-06-15      1   \n",
       "349             4    2320.000        25.0           2017-09-27      0   \n",
       "384             6    4100.000        41.5           2018-01-11      1   \n",
       "392            10    3900.000        41.3           2018-01-19      2   \n",
       "395             0    1450.000        44.0           2019-03-01      2   \n",
       "421             7    2499.999        73.8           2017-12-19      3   \n",
       "487            19    1300.000        65.4           2018-11-04      3   \n",
       "524            10    3800.000        74.4           2017-05-18      3   \n",
       "\n",
       "     ceiling_height  floors_total  living_area  floor  is_apartment  ...  \\\n",
       "78              NaN          19.0        18.00      6         False  ...   \n",
       "89             2.50           5.0        43.00      4         False  ...   \n",
       "110             NaN           3.0        27.40      2         False  ...   \n",
       "153            2.57           9.0        31.20      2         False  ...   \n",
       "158             NaN           5.0        27.50      2         False  ...   \n",
       "166             NaN           3.0          NaN      1         False  ...   \n",
       "189             NaN           9.0        41.50      5         False  ...   \n",
       "210             NaN           9.0        28.73      7         False  ...   \n",
       "227            2.34           5.0          NaN      1         False  ...   \n",
       "235            3.40           3.0        37.80      1         False  ...   \n",
       "289             NaN           6.0        18.00      4         False  ...   \n",
       "322             NaN           5.0          NaN      5         False  ...   \n",
       "340            2.65           9.0        19.00      5         False  ...   \n",
       "349             NaN          14.0        17.00      1         False  ...   \n",
       "384            2.70          17.0        16.50     14         False  ...   \n",
       "392            2.55           5.0          NaN      3         False  ...   \n",
       "395            2.50           5.0        27.00      5         False  ...   \n",
       "421             NaN           5.0          NaN      2         False  ...   \n",
       "487            2.50           5.0        49.30      2         False  ...   \n",
       "524             NaN           5.0        44.40      3         False  ...   \n",
       "\n",
       "     ponds_around3000  ponds_nearest  days_exposition  price_per_square_meter  \\\n",
       "78                0.0            NaN               45                  117567   \n",
       "89                NaN            NaN               45                   39682   \n",
       "110               NaN            NaN               45                   53250   \n",
       "153               0.0            NaN               45                   79090   \n",
       "158               NaN            NaN               45                   65539   \n",
       "166               NaN            NaN               45                   38333   \n",
       "189               0.0            NaN               45                   99193   \n",
       "210               1.0          353.0               45                   73504   \n",
       "227               NaN            NaN               45                   46808   \n",
       "235               3.0          534.0               45                   66666   \n",
       "289               0.0            NaN               45                   95454   \n",
       "322               NaN            NaN               45                   80000   \n",
       "340               0.0            NaN               45                   99378   \n",
       "349               NaN            NaN               45                   92800   \n",
       "384               2.0          830.0               45                   98795   \n",
       "392               0.0            NaN               45                   94430   \n",
       "395               NaN            NaN               45                   32954   \n",
       "421               NaN            NaN               45                   33875   \n",
       "487               NaN            NaN               45                   19877   \n",
       "524               NaN            NaN               45                   51075   \n",
       "\n",
       "    weekday_exposition  month_exposition  year_exposition  floors_category  \\\n",
       "78                   3                 2             2018           другой   \n",
       "89                   3                10             2018           другой   \n",
       "110                  4                 9             2017           другой   \n",
       "153                  6                 5             2017           другой   \n",
       "158                  1                11             2017           другой   \n",
       "166                  5                12             2017           первый   \n",
       "189                  4                10             2017           другой   \n",
       "210                  2                 6             2016           другой   \n",
       "227                  4                 1             2018           первый   \n",
       "235                  1                 3             2019           первый   \n",
       "289                  0                 6             2017           другой   \n",
       "322                  1                 2             2017        последний   \n",
       "340                  3                 6             2017           другой   \n",
       "349                  2                 9             2017           первый   \n",
       "384                  3                 1             2018           другой   \n",
       "392                  4                 1             2018           другой   \n",
       "395                  4                 3             2019        последний   \n",
       "421                  1                12             2017           другой   \n",
       "487                  6                11             2018           другой   \n",
       "524                  3                 5             2017           другой   \n",
       "\n",
       "     living_area_vs_total_area  kitchen_area_vs_total_area  \n",
       "78                   48.648649                   28.918919  \n",
       "89                   68.253968                   14.285714  \n",
       "110                  37.897649                   32.641770  \n",
       "153                  56.727273                   15.090909  \n",
       "158                  58.139535                   17.970402  \n",
       "166                        NaN                         NaN  \n",
       "189                  66.935484                   13.709677  \n",
       "210                  49.111111                   19.213675  \n",
       "227                        NaN                         NaN  \n",
       "235                  63.000000                   15.000000  \n",
       "289                  54.545455                   21.212121  \n",
       "322                        NaN                         NaN  \n",
       "340                  59.006211                   20.186335  \n",
       "349                  68.000000                         NaN  \n",
       "384                  39.759036                   28.192771  \n",
       "392                        NaN                         NaN  \n",
       "395                  61.363636                   13.636364  \n",
       "421                        NaN                         NaN  \n",
       "487                  75.382263                    7.798165  \n",
       "524                  59.677419                   11.962366  \n",
       "\n",
       "[20 rows x 29 columns]"
      ]
     },
     "execution_count": 48,
     "metadata": {},
     "output_type": "execute_result"
    }
   ],
   "source": [
    "data[data['days_exposition']==45].head(20)"
   ]
  },
  {
   "cell_type": "markdown",
   "metadata": {},
   "source": [
    "Никакой взаимосвязи между ними нет. Эти дни являются вбросами, которые не соответствуют распределению Пуассона. От них необходимо избавиться, а причину возникновения необходимо уточнить у коллег, которые их нам передали. \n",
    "\n",
    "Создадим новую таблицу, очищенную от \"скачков\":"
   ]
  },
  {
   "cell_type": "code",
   "execution_count": 49,
   "metadata": {},
   "outputs": [],
   "source": [
    "good_data = data.query('days_exposition != 45 and days_exposition != 30 and days_exposition != 60 and days_exposition != 90 and days_exposition != 7 and days_exposition != 0')"
   ]
  },
  {
   "cell_type": "markdown",
   "metadata": {},
   "source": [
    "Далее выведем на экран диаграмму размаха для good_data:"
   ]
  },
  {
   "cell_type": "code",
   "execution_count": 50,
   "metadata": {},
   "outputs": [
    {
     "data": {
      "text/plain": [
       "(1.0, 1000.0)"
      ]
     },
     "execution_count": 50,
     "metadata": {},
     "output_type": "execute_result"
    },
    {
     "data": {
      "image/png": "[encoded data removed]",
      "text/plain": [
       "<Figure size 432x288 with 1 Axes>"
      ]
     },
     "metadata": {
      "needs_background": "light"
     },
     "output_type": "display_data"
    }
   ],
   "source": [
    "plt.boxplot(good_data['days_exposition'])\n",
    "plt.ylim(1, 1000)"
   ]
  },
  {
   "cell_type": "markdown",
   "metadata": {},
   "source": [
    "Большинство значений немного сметилось в большую сторону (за 200 дней).\n",
    "\n",
    "Построим общую гистограмму от минимального (1) до максимального (1580 (округлим до 1600)):"
   ]
  },
  {
   "cell_type": "code",
   "execution_count": 51,
   "metadata": {},
   "outputs": [
    {
     "data": {
      "text/plain": [
       "Text(0.5, 1.0, 'Количество снятых объявлений в разрезе времени после очистки')"
      ]
     },
     "execution_count": 51,
     "metadata": {},
     "output_type": "execute_result"
    },
    {
     "data": {
      "image/png": "[encoded data removed]",
      "text/plain": [
       "<Figure size 432x288 with 1 Axes>"
      ]
     },
     "metadata": {
      "needs_background": "light"
     },
     "output_type": "display_data"
    }
   ],
   "source": [
    "good_data.plot(y = 'days_exposition', kind = 'hist', bins = 20, grid = True, range = (1,1600)).set_title('Количество снятых объявлений в разрезе времени после очистки')"
   ]
  },
  {
   "cell_type": "markdown",
   "metadata": {},
   "source": [
    "Всё также распределение Пуассона. Детализируем:"
   ]
  },
  {
   "cell_type": "code",
   "execution_count": 52,
   "metadata": {},
   "outputs": [
    {
     "data": {
      "text/plain": [
       "Text(0.5, 1.0, 'Количество снятых объявлений в разрезе времени после очистки')"
      ]
     },
     "execution_count": 52,
     "metadata": {},
     "output_type": "execute_result"
    },
    {
     "data": {
      "image/png": "[encoded data removed]",
      "text/plain": [
       "<Figure size 432x288 with 1 Axes>"
      ]
     },
     "metadata": {
      "needs_background": "light"
     },
     "output_type": "display_data"
    }
   ],
   "source": [
    "good_data.plot(y = 'days_exposition', kind = 'hist', bins = 100, grid = True, range = (1,250)).set_title('Количество снятых объявлений в разрезе времени после очистки')"
   ]
  },
  {
   "cell_type": "markdown",
   "metadata": {},
   "source": [
    "Методом describe() посмотрим данные о новом очищенном датафрейме:"
   ]
  },
  {
   "cell_type": "code",
   "execution_count": 53,
   "metadata": {},
   "outputs": [
    {
     "data": {
      "text/plain": [
       "count    18454.000000\n",
       "mean       195.803349\n",
       "std        226.760010\n",
       "min          1.000000\n",
       "25%         44.000000\n",
       "50%        114.000000\n",
       "75%        259.000000\n",
       "max       1580.000000\n",
       "Name: days_exposition, dtype: float64"
      ]
     },
     "execution_count": 53,
     "metadata": {},
     "output_type": "execute_result"
    }
   ],
   "source": [
    "good_data['days_exposition'].describe()"
   ]
  },
  {
   "cell_type": "markdown",
   "metadata": {},
   "source": [
    "Среднее значение выросло до 195 дней, а медианное до 114.\n",
    "Теперь нормальные значения, судя по диаграмме размаха, раскинулись до 600 дней вместо 500."
   ]
  },
  {
   "cell_type": "markdown",
   "metadata": {},
   "source": [
    "### Какие факторы больше всего влияют на стоимость квартиры? "
   ]
  },
  {
   "cell_type": "markdown",
   "metadata": {},
   "source": [
    "Зависит ли цена от площади?"
   ]
  },
  {
   "cell_type": "code",
   "execution_count": 54,
   "metadata": {},
   "outputs": [
    {
     "data": {
      "text/plain": [
       "Text(0.5, 1.0, 'Диаграмма рассеивания цены за м2 от площади')"
      ]
     },
     "execution_count": 54,
     "metadata": {},
     "output_type": "execute_result"
    },
    {
     "data": {
      "image/png": "[encoded data removed]",
      "text/plain": [
       "<Figure size 432x288 with 1 Axes>"
      ]
     },
     "metadata": {
      "needs_background": "light"
     },
     "output_type": "display_data"
    }
   ],
   "source": [
    "pivot_table_total_area = data.pivot_table(index = 'total_area', values = 'price_per_square_meter', aggfunc = ['mean', 'count', 'median'])\n",
    "pivot_table_total_area.columns = ['mean', 'count', 'median']\n",
    "pivot_table_total_area.plot(y = 'median', style = 'o').set_title('Диаграмма рассеивания цены за м2 от площади')"
   ]
  },
  {
   "cell_type": "code",
   "execution_count": 55,
   "metadata": {},
   "outputs": [
    {
     "data": {
      "text/html": [
       "<div>\n",
       "<style scoped>\n",
       "    .dataframe tbody tr th:only-of-type {\n",
       "        vertical-align: middle;\n",
       "    }\n",
       "\n",
       "    .dataframe tbody tr th {\n",
       "        vertical-align: top;\n",
       "    }\n",
       "\n",
       "    .dataframe thead th {\n",
       "        text-align: right;\n",
       "    }\n",
       "</style>\n",
       "<table border=\"1\" class=\"dataframe\">\n",
       "  <thead>\n",
       "    <tr style=\"text-align: right;\">\n",
       "      <th></th>\n",
       "      <th>mean</th>\n",
       "      <th>count</th>\n",
       "      <th>median</th>\n",
       "    </tr>\n",
       "    <tr>\n",
       "      <th>total_area</th>\n",
       "      <th></th>\n",
       "      <th></th>\n",
       "      <th></th>\n",
       "    </tr>\n",
       "  </thead>\n",
       "  <tbody>\n",
       "    <tr>\n",
       "      <th>401.00</th>\n",
       "      <td>1000748.0</td>\n",
       "      <td>1</td>\n",
       "      <td>1000748.0</td>\n",
       "    </tr>\n",
       "    <tr>\n",
       "      <th>187.50</th>\n",
       "      <td>927302.0</td>\n",
       "      <td>2</td>\n",
       "      <td>927302.0</td>\n",
       "    </tr>\n",
       "    <tr>\n",
       "      <th>285.70</th>\n",
       "      <td>857542.0</td>\n",
       "      <td>1</td>\n",
       "      <td>857542.0</td>\n",
       "    </tr>\n",
       "    <tr>\n",
       "      <th>268.00</th>\n",
       "      <td>712201.0</td>\n",
       "      <td>1</td>\n",
       "      <td>712201.0</td>\n",
       "    </tr>\n",
       "    <tr>\n",
       "      <th>242.40</th>\n",
       "      <td>660000.0</td>\n",
       "      <td>1</td>\n",
       "      <td>660000.0</td>\n",
       "    </tr>\n",
       "    <tr>\n",
       "      <th>...</th>\n",
       "      <td>...</td>\n",
       "      <td>...</td>\n",
       "      <td>...</td>\n",
       "    </tr>\n",
       "    <tr>\n",
       "      <th>60.96</th>\n",
       "      <td>30347.0</td>\n",
       "      <td>1</td>\n",
       "      <td>30347.0</td>\n",
       "    </tr>\n",
       "    <tr>\n",
       "      <th>151.80</th>\n",
       "      <td>28919.0</td>\n",
       "      <td>1</td>\n",
       "      <td>28919.0</td>\n",
       "    </tr>\n",
       "    <tr>\n",
       "      <th>28.66</th>\n",
       "      <td>24075.0</td>\n",
       "      <td>1</td>\n",
       "      <td>24075.0</td>\n",
       "    </tr>\n",
       "    <tr>\n",
       "      <th>54.33</th>\n",
       "      <td>23927.0</td>\n",
       "      <td>1</td>\n",
       "      <td>23927.0</td>\n",
       "    </tr>\n",
       "    <tr>\n",
       "      <th>138.70</th>\n",
       "      <td>15861.0</td>\n",
       "      <td>1</td>\n",
       "      <td>15861.0</td>\n",
       "    </tr>\n",
       "  </tbody>\n",
       "</table>\n",
       "<p>2182 rows × 3 columns</p>\n",
       "</div>"
      ],
      "text/plain": [
       "                 mean  count     median\n",
       "total_area                             \n",
       "401.00      1000748.0      1  1000748.0\n",
       "187.50       927302.0      2   927302.0\n",
       "285.70       857542.0      1   857542.0\n",
       "268.00       712201.0      1   712201.0\n",
       "242.40       660000.0      1   660000.0\n",
       "...               ...    ...        ...\n",
       "60.96         30347.0      1    30347.0\n",
       "151.80        28919.0      1    28919.0\n",
       "28.66         24075.0      1    24075.0\n",
       "54.33         23927.0      1    23927.0\n",
       "138.70        15861.0      1    15861.0\n",
       "\n",
       "[2182 rows x 3 columns]"
      ]
     },
     "execution_count": 55,
     "metadata": {},
     "output_type": "execute_result"
    }
   ],
   "source": [
    "pivot_table_total_area.sort_values('median', ascending = False)"
   ]
  },
  {
   "cell_type": "markdown",
   "metadata": {},
   "source": [
    "Взаимосвязь двух или нескольких величин называется корреляция. Методом corr() найдем коэффициент корреляции. Метод применим к столбцу 'total_area', а столбец со второй величиной 'price_per_square_meter' передадим в параметре."
   ]
  },
  {
   "cell_type": "code",
   "execution_count": 56,
   "metadata": {},
   "outputs": [
    {
     "data": {
      "text/plain": [
       "0.30196014387792547"
      ]
     },
     "execution_count": 56,
     "metadata": {},
     "output_type": "execute_result"
    }
   ],
   "source": [
    "data['total_area'].corr(data['price_per_square_meter'])"
   ]
  },
  {
   "cell_type": "markdown",
   "metadata": {},
   "source": [
    "Зависимость слабая, поскольку коэффициент находится далеко от -1 и 1. Следовательно, чем больше площадь тем незначительно выше стоимость объекта недвижимости."
   ]
  },
  {
   "cell_type": "markdown",
   "metadata": {},
   "source": [
    "Зависит ли цена от числа комнат?"
   ]
  },
  {
   "cell_type": "code",
   "execution_count": 57,
   "metadata": {},
   "outputs": [
    {
     "data": {
      "text/plain": [
       "Text(0.5, 1.0, 'График зависимости цены за м2 от количества комнат')"
      ]
     },
     "execution_count": 57,
     "metadata": {},
     "output_type": "execute_result"
    },
    {
     "data": {
      "image/png": "[encoded data removed]",
      "text/plain": [
       "<Figure size 432x288 with 1 Axes>"
      ]
     },
     "metadata": {
      "needs_background": "light"
     },
     "output_type": "display_data"
    }
   ],
   "source": [
    "pivot_table_rooms = data.pivot_table(index = 'rooms', values = 'price_per_square_meter', aggfunc = ['mean', 'count', 'median'])\n",
    "pivot_table_rooms.columns = ['mean', 'count', 'median']\n",
    "pivot_table_rooms.query('count > 1').plot(y = 'median').set_title('График зависимости цены за м2 от количества комнат')"
   ]
  },
  {
   "cell_type": "markdown",
   "metadata": {},
   "source": [
    "Таким образом, цена за квадратный метр снижается к 3 ккв, а потом снова вырастает."
   ]
  },
  {
   "cell_type": "code",
   "execution_count": 58,
   "metadata": {},
   "outputs": [
    {
     "data": {
      "text/plain": [
       "0.0554194996705922"
      ]
     },
     "execution_count": 58,
     "metadata": {},
     "output_type": "execute_result"
    }
   ],
   "source": [
    "data['rooms'].corr(data['price_per_square_meter'])"
   ]
  },
  {
   "cell_type": "markdown",
   "metadata": {},
   "source": [
    "Коэффициент корреляции близок к нулю. Коэффициент нулевой не потому, что связи между значениями нет, а из-за того, что у неё более сложный, не линейный характер. Потому-то коэффициент корреляции такую связь не берёт."
   ]
  },
  {
   "cell_type": "markdown",
   "metadata": {},
   "source": [
    "Зависит ли цена от удалённости от центра?"
   ]
  },
  {
   "cell_type": "code",
   "execution_count": 59,
   "metadata": {},
   "outputs": [
    {
     "data": {
      "text/plain": [
       "Text(0.5, 1.0, 'Зависимость цены квартиры от удаленности от центра Санкт-Петербурга')"
      ]
     },
     "execution_count": 59,
     "metadata": {},
     "output_type": "execute_result"
    },
    {
     "data": {
      "image/png": "[encoded data removed]",
      "text/plain": [
       "<Figure size 432x288 with 1 Axes>"
      ]
     },
     "metadata": {
      "needs_background": "light"
     },
     "output_type": "display_data"
    }
   ],
   "source": [
    "data.plot(kind = 'scatter', y = 'last_price', x = 'cityCenters_nearest', alpha = 0.4).set_title('Зависимость цены квартиры от удаленности от центра Санкт-Петербурга')"
   ]
  },
  {
   "cell_type": "code",
   "execution_count": 60,
   "metadata": {},
   "outputs": [
    {
     "data": {
      "text/plain": [
       "-0.2067473487429838"
      ]
     },
     "execution_count": 60,
     "metadata": {},
     "output_type": "execute_result"
    }
   ],
   "source": [
    "data['cityCenters_nearest'].corr(data['last_price'])"
   ]
  },
  {
   "cell_type": "markdown",
   "metadata": {},
   "source": [
    "Наглядно видно, что чем ближе к ценру города, тем стоимость квадратного метра выше."
   ]
  },
  {
   "cell_type": "markdown",
   "metadata": {},
   "source": [
    "Изучим зависимость цены от того, на каком этаже расположена квартира: первом, последнем или другом."
   ]
  },
  {
   "cell_type": "code",
   "execution_count": 61,
   "metadata": {},
   "outputs": [
    {
     "data": {
      "text/plain": [
       "Text(0.5, 1.0, 'Зависимость цены квартиры от этажа, на котором она располагается')"
      ]
     },
     "execution_count": 61,
     "metadata": {},
     "output_type": "execute_result"
    },
    {
     "data": {
      "image/png": "[encoded data removed]",
      "text/plain": [
       "<Figure size 432x288 with 1 Axes>"
      ]
     },
     "metadata": {
      "needs_background": "light"
     },
     "output_type": "display_data"
    }
   ],
   "source": [
    "pivot_table_floors_category = data.query('floors_category != \"другой\"').pivot_table(index = 'floors_category', values = 'last_price', aggfunc = ['mean', 'count', 'median'])\n",
    "pivot_table_floors_category.columns = ['mean', 'count', 'median']\n",
    "pivot_table_floors_category.plot(y = 'median').set_title('Зависимость цены квартиры от этажа, на котором она располагается')"
   ]
  },
  {
   "cell_type": "markdown",
   "metadata": {},
   "source": [
    "В среднем стоимость квартиры растет вместе с этажностью."
   ]
  },
  {
   "cell_type": "markdown",
   "metadata": {},
   "source": [
    "Также изучим зависимость от даты размещения, а точнее - дня недели, месяца и года:"
   ]
  },
  {
   "cell_type": "code",
   "execution_count": 62,
   "metadata": {},
   "outputs": [
    {
     "data": {
      "image/png": "[encoded data removed]",
      "text/plain": [
       "<Figure size 432x288 with 1 Axes>"
      ]
     },
     "metadata": {
      "needs_background": "light"
     },
     "output_type": "display_data"
    },
    {
     "data": {
      "image/png": "[encoded data removed]",
      "text/plain": [
       "<Figure size 432x288 with 1 Axes>"
      ]
     },
     "metadata": {
      "needs_background": "light"
     },
     "output_type": "display_data"
    },
    {
     "data": {
      "image/png": "[encoded data removed]",
      "text/plain": [
       "<Figure size 432x288 with 1 Axes>"
      ]
     },
     "metadata": {
      "needs_background": "light"
     },
     "output_type": "display_data"
    }
   ],
   "source": [
    "for column in ['weekday_exposition', 'month_exposition', 'year_exposition']:\n",
    "    time_exposition = data.groupby(column)['price_per_square_meter'].agg('median')\n",
    "    time_exposition.plot(y='median')\n",
    "    plt.show()"
   ]
  },
  {
   "cell_type": "markdown",
   "metadata": {},
   "source": [
    "С понедельника на вторник выставляемые объявления имеют наивысшую цену на недвижимость, а по субботам - самая низкая цена. Это связано с активностью людей на буднях и отдыху на выходных.\n",
    "\n",
    "Мы можем наблюдать, что в мае-июне - самые низкие цены на недвижимость, а в апреле и сентябре - наивысшие. Рынку недвижимости как и другим отраслям присуща сезонность.\n",
    "\n",
    "Наблюдается \"впадина\", которая отражает, что цена за кв. м. дешевела с 14 года до 16 года, после начала расти.\n",
    "Возможно это последствия экономического кризиса 2014 года."
   ]
  },
  {
   "cell_type": "markdown",
   "metadata": {},
   "source": [
    "### 10 населённых пунктов с наибольшим числом объявлений"
   ]
  },
  {
   "cell_type": "markdown",
   "metadata": {},
   "source": [
    "Выберите 10 населённых пунктов с наибольшим числом объявлений. Посчитайте среднюю цену квадратного метра в этих населённых пунктах. Выделите среди них населённые пункты с самой высокой и низкой стоимостью жилья. Эти данные можно найти по имени в столбце 'locality_name'."
   ]
  },
  {
   "cell_type": "code",
   "execution_count": 63,
   "metadata": {},
   "outputs": [
    {
     "data": {
      "text/plain": [
       "Санкт-Петербург      15721\n",
       "посёлок Мурино         522\n",
       "посёлок Шушары         440\n",
       "Всеволожск             398\n",
       "Пушкин                 369\n",
       "Колпино                338\n",
       "посёлок Парголово      327\n",
       "Гатчина                307\n",
       "деревня Кудрово        299\n",
       "Выборг                 237\n",
       "Name: locality_name, dtype: int64"
      ]
     },
     "execution_count": 63,
     "metadata": {},
     "output_type": "execute_result"
    }
   ],
   "source": [
    "data['locality_name'].value_counts().head(10)"
   ]
  },
  {
   "cell_type": "code",
   "execution_count": 64,
   "metadata": {},
   "outputs": [
    {
     "data": {
      "text/html": [
       "<div>\n",
       "<style scoped>\n",
       "    .dataframe tbody tr th:only-of-type {\n",
       "        vertical-align: middle;\n",
       "    }\n",
       "\n",
       "    .dataframe tbody tr th {\n",
       "        vertical-align: top;\n",
       "    }\n",
       "\n",
       "    .dataframe thead th {\n",
       "        text-align: right;\n",
       "    }\n",
       "</style>\n",
       "<table border=\"1\" class=\"dataframe\">\n",
       "  <thead>\n",
       "    <tr style=\"text-align: right;\">\n",
       "      <th></th>\n",
       "      <th>count</th>\n",
       "      <th>mean</th>\n",
       "    </tr>\n",
       "    <tr>\n",
       "      <th>locality_name</th>\n",
       "      <th></th>\n",
       "      <th></th>\n",
       "    </tr>\n",
       "  </thead>\n",
       "  <tbody>\n",
       "    <tr>\n",
       "      <th>Санкт-Петербург</th>\n",
       "      <td>15721</td>\n",
       "      <td>114848.565231</td>\n",
       "    </tr>\n",
       "    <tr>\n",
       "      <th>посёлок Мурино</th>\n",
       "      <td>522</td>\n",
       "      <td>85751.733716</td>\n",
       "    </tr>\n",
       "    <tr>\n",
       "      <th>посёлок Шушары</th>\n",
       "      <td>440</td>\n",
       "      <td>78676.904545</td>\n",
       "    </tr>\n",
       "    <tr>\n",
       "      <th>Всеволожск</th>\n",
       "      <td>398</td>\n",
       "      <td>68654.007538</td>\n",
       "    </tr>\n",
       "    <tr>\n",
       "      <th>Пушкин</th>\n",
       "      <td>369</td>\n",
       "      <td>103125.373984</td>\n",
       "    </tr>\n",
       "    <tr>\n",
       "      <th>Колпино</th>\n",
       "      <td>338</td>\n",
       "      <td>75424.150888</td>\n",
       "    </tr>\n",
       "    <tr>\n",
       "      <th>посёлок Парголово</th>\n",
       "      <td>327</td>\n",
       "      <td>90175.489297</td>\n",
       "    </tr>\n",
       "    <tr>\n",
       "      <th>Гатчина</th>\n",
       "      <td>307</td>\n",
       "      <td>68745.693811</td>\n",
       "    </tr>\n",
       "    <tr>\n",
       "      <th>деревня Кудрово</th>\n",
       "      <td>299</td>\n",
       "      <td>92473.086957</td>\n",
       "    </tr>\n",
       "    <tr>\n",
       "      <th>Выборг</th>\n",
       "      <td>237</td>\n",
       "      <td>58141.489451</td>\n",
       "    </tr>\n",
       "  </tbody>\n",
       "</table>\n",
       "</div>"
      ],
      "text/plain": [
       "                   count           mean\n",
       "locality_name                          \n",
       "Санкт-Петербург    15721  114848.565231\n",
       "посёлок Мурино       522   85751.733716\n",
       "посёлок Шушары       440   78676.904545\n",
       "Всеволожск           398   68654.007538\n",
       "Пушкин               369  103125.373984\n",
       "Колпино              338   75424.150888\n",
       "посёлок Парголово    327   90175.489297\n",
       "Гатчина              307   68745.693811\n",
       "деревня Кудрово      299   92473.086957\n",
       "Выборг               237   58141.489451"
      ]
     },
     "metadata": {},
     "output_type": "display_data"
    }
   ],
   "source": [
    "locality_pivot_table = data.pivot_table(index = 'locality_name', values = 'price_per_square_meter', aggfunc=['count', 'mean'])\n",
    "locality_pivot_table.columns = ['count', 'mean']\n",
    "locality_pivot_table = locality_pivot_table.sort_values('count', ascending = False).head(10)\n",
    "display(locality_pivot_table)"
   ]
  },
  {
   "cell_type": "markdown",
   "metadata": {},
   "source": [
    "Найдем населенный пункт с самой дорогой ценой за квадратный метр:"
   ]
  },
  {
   "cell_type": "code",
   "execution_count": 65,
   "metadata": {},
   "outputs": [
    {
     "data": {
      "text/html": [
       "<div>\n",
       "<style scoped>\n",
       "    .dataframe tbody tr th:only-of-type {\n",
       "        vertical-align: middle;\n",
       "    }\n",
       "\n",
       "    .dataframe tbody tr th {\n",
       "        vertical-align: top;\n",
       "    }\n",
       "\n",
       "    .dataframe thead th {\n",
       "        text-align: right;\n",
       "    }\n",
       "</style>\n",
       "<table border=\"1\" class=\"dataframe\">\n",
       "  <thead>\n",
       "    <tr style=\"text-align: right;\">\n",
       "      <th></th>\n",
       "      <th>count</th>\n",
       "      <th>mean</th>\n",
       "    </tr>\n",
       "    <tr>\n",
       "      <th>locality_name</th>\n",
       "      <th></th>\n",
       "      <th></th>\n",
       "    </tr>\n",
       "  </thead>\n",
       "  <tbody>\n",
       "    <tr>\n",
       "      <th>Санкт-Петербург</th>\n",
       "      <td>15721</td>\n",
       "      <td>114848.565231</td>\n",
       "    </tr>\n",
       "  </tbody>\n",
       "</table>\n",
       "</div>"
      ],
      "text/plain": [
       "                 count           mean\n",
       "locality_name                        \n",
       "Санкт-Петербург  15721  114848.565231"
      ]
     },
     "execution_count": 65,
     "metadata": {},
     "output_type": "execute_result"
    }
   ],
   "source": [
    "locality_pivot_table[locality_pivot_table['mean']==locality_pivot_table['mean'].max()]"
   ]
  },
  {
   "cell_type": "markdown",
   "metadata": {},
   "source": [
    "Найдем населенный пункт с самой дешевой ценой за квадратный метр:"
   ]
  },
  {
   "cell_type": "code",
   "execution_count": 66,
   "metadata": {},
   "outputs": [
    {
     "data": {
      "text/html": [
       "<div>\n",
       "<style scoped>\n",
       "    .dataframe tbody tr th:only-of-type {\n",
       "        vertical-align: middle;\n",
       "    }\n",
       "\n",
       "    .dataframe tbody tr th {\n",
       "        vertical-align: top;\n",
       "    }\n",
       "\n",
       "    .dataframe thead th {\n",
       "        text-align: right;\n",
       "    }\n",
       "</style>\n",
       "<table border=\"1\" class=\"dataframe\">\n",
       "  <thead>\n",
       "    <tr style=\"text-align: right;\">\n",
       "      <th></th>\n",
       "      <th>count</th>\n",
       "      <th>mean</th>\n",
       "    </tr>\n",
       "    <tr>\n",
       "      <th>locality_name</th>\n",
       "      <th></th>\n",
       "      <th></th>\n",
       "    </tr>\n",
       "  </thead>\n",
       "  <tbody>\n",
       "    <tr>\n",
       "      <th>Выборг</th>\n",
       "      <td>237</td>\n",
       "      <td>58141.489451</td>\n",
       "    </tr>\n",
       "  </tbody>\n",
       "</table>\n",
       "</div>"
      ],
      "text/plain": [
       "               count          mean\n",
       "locality_name                     \n",
       "Выборг           237  58141.489451"
      ]
     },
     "execution_count": 66,
     "metadata": {},
     "output_type": "execute_result"
    }
   ],
   "source": [
    "locality_pivot_table[locality_pivot_table['mean']==locality_pivot_table['mean'].min()]"
   ]
  },
  {
   "cell_type": "markdown",
   "metadata": {},
   "source": [
    "Таким образом, как и было ожидаемо, самый дорогой кв. м. в Санкт-Петербурге, а вот самый дешевый - в Выборге."
   ]
  },
  {
   "cell_type": "markdown",
   "metadata": {},
   "source": [
    "### Расстояние до центра"
   ]
  },
  {
   "cell_type": "markdown",
   "metadata": {},
   "source": [
    "Создаем новый столбец с расстоянием до центра в км.:"
   ]
  },
  {
   "cell_type": "code",
   "execution_count": 67,
   "metadata": {},
   "outputs": [],
   "source": [
    "data['cityCenters_nearest_km'] = data['cityCenters_nearest'] / 1000"
   ]
  },
  {
   "cell_type": "markdown",
   "metadata": {},
   "source": [
    "Округлим значения до целого числа:"
   ]
  },
  {
   "cell_type": "code",
   "execution_count": 68,
   "metadata": {},
   "outputs": [],
   "source": [
    "data['cityCenters_nearest_km'] = data['cityCenters_nearest_km'].round()"
   ]
  },
  {
   "cell_type": "markdown",
   "metadata": {},
   "source": [
    "Создадим сводную таблицу со средней стоимостью за квадратный метр от расстояния до центра города:"
   ]
  },
  {
   "cell_type": "code",
   "execution_count": 69,
   "metadata": {},
   "outputs": [
    {
     "data": {
      "text/html": [
       "<div>\n",
       "<style scoped>\n",
       "    .dataframe tbody tr th:only-of-type {\n",
       "        vertical-align: middle;\n",
       "    }\n",
       "\n",
       "    .dataframe tbody tr th {\n",
       "        vertical-align: top;\n",
       "    }\n",
       "\n",
       "    .dataframe thead th {\n",
       "        text-align: right;\n",
       "    }\n",
       "</style>\n",
       "<table border=\"1\" class=\"dataframe\">\n",
       "  <thead>\n",
       "    <tr style=\"text-align: right;\">\n",
       "      <th></th>\n",
       "      <th>price_per_square_meter</th>\n",
       "    </tr>\n",
       "    <tr>\n",
       "      <th>cityCenters_nearest_km</th>\n",
       "      <th></th>\n",
       "    </tr>\n",
       "  </thead>\n",
       "  <tbody>\n",
       "    <tr>\n",
       "      <th>0.0</th>\n",
       "      <td>245833.111111</td>\n",
       "    </tr>\n",
       "    <tr>\n",
       "      <th>1.0</th>\n",
       "      <td>177004.963542</td>\n",
       "    </tr>\n",
       "    <tr>\n",
       "      <th>2.0</th>\n",
       "      <td>157848.564516</td>\n",
       "    </tr>\n",
       "    <tr>\n",
       "      <th>3.0</th>\n",
       "      <td>121386.991429</td>\n",
       "    </tr>\n",
       "    <tr>\n",
       "      <th>4.0</th>\n",
       "      <td>133282.422965</td>\n",
       "    </tr>\n",
       "  </tbody>\n",
       "</table>\n",
       "</div>"
      ],
      "text/plain": [
       "                        price_per_square_meter\n",
       "cityCenters_nearest_km                        \n",
       "0.0                              245833.111111\n",
       "1.0                              177004.963542\n",
       "2.0                              157848.564516\n",
       "3.0                              121386.991429\n",
       "4.0                              133282.422965"
      ]
     },
     "metadata": {},
     "output_type": "display_data"
    }
   ],
   "source": [
    "ad = data.query('locality_name == \"Санкт-Петербург\"').pivot_table(index = 'cityCenters_nearest_km', values = 'price_per_square_meter', aggfunc = 'mean')\n",
    "display(ad.head())"
   ]
  },
  {
   "cell_type": "markdown",
   "metadata": {},
   "source": [
    "Построим график зависимости стоимости кв. м. от расстояния до центра города:"
   ]
  },
  {
   "cell_type": "code",
   "execution_count": 70,
   "metadata": {},
   "outputs": [
    {
     "data": {
      "text/plain": [
       "<AxesSubplot:xlabel='cityCenters_nearest_km'>"
      ]
     },
     "execution_count": 70,
     "metadata": {},
     "output_type": "execute_result"
    },
    {
     "data": {
      "image/png": "[encoded data removed]",
      "text/plain": [
       "<Figure size 432x288 with 1 Axes>"
      ]
     },
     "metadata": {
      "needs_background": "light"
     },
     "output_type": "display_data"
    }
   ],
   "source": [
    "ad.plot()"
   ]
  },
  {
   "cell_type": "markdown",
   "metadata": {},
   "source": [
    "График показывает, что центральная зона ограничивается 3 км."
   ]
  },
  {
   "cell_type": "markdown",
   "metadata": {},
   "source": [
    "### Анализ квартир в центре Санкт-Петербурга"
   ]
  },
  {
   "cell_type": "markdown",
   "metadata": {},
   "source": [
    "Выделим в новую таблицу квартиры в центре Санкт-Петербурга (радиус 3 км, иходя из анализа пред. раздела)"
   ]
  },
  {
   "cell_type": "code",
   "execution_count": 71,
   "metadata": {},
   "outputs": [],
   "source": [
    "spb_center_data = data.query('cityCenters_nearest_km <= 3 and locality_name == \"Санкт-Петербург\"')"
   ]
  },
  {
   "cell_type": "markdown",
   "metadata": {},
   "source": [
    "Проанализируем эту территорию и изучим следующие параметры: площадь, цена, число комнат, высота потолков."
   ]
  },
  {
   "cell_type": "markdown",
   "metadata": {},
   "source": [
    "Посмотрим основные параметры площади квартир по центру С-Пб:"
   ]
  },
  {
   "cell_type": "code",
   "execution_count": 72,
   "metadata": {},
   "outputs": [
    {
     "data": {
      "text/plain": [
       "count    879.000000\n",
       "mean      98.632446\n",
       "std       56.543138\n",
       "min       12.000000\n",
       "25%       63.300000\n",
       "50%       85.000000\n",
       "75%      116.500000\n",
       "max      517.000000\n",
       "Name: total_area, dtype: float64"
      ]
     },
     "execution_count": 72,
     "metadata": {},
     "output_type": "execute_result"
    }
   ],
   "source": [
    "spb_center_data['total_area'].describe()"
   ]
  },
  {
   "cell_type": "markdown",
   "metadata": {},
   "source": [
    "Посмотрим на основные парматеры площади квартир по остальной части С-Пб и ЛО:"
   ]
  },
  {
   "cell_type": "code",
   "execution_count": 73,
   "metadata": {},
   "outputs": [
    {
     "data": {
      "text/plain": [
       "count    23699.000000\n",
       "mean        60.348651\n",
       "std         35.654083\n",
       "min         12.000000\n",
       "25%         40.000000\n",
       "50%         52.000000\n",
       "75%         69.900000\n",
       "max        900.000000\n",
       "Name: total_area, dtype: float64"
      ]
     },
     "execution_count": 73,
     "metadata": {},
     "output_type": "execute_result"
    }
   ],
   "source": [
    "data['total_area'].describe()"
   ]
  },
  {
   "cell_type": "markdown",
   "metadata": {},
   "source": [
    "Видно, что средняя площадь квартир в центре Санкт-Петербурга больше, чем в целом по региону. "
   ]
  },
  {
   "cell_type": "markdown",
   "metadata": {},
   "source": [
    "2) количество комнат:"
   ]
  },
  {
   "cell_type": "code",
   "execution_count": 74,
   "metadata": {},
   "outputs": [
    {
     "data": {
      "text/plain": [
       "count    879.000000\n",
       "mean       3.110353\n",
       "std        1.486575\n",
       "min        0.000000\n",
       "25%        2.000000\n",
       "50%        3.000000\n",
       "75%        4.000000\n",
       "max       14.000000\n",
       "Name: rooms, dtype: float64"
      ]
     },
     "execution_count": 74,
     "metadata": {},
     "output_type": "execute_result"
    }
   ],
   "source": [
    "spb_center_data['rooms'].describe()"
   ]
  },
  {
   "cell_type": "code",
   "execution_count": 75,
   "metadata": {},
   "outputs": [
    {
     "data": {
      "text/plain": [
       "count    23699.000000\n",
       "mean         2.070636\n",
       "std          1.078405\n",
       "min          0.000000\n",
       "25%          1.000000\n",
       "50%          2.000000\n",
       "75%          3.000000\n",
       "max         19.000000\n",
       "Name: rooms, dtype: float64"
      ]
     },
     "execution_count": 75,
     "metadata": {},
     "output_type": "execute_result"
    }
   ],
   "source": [
    "data['rooms'].describe()"
   ]
  },
  {
   "cell_type": "markdown",
   "metadata": {},
   "source": [
    "Количество комнат в квартирах в центре города в основном - 3. В целом по выборке - 2 ккв."
   ]
  },
  {
   "cell_type": "markdown",
   "metadata": {},
   "source": [
    "3) высота потолков"
   ]
  },
  {
   "cell_type": "code",
   "execution_count": 76,
   "metadata": {},
   "outputs": [
    {
     "data": {
      "text/plain": [
       "count    611.000000\n",
       "mean       3.253126\n",
       "std        1.034629\n",
       "min        2.500000\n",
       "25%        3.000000\n",
       "50%        3.200000\n",
       "75%        3.450000\n",
       "max       27.000000\n",
       "Name: ceiling_height, dtype: float64"
      ]
     },
     "execution_count": 76,
     "metadata": {},
     "output_type": "execute_result"
    }
   ],
   "source": [
    "spb_center_data['ceiling_height'].describe()"
   ]
  },
  {
   "cell_type": "code",
   "execution_count": 77,
   "metadata": {},
   "outputs": [
    {
     "data": {
      "text/plain": [
       "count    14504.000000\n",
       "mean         2.771499\n",
       "std          1.261056\n",
       "min          1.000000\n",
       "25%          2.520000\n",
       "50%          2.650000\n",
       "75%          2.800000\n",
       "max        100.000000\n",
       "Name: ceiling_height, dtype: float64"
      ]
     },
     "execution_count": 77,
     "metadata": {},
     "output_type": "execute_result"
    }
   ],
   "source": [
    "data['ceiling_height'].describe()"
   ]
  },
  {
   "cell_type": "markdown",
   "metadata": {},
   "source": [
    "Средняя высота потолка уменьшается дальше от центра города."
   ]
  },
  {
   "cell_type": "markdown",
   "metadata": {},
   "source": [
    "Рассмотрим зависимость стоимость квадратного метра от количества комнат.\n",
    "\n",
    "Создадим таблицу с помощью pivot_table(). "
   ]
  },
  {
   "cell_type": "code",
   "execution_count": 78,
   "metadata": {},
   "outputs": [],
   "source": [
    "spb_center_rooms = spb_center_data.pivot_table(index = 'rooms', values = 'price_per_square_meter', aggfunc = ['mean', 'count', 'median'])\n",
    "spb_center_rooms.columns = ['mean', 'count', 'median']"
   ]
  },
  {
   "cell_type": "markdown",
   "metadata": {},
   "source": [
    "Построим график зависимости средней цены за кв. м. от количества комнат в квартире:"
   ]
  },
  {
   "cell_type": "code",
   "execution_count": 79,
   "metadata": {},
   "outputs": [
    {
     "data": {
      "text/html": [
       "<div>\n",
       "<style scoped>\n",
       "    .dataframe tbody tr th:only-of-type {\n",
       "        vertical-align: middle;\n",
       "    }\n",
       "\n",
       "    .dataframe tbody tr th {\n",
       "        vertical-align: top;\n",
       "    }\n",
       "\n",
       "    .dataframe thead th {\n",
       "        text-align: right;\n",
       "    }\n",
       "</style>\n",
       "<table border=\"1\" class=\"dataframe\">\n",
       "  <thead>\n",
       "    <tr style=\"text-align: right;\">\n",
       "      <th></th>\n",
       "      <th>mean</th>\n",
       "      <th>count</th>\n",
       "      <th>median</th>\n",
       "    </tr>\n",
       "    <tr>\n",
       "      <th>rooms</th>\n",
       "      <th></th>\n",
       "      <th></th>\n",
       "      <th></th>\n",
       "    </tr>\n",
       "  </thead>\n",
       "  <tbody>\n",
       "    <tr>\n",
       "      <th>0</th>\n",
       "      <td>129724.500000</td>\n",
       "      <td>4</td>\n",
       "      <td>133421.5</td>\n",
       "    </tr>\n",
       "    <tr>\n",
       "      <th>11</th>\n",
       "      <td>132639.500000</td>\n",
       "      <td>2</td>\n",
       "      <td>132639.5</td>\n",
       "    </tr>\n",
       "    <tr>\n",
       "      <th>1</th>\n",
       "      <td>177918.042254</td>\n",
       "      <td>71</td>\n",
       "      <td>130733.0</td>\n",
       "    </tr>\n",
       "    <tr>\n",
       "      <th>2</th>\n",
       "      <td>152170.291829</td>\n",
       "      <td>257</td>\n",
       "      <td>123636.0</td>\n",
       "    </tr>\n",
       "    <tr>\n",
       "      <th>3</th>\n",
       "      <td>143999.708955</td>\n",
       "      <td>268</td>\n",
       "      <td>117303.0</td>\n",
       "    </tr>\n",
       "    <tr>\n",
       "      <th>7</th>\n",
       "      <td>133970.111111</td>\n",
       "      <td>18</td>\n",
       "      <td>110587.5</td>\n",
       "    </tr>\n",
       "    <tr>\n",
       "      <th>4</th>\n",
       "      <td>149582.967105</td>\n",
       "      <td>152</td>\n",
       "      <td>109945.0</td>\n",
       "    </tr>\n",
       "    <tr>\n",
       "      <th>5</th>\n",
       "      <td>153479.222222</td>\n",
       "      <td>72</td>\n",
       "      <td>105087.5</td>\n",
       "    </tr>\n",
       "    <tr>\n",
       "      <th>8</th>\n",
       "      <td>101643.000000</td>\n",
       "      <td>4</td>\n",
       "      <td>94762.5</td>\n",
       "    </tr>\n",
       "    <tr>\n",
       "      <th>6</th>\n",
       "      <td>137343.827586</td>\n",
       "      <td>29</td>\n",
       "      <td>89354.0</td>\n",
       "    </tr>\n",
       "  </tbody>\n",
       "</table>\n",
       "</div>"
      ],
      "text/plain": [
       "                mean  count    median\n",
       "rooms                                \n",
       "0      129724.500000      4  133421.5\n",
       "11     132639.500000      2  132639.5\n",
       "1      177918.042254     71  130733.0\n",
       "2      152170.291829    257  123636.0\n",
       "3      143999.708955    268  117303.0\n",
       "7      133970.111111     18  110587.5\n",
       "4      149582.967105    152  109945.0\n",
       "5      153479.222222     72  105087.5\n",
       "8      101643.000000      4   94762.5\n",
       "6      137343.827586     29   89354.0"
      ]
     },
     "execution_count": 79,
     "metadata": {},
     "output_type": "execute_result"
    },
    {
     "data": {
      "image/png": "[encoded data removed]",
      "text/plain": [
       "<Figure size 432x288 with 1 Axes>"
      ]
     },
     "metadata": {
      "needs_background": "light"
     },
     "output_type": "display_data"
    }
   ],
   "source": [
    "spb_center_rooms.query('count > 1').plot(y = 'median')\n",
    "\n",
    "spb_center_rooms.query('count > 1').sort_values('median', ascending = False)\n"
   ]
  },
  {
   "cell_type": "markdown",
   "metadata": {},
   "source": [
    "Цена за 1 кв м в центре СПб значительно выше. Самый дешевый 1 кв м - в 6 ккв, по региону - в 3 ккв."
   ]
  },
  {
   "cell_type": "code",
   "execution_count": 80,
   "metadata": {},
   "outputs": [
    {
     "data": {
      "text/plain": [
       "-0.04474767047593144"
      ]
     },
     "execution_count": 80,
     "metadata": {},
     "output_type": "execute_result"
    }
   ],
   "source": [
    "spb_center_data['rooms'].corr(spb_center_data['price_per_square_meter'])"
   ]
  },
  {
   "cell_type": "markdown",
   "metadata": {},
   "source": [
    "Коэффициент корреляции = -0,04, близок к нулю. Это говорит о том, что между показателями нет взаимосвязи."
   ]
  },
  {
   "cell_type": "markdown",
   "metadata": {},
   "source": [
    "Рассмотрим зависимость стоимость квадратного метра от этажности. "
   ]
  },
  {
   "cell_type": "code",
   "execution_count": 81,
   "metadata": {},
   "outputs": [],
   "source": [
    "spb_floors_category = spb_center_data.query('floors_category != \"другой\"').pivot_table(index = 'floors_category', values = 'price_per_square_meter', aggfunc = ['mean', 'count', 'median'])\n",
    "spb_floors_category.columns = ['mean', 'count', 'median']"
   ]
  },
  {
   "cell_type": "markdown",
   "metadata": {},
   "source": [
    "Построим график зависимости цены за 1 кв.м. от этажности:"
   ]
  },
  {
   "cell_type": "code",
   "execution_count": 82,
   "metadata": {},
   "outputs": [
    {
     "data": {
      "text/plain": [
       "<AxesSubplot:xlabel='floors_category'>"
      ]
     },
     "execution_count": 82,
     "metadata": {},
     "output_type": "execute_result"
    },
    {
     "data": {
      "image/png": "[encoded data removed]",
      "text/plain": [
       "<Figure size 432x288 with 1 Axes>"
      ]
     },
     "metadata": {
      "needs_background": "light"
     },
     "output_type": "display_data"
    }
   ],
   "source": [
    "spb_floors_category.plot(y = 'median')"
   ]
  },
  {
   "cell_type": "markdown",
   "metadata": {},
   "source": [
    "Ситуация ничем не отличается от выборки по региону. Стоимость квартир, в среднем, увеличивается с увеличением этажа, на которой она располагается."
   ]
  },
  {
   "cell_type": "markdown",
   "metadata": {},
   "source": []
  },
  {
   "cell_type": "markdown",
   "metadata": {},
   "source": [
    "Рассмотрим зависимость стоимости квадратного метра от удаленности от центра по СПб.\n",
    "\n",
    "Создадим таблицу с помощью pivot_table(). "
   ]
  },
  {
   "cell_type": "code",
   "execution_count": 83,
   "metadata": {},
   "outputs": [
    {
     "data": {
      "text/plain": [
       "<AxesSubplot:xlabel='cityCenters_nearest', ylabel='last_price'>"
      ]
     },
     "execution_count": 83,
     "metadata": {},
     "output_type": "execute_result"
    },
    {
     "data": {
      "image/png": "[encoded data removed]",
      "text/plain": [
       "<Figure size 432x288 with 1 Axes>"
      ]
     },
     "metadata": {
      "needs_background": "light"
     },
     "output_type": "display_data"
    }
   ],
   "source": [
    "spb_center_data.plot(kind = 'scatter', y = 'last_price', x = 'cityCenters_nearest', alpha = 0.4)"
   ]
  },
  {
   "cell_type": "code",
   "execution_count": 84,
   "metadata": {},
   "outputs": [
    {
     "data": {
      "text/plain": [
       "-0.16465623733396154"
      ]
     },
     "execution_count": 84,
     "metadata": {},
     "output_type": "execute_result"
    }
   ],
   "source": [
    "spb_center_data['cityCenters_nearest'].corr(spb_center_data['last_price'])"
   ]
  },
  {
   "cell_type": "markdown",
   "metadata": {},
   "source": [
    "Зависимости между этими параметрами нет, что подтверждает и коэффициент корреляции, поскольку мы и так ограничили квартиры радиусом в 3 км в начале  текущего раздела."
   ]
  },
  {
   "cell_type": "markdown",
   "metadata": {},
   "source": [
    "Зависимость стоимости от даты размещения объявления.\n",
    "\n",
    "Сначала посмотрим как влияет день недели на стоимость квартиры:"
   ]
  },
  {
   "cell_type": "code",
   "execution_count": 85,
   "metadata": {},
   "outputs": [
    {
     "data": {
      "text/plain": [
       "<AxesSubplot:xlabel='weekday_exposition'>"
      ]
     },
     "execution_count": 85,
     "metadata": {},
     "output_type": "execute_result"
    },
    {
     "data": {
      "image/png": "[encoded data removed]",
      "text/plain": [
       "<Figure size 432x288 with 1 Axes>"
      ]
     },
     "metadata": {
      "needs_background": "light"
     },
     "output_type": "display_data"
    }
   ],
   "source": [
    "spb_center_weekday_exposition = spb_center_data.pivot_table(index = 'weekday_exposition', values = 'price_per_square_meter', aggfunc = ['mean', 'count', 'median'])\n",
    "spb_center_weekday_exposition.columns = ['mean', 'count', 'median']\n",
    "spb_center_weekday_exposition.plot(y = 'median')"
   ]
  },
  {
   "cell_type": "markdown",
   "metadata": {},
   "source": [
    "По чт и вс - выставляемые объявления имеют, в среднем, самую низкую стоимость, а по пн и сб - наивысшую.\n",
    "Это отличается от общей выборки, поскольку там в сб - самая низкая цена."
   ]
  },
  {
   "cell_type": "markdown",
   "metadata": {},
   "source": [
    "Рассмотрим месяцы, в которые публикуются объявления:"
   ]
  },
  {
   "cell_type": "code",
   "execution_count": 86,
   "metadata": {},
   "outputs": [
    {
     "data": {
      "text/plain": [
       "<AxesSubplot:xlabel='month_exposition'>"
      ]
     },
     "execution_count": 86,
     "metadata": {},
     "output_type": "execute_result"
    },
    {
     "data": {
      "image/png": "[encoded data removed]",
      "text/plain": [
       "<Figure size 432x288 with 1 Axes>"
      ]
     },
     "metadata": {
      "needs_background": "light"
     },
     "output_type": "display_data"
    }
   ],
   "source": [
    "spb_center_month_exposition = spb_center_data.pivot_table(index = 'month_exposition', values = 'price_per_square_meter', aggfunc = ['mean', 'count', 'median'])\n",
    "spb_center_month_exposition.columns = ['mean', 'count', 'median']\n",
    "spb_center_month_exposition.plot(y = 'median')"
   ]
  },
  {
   "cell_type": "markdown",
   "metadata": {},
   "source": [
    "Здесь такая же ситуация как и с общей выборкой, где в апреле - наивысшая цена. Так и здесь наблюдается сезонность, где летом - более низкий ценник на квартиры. Таким образом, неважно где находится квартира: в центре города или за его пределами, в данном регионе - осенью, зимой и весной цены на квартиры выше, чем летом."
   ]
  },
  {
   "cell_type": "markdown",
   "metadata": {},
   "source": [
    "Посмотрим на ценник публикаций по годам:"
   ]
  },
  {
   "cell_type": "code",
   "execution_count": 87,
   "metadata": {},
   "outputs": [
    {
     "data": {
      "text/html": [
       "<div>\n",
       "<style scoped>\n",
       "    .dataframe tbody tr th:only-of-type {\n",
       "        vertical-align: middle;\n",
       "    }\n",
       "\n",
       "    .dataframe tbody tr th {\n",
       "        vertical-align: top;\n",
       "    }\n",
       "\n",
       "    .dataframe thead th {\n",
       "        text-align: right;\n",
       "    }\n",
       "</style>\n",
       "<table border=\"1\" class=\"dataframe\">\n",
       "  <thead>\n",
       "    <tr style=\"text-align: right;\">\n",
       "      <th></th>\n",
       "      <th>mean</th>\n",
       "      <th>count</th>\n",
       "      <th>median</th>\n",
       "    </tr>\n",
       "    <tr>\n",
       "      <th>year_exposition</th>\n",
       "      <th></th>\n",
       "      <th></th>\n",
       "      <th></th>\n",
       "    </tr>\n",
       "  </thead>\n",
       "  <tbody>\n",
       "    <tr>\n",
       "      <th>2019</th>\n",
       "      <td>184901.171717</td>\n",
       "      <td>99</td>\n",
       "      <td>133333.0</td>\n",
       "    </tr>\n",
       "    <tr>\n",
       "      <th>2018</th>\n",
       "      <td>148071.214575</td>\n",
       "      <td>247</td>\n",
       "      <td>123529.0</td>\n",
       "    </tr>\n",
       "    <tr>\n",
       "      <th>2017</th>\n",
       "      <td>142407.552795</td>\n",
       "      <td>322</td>\n",
       "      <td>116654.5</td>\n",
       "    </tr>\n",
       "    <tr>\n",
       "      <th>2015</th>\n",
       "      <td>156105.433333</td>\n",
       "      <td>90</td>\n",
       "      <td>107980.5</td>\n",
       "    </tr>\n",
       "    <tr>\n",
       "      <th>2016</th>\n",
       "      <td>133605.403509</td>\n",
       "      <td>114</td>\n",
       "      <td>107142.5</td>\n",
       "    </tr>\n",
       "  </tbody>\n",
       "</table>\n",
       "</div>"
      ],
      "text/plain": [
       "                          mean  count    median\n",
       "year_exposition                                \n",
       "2019             184901.171717     99  133333.0\n",
       "2018             148071.214575    247  123529.0\n",
       "2017             142407.552795    322  116654.5\n",
       "2015             156105.433333     90  107980.5\n",
       "2016             133605.403509    114  107142.5"
      ]
     },
     "execution_count": 87,
     "metadata": {},
     "output_type": "execute_result"
    },
    {
     "data": {
      "image/png": "[encoded data removed]",
      "text/plain": [
       "<Figure size 432x288 with 1 Axes>"
      ]
     },
     "metadata": {
      "needs_background": "light"
     },
     "output_type": "display_data"
    }
   ],
   "source": [
    "spb_center_year_exposition = spb_center_data.pivot_table(index = 'year_exposition', values = 'price_per_square_meter', aggfunc = ['mean', 'count', 'median'])\n",
    "spb_center_year_exposition.columns = ['mean', 'count', 'median']\n",
    "spb_center_year_exposition.query('count > 10').plot(y = 'median')\n",
    "\n",
    "spb_center_year_exposition.query('count > 10').sort_values('median', ascending = False)"
   ]
  },
  {
   "cell_type": "markdown",
   "metadata": {},
   "source": [
    "Цена на квартиры плавно растут с 15-16 гг. Такая же ситуация и по общей выборке."
   ]
  },
  {
   "cell_type": "markdown",
   "metadata": {},
   "source": [
    "## Общий вывод"
   ]
  },
  {
   "cell_type": "markdown",
   "metadata": {},
   "source": [
    "Мы провели анализ полученных данных. Обработали пропущенные значения, где это было возможно, и указали возможные причины их возникновения. Привели данные к необходимому типу. Рассчитали цену за 1 кв. м., провели категоризацию по этажам, добавили эти знасения в новые столбцы таблицы. Также в процентном соотношении посчитали жилую площадь к общей, а также площадь кухни к общей площади. В результате обработки данных были обнаружены выбивающиеся данные = аномалии.\n",
    "\n",
    "Провели исследовательский анализ данных, разбирая каждый параметр. \n",
    "\n",
    "Больше всего на рынке продаются однокомнатные квартиры. \n",
    "\n",
    "Изучая время продажи квартир был сделан вывод: продать квартиру в течении 600 дней - это нормальное дело. Если время продажи более 600 дней - считается \"долгой\" продажей.\n",
    "\n",
    "На стоимость квартиры влияют:\n",
    "1) на каком этаже она находится (чем выше этаж - тем выше стоимость квартиры);\n",
    "2) чем ближе квартира к центру Санкт-Петербурга, тем цена за 1 кв. м. выше;\n",
    "3) количество комнат: цена за 1 кв. м. выше в 1-2 ккв, самая низкая стоимость 1 кв. м. в 3 ккв.\n",
    "4) дата публикации объявления: с понедельника на вторник выставляемые объявления имеют наивысшую цену на недвижимость, а по субботам - самая низкая цена. Это связано с активностью людей на буднях и отдыху на выходных. Также рынку недвижимости присуща сезонность, летом - наименьшая стоимость квартир, в то время как весной и осенью - цены на квартиры значительно выше. \n",
    "\n",
    "Отметим другие важные моменты: \n",
    "1) после 2014 года - стоимость 1 кв. м. снижалась, возможно это влияние кризиса в 2014 году, после 16 года цена за метр плавно растет;\n",
    "2) судя по резкости изменения цен в зависимости от удаления от центра СПБ, был выявлен радиус центра города = 3 км.\n",
    "\n"
   ]
  }
 ],
 "metadata": {
  "ExecuteTimeLog": [
   {
    "duration": 648,
    "start_time": "2021-09-18T16:39:35.937Z"
   },
   {
    "duration": 72,
    "start_time": "2021-09-18T16:39:45.918Z"
   },
   {
    "duration": 91,
    "start_time": "2021-09-18T16:43:29.612Z"
   },
   {
    "duration": 11,
    "start_time": "2021-09-18T16:46:58.071Z"
   },
   {
    "duration": 366,
    "start_time": "2021-09-18T17:32:36.942Z"
   },
   {
    "duration": 282,
    "start_time": "2021-09-18T17:32:46.518Z"
   },
   {
    "duration": 704,
    "start_time": "2021-09-18T17:33:05.868Z"
   },
   {
    "duration": 76,
    "start_time": "2021-09-18T17:33:06.573Z"
   },
   {
    "duration": 11,
    "start_time": "2021-09-18T17:33:06.651Z"
   },
   {
    "duration": 372,
    "start_time": "2021-09-18T17:33:06.663Z"
   },
   {
    "duration": 284,
    "start_time": "2021-09-18T17:34:04.511Z"
   },
   {
    "duration": 7,
    "start_time": "2021-09-18T17:49:02.589Z"
   },
   {
    "duration": 6,
    "start_time": "2021-09-18T18:24:08.201Z"
   },
   {
    "duration": 5,
    "start_time": "2021-09-18T18:29:04.538Z"
   },
   {
    "duration": 5,
    "start_time": "2021-09-18T18:30:38.066Z"
   },
   {
    "duration": 8,
    "start_time": "2021-09-18T18:30:48.881Z"
   },
   {
    "duration": 5,
    "start_time": "2021-09-18T18:31:04.616Z"
   },
   {
    "duration": 5,
    "start_time": "2021-09-18T18:35:45.018Z"
   },
   {
    "duration": 6,
    "start_time": "2021-09-18T18:38:03.455Z"
   },
   {
    "duration": 5,
    "start_time": "2021-09-18T18:38:15.868Z"
   },
   {
    "duration": 9,
    "start_time": "2021-09-18T18:40:11.679Z"
   },
   {
    "duration": 9,
    "start_time": "2021-09-18T18:40:35.661Z"
   },
   {
    "duration": 11,
    "start_time": "2021-09-18T18:44:55.702Z"
   },
   {
    "duration": 5,
    "start_time": "2021-09-18T18:45:32.360Z"
   },
   {
    "duration": 323,
    "start_time": "2021-09-22T09:42:01.615Z"
   },
   {
    "duration": 980,
    "start_time": "2021-09-22T09:42:15.453Z"
   },
   {
    "duration": 120,
    "start_time": "2021-09-22T09:42:16.436Z"
   },
   {
    "duration": 10,
    "start_time": "2021-09-22T09:42:16.559Z"
   },
   {
    "duration": 5,
    "start_time": "2021-09-22T09:42:16.571Z"
   },
   {
    "duration": 8,
    "start_time": "2021-09-22T09:42:16.578Z"
   },
   {
    "duration": 5,
    "start_time": "2021-09-22T09:42:16.588Z"
   },
   {
    "duration": 11,
    "start_time": "2021-09-22T09:42:16.595Z"
   },
   {
    "duration": 40,
    "start_time": "2021-09-22T09:42:16.608Z"
   },
   {
    "duration": 347,
    "start_time": "2021-09-22T09:42:16.650Z"
   },
   {
    "duration": 277,
    "start_time": "2021-09-22T09:56:17.244Z"
   },
   {
    "duration": 208,
    "start_time": "2021-09-22T09:57:01.396Z"
   },
   {
    "duration": 231,
    "start_time": "2021-09-22T09:57:13.984Z"
   },
   {
    "duration": 294,
    "start_time": "2021-09-22T09:57:22.646Z"
   },
   {
    "duration": 7,
    "start_time": "2021-09-22T09:58:48.757Z"
   },
   {
    "duration": 9,
    "start_time": "2021-09-22T10:01:04.828Z"
   },
   {
    "duration": 197,
    "start_time": "2021-09-22T10:02:55.510Z"
   },
   {
    "duration": 34,
    "start_time": "2021-09-22T10:09:32.071Z"
   },
   {
    "duration": 29,
    "start_time": "2021-09-22T10:09:53.865Z"
   },
   {
    "duration": 7,
    "start_time": "2021-09-22T10:14:53.708Z"
   },
   {
    "duration": 6,
    "start_time": "2021-09-22T10:28:52.327Z"
   },
   {
    "duration": 9,
    "start_time": "2021-09-22T10:29:32.581Z"
   },
   {
    "duration": 265,
    "start_time": "2021-09-22T10:29:49.646Z"
   },
   {
    "duration": 291,
    "start_time": "2021-09-22T10:30:20.404Z"
   },
   {
    "duration": 521,
    "start_time": "2021-09-22T10:30:25.013Z"
   },
   {
    "duration": 7,
    "start_time": "2021-09-22T10:30:31.299Z"
   },
   {
    "duration": 6,
    "start_time": "2021-09-22T10:37:21.084Z"
   },
   {
    "duration": 4,
    "start_time": "2021-09-22T10:37:28.323Z"
   },
   {
    "duration": 5,
    "start_time": "2021-09-22T10:37:32.847Z"
   },
   {
    "duration": 5,
    "start_time": "2021-09-22T10:38:15.029Z"
   },
   {
    "duration": 273,
    "start_time": "2021-09-22T10:38:16.908Z"
   },
   {
    "duration": 8,
    "start_time": "2021-09-22T10:38:23.117Z"
   },
   {
    "duration": 4,
    "start_time": "2021-09-22T10:41:04.828Z"
   },
   {
    "duration": 7,
    "start_time": "2021-09-22T10:43:08.103Z"
   },
   {
    "duration": 9,
    "start_time": "2021-09-22T10:44:30.040Z"
   },
   {
    "duration": 7,
    "start_time": "2021-09-22T10:47:12.916Z"
   },
   {
    "duration": 8,
    "start_time": "2021-09-22T10:47:47.461Z"
   },
   {
    "duration": 4,
    "start_time": "2021-09-22T10:47:51.874Z"
   },
   {
    "duration": 720,
    "start_time": "2021-09-22T10:48:01.268Z"
   },
   {
    "duration": 95,
    "start_time": "2021-09-22T10:48:01.989Z"
   },
   {
    "duration": 12,
    "start_time": "2021-09-22T10:48:02.087Z"
   },
   {
    "duration": 6,
    "start_time": "2021-09-22T10:48:02.101Z"
   },
   {
    "duration": 295,
    "start_time": "2021-09-22T10:48:02.108Z"
   },
   {
    "duration": 9,
    "start_time": "2021-09-22T10:48:02.405Z"
   },
   {
    "duration": 47,
    "start_time": "2021-09-22T10:48:02.416Z"
   },
   {
    "duration": 5,
    "start_time": "2021-09-22T10:48:02.465Z"
   },
   {
    "duration": 12,
    "start_time": "2021-09-22T10:48:02.472Z"
   },
   {
    "duration": 4,
    "start_time": "2021-09-22T10:48:02.486Z"
   },
   {
    "duration": 8,
    "start_time": "2021-09-22T10:48:02.492Z"
   },
   {
    "duration": 19,
    "start_time": "2021-09-22T10:48:02.501Z"
   },
   {
    "duration": 39,
    "start_time": "2021-09-22T10:48:02.521Z"
   },
   {
    "duration": 12,
    "start_time": "2021-09-22T10:48:02.562Z"
   },
   {
    "duration": 7,
    "start_time": "2021-09-22T10:48:02.576Z"
   },
   {
    "duration": 6,
    "start_time": "2021-09-22T10:48:02.585Z"
   },
   {
    "duration": 4,
    "start_time": "2021-09-22T10:48:29.123Z"
   },
   {
    "duration": 9,
    "start_time": "2021-09-22T10:53:46.376Z"
   },
   {
    "duration": 7,
    "start_time": "2021-09-22T10:57:48.088Z"
   },
   {
    "duration": 6,
    "start_time": "2021-09-22T10:58:22.758Z"
   },
   {
    "duration": 8,
    "start_time": "2021-09-22T10:58:59.933Z"
   },
   {
    "duration": 7,
    "start_time": "2021-09-22T10:59:35.939Z"
   },
   {
    "duration": 8,
    "start_time": "2021-09-22T11:00:16.474Z"
   },
   {
    "duration": 10,
    "start_time": "2021-09-22T11:02:49.310Z"
   },
   {
    "duration": 4,
    "start_time": "2021-09-22T11:06:12.006Z"
   },
   {
    "duration": 98,
    "start_time": "2021-09-22T11:18:02.223Z"
   },
   {
    "duration": 390,
    "start_time": "2021-09-22T11:20:33.973Z"
   },
   {
    "duration": 283,
    "start_time": "2021-09-22T11:21:19.511Z"
   },
   {
    "duration": 716,
    "start_time": "2021-09-22T11:21:26.541Z"
   },
   {
    "duration": 92,
    "start_time": "2021-09-22T11:21:27.259Z"
   },
   {
    "duration": 11,
    "start_time": "2021-09-22T11:21:27.353Z"
   },
   {
    "duration": 9,
    "start_time": "2021-09-22T11:21:27.366Z"
   },
   {
    "duration": 307,
    "start_time": "2021-09-22T11:21:27.377Z"
   },
   {
    "duration": 9,
    "start_time": "2021-09-22T11:21:27.686Z"
   },
   {
    "duration": 51,
    "start_time": "2021-09-22T11:21:27.697Z"
   },
   {
    "duration": 5,
    "start_time": "2021-09-22T11:21:27.751Z"
   },
   {
    "duration": 30,
    "start_time": "2021-09-22T11:21:27.759Z"
   },
   {
    "duration": 33,
    "start_time": "2021-09-22T11:21:27.791Z"
   },
   {
    "duration": 17,
    "start_time": "2021-09-22T11:21:27.826Z"
   },
   {
    "duration": 36,
    "start_time": "2021-09-22T11:21:27.845Z"
   },
   {
    "duration": 27,
    "start_time": "2021-09-22T11:21:27.883Z"
   },
   {
    "duration": 24,
    "start_time": "2021-09-22T11:21:27.912Z"
   },
   {
    "duration": 36,
    "start_time": "2021-09-22T11:21:27.938Z"
   },
   {
    "duration": 26,
    "start_time": "2021-09-22T11:21:27.976Z"
   },
   {
    "duration": 24,
    "start_time": "2021-09-22T11:21:28.004Z"
   },
   {
    "duration": 31,
    "start_time": "2021-09-22T11:21:28.029Z"
   },
   {
    "duration": 23,
    "start_time": "2021-09-22T11:21:28.062Z"
   },
   {
    "duration": 21,
    "start_time": "2021-09-22T11:21:28.087Z"
   },
   {
    "duration": 22,
    "start_time": "2021-09-22T11:21:28.110Z"
   },
   {
    "duration": 15,
    "start_time": "2021-09-22T11:21:28.134Z"
   },
   {
    "duration": 8,
    "start_time": "2021-09-22T11:21:28.152Z"
   },
   {
    "duration": 5,
    "start_time": "2021-09-22T11:21:28.162Z"
   },
   {
    "duration": 364,
    "start_time": "2021-09-22T11:21:28.168Z"
   },
   {
    "duration": 285,
    "start_time": "2021-09-22T11:21:41.032Z"
   },
   {
    "duration": 335,
    "start_time": "2021-09-22T11:22:39.776Z"
   },
   {
    "duration": 389,
    "start_time": "2021-09-22T11:24:42.541Z"
   },
   {
    "duration": 309,
    "start_time": "2021-09-22T11:25:07.616Z"
   },
   {
    "duration": 8,
    "start_time": "2021-09-22T11:26:52.745Z"
   },
   {
    "duration": 7,
    "start_time": "2021-09-22T11:32:24.063Z"
   },
   {
    "duration": 8,
    "start_time": "2021-09-22T11:34:42.229Z"
   },
   {
    "duration": 7,
    "start_time": "2021-09-22T11:34:47.316Z"
   },
   {
    "duration": 5,
    "start_time": "2021-09-22T11:35:05.327Z"
   },
   {
    "duration": 4,
    "start_time": "2021-09-22T11:57:25.645Z"
   },
   {
    "duration": 13,
    "start_time": "2021-09-22T11:58:01.759Z"
   },
   {
    "duration": 4,
    "start_time": "2021-09-22T11:58:09.960Z"
   },
   {
    "duration": 12,
    "start_time": "2021-09-22T11:58:25.976Z"
   },
   {
    "duration": 645,
    "start_time": "2021-09-22T12:05:58.187Z"
   },
   {
    "duration": 85,
    "start_time": "2021-09-22T12:05:58.834Z"
   },
   {
    "duration": 12,
    "start_time": "2021-09-22T12:05:58.921Z"
   },
   {
    "duration": 14,
    "start_time": "2021-09-22T12:05:58.935Z"
   },
   {
    "duration": 295,
    "start_time": "2021-09-22T12:05:58.951Z"
   },
   {
    "duration": 9,
    "start_time": "2021-09-22T12:05:59.248Z"
   },
   {
    "duration": 27,
    "start_time": "2021-09-22T12:05:59.259Z"
   },
   {
    "duration": 4,
    "start_time": "2021-09-22T12:05:59.290Z"
   },
   {
    "duration": 11,
    "start_time": "2021-09-22T12:05:59.297Z"
   },
   {
    "duration": 38,
    "start_time": "2021-09-22T12:05:59.310Z"
   },
   {
    "duration": 6,
    "start_time": "2021-09-22T12:05:59.350Z"
   },
   {
    "duration": 10,
    "start_time": "2021-09-22T12:05:59.358Z"
   },
   {
    "duration": 10,
    "start_time": "2021-09-22T12:05:59.370Z"
   },
   {
    "duration": 8,
    "start_time": "2021-09-22T12:05:59.382Z"
   },
   {
    "duration": 6,
    "start_time": "2021-09-22T12:05:59.392Z"
   },
   {
    "duration": 46,
    "start_time": "2021-09-22T12:05:59.400Z"
   },
   {
    "duration": 11,
    "start_time": "2021-09-22T12:05:59.448Z"
   },
   {
    "duration": 10,
    "start_time": "2021-09-22T12:05:59.461Z"
   },
   {
    "duration": 6,
    "start_time": "2021-09-22T12:05:59.473Z"
   },
   {
    "duration": 7,
    "start_time": "2021-09-22T12:05:59.481Z"
   },
   {
    "duration": 6,
    "start_time": "2021-09-22T12:05:59.489Z"
   },
   {
    "duration": 48,
    "start_time": "2021-09-22T12:05:59.497Z"
   },
   {
    "duration": 9,
    "start_time": "2021-09-22T12:05:59.549Z"
   },
   {
    "duration": 3,
    "start_time": "2021-09-22T12:05:59.560Z"
   },
   {
    "duration": 12,
    "start_time": "2021-09-22T12:05:59.565Z"
   },
   {
    "duration": 4,
    "start_time": "2021-09-22T12:05:59.579Z"
   },
   {
    "duration": 10,
    "start_time": "2021-09-22T12:05:59.585Z"
   },
   {
    "duration": 50,
    "start_time": "2021-09-22T12:05:59.597Z"
   },
   {
    "duration": 9,
    "start_time": "2021-09-22T12:10:55.776Z"
   },
   {
    "duration": 26,
    "start_time": "2021-09-22T12:11:06.227Z"
   },
   {
    "duration": 4,
    "start_time": "2021-09-22T12:22:01.811Z"
   },
   {
    "duration": 23,
    "start_time": "2021-09-22T12:22:09.779Z"
   },
   {
    "duration": 12,
    "start_time": "2021-09-22T12:28:48.925Z"
   },
   {
    "duration": 28,
    "start_time": "2021-09-22T12:29:11.770Z"
   },
   {
    "duration": 548,
    "start_time": "2021-09-22T12:39:23.215Z"
   },
   {
    "duration": 501,
    "start_time": "2021-09-22T12:39:30.997Z"
   },
   {
    "duration": 22,
    "start_time": "2021-09-22T12:42:08.920Z"
   },
   {
    "duration": 23,
    "start_time": "2021-09-22T12:42:45.728Z"
   },
   {
    "duration": 394,
    "start_time": "2021-09-22T12:43:45.160Z"
   },
   {
    "duration": 278,
    "start_time": "2021-09-22T12:44:58.054Z"
   },
   {
    "duration": 275,
    "start_time": "2021-09-22T12:45:10.067Z"
   },
   {
    "duration": 24,
    "start_time": "2021-09-22T12:45:16.394Z"
   },
   {
    "duration": 23,
    "start_time": "2021-09-22T12:45:41.458Z"
   },
   {
    "duration": 272,
    "start_time": "2021-09-22T12:46:44.109Z"
   },
   {
    "duration": 24,
    "start_time": "2021-09-22T12:46:51.318Z"
   },
   {
    "duration": 354,
    "start_time": "2021-09-22T13:04:16.533Z"
   },
   {
    "duration": 366,
    "start_time": "2021-09-22T13:04:25.486Z"
   },
   {
    "duration": 449,
    "start_time": "2021-09-22T13:04:45.183Z"
   },
   {
    "duration": 102,
    "start_time": "2021-09-22T13:09:00.600Z"
   },
   {
    "duration": 397,
    "start_time": "2021-09-22T13:09:06.042Z"
   },
   {
    "duration": 341,
    "start_time": "2021-09-22T13:09:12.687Z"
   },
   {
    "duration": 9,
    "start_time": "2021-09-22T13:10:49.042Z"
   },
   {
    "duration": 318,
    "start_time": "2021-09-22T13:10:59.072Z"
   },
   {
    "duration": 386,
    "start_time": "2021-09-22T13:15:53.963Z"
   },
   {
    "duration": 417,
    "start_time": "2021-09-22T13:16:29.485Z"
   },
   {
    "duration": 9,
    "start_time": "2021-09-22T13:23:06.897Z"
   },
   {
    "duration": 11,
    "start_time": "2021-09-22T13:31:34.322Z"
   },
   {
    "duration": 452,
    "start_time": "2021-09-22T13:32:32.344Z"
   },
   {
    "duration": 9,
    "start_time": "2021-09-22T13:40:31.690Z"
   },
   {
    "duration": 506,
    "start_time": "2021-09-22T13:40:48.251Z"
   },
   {
    "duration": 431,
    "start_time": "2021-09-22T13:40:57.369Z"
   },
   {
    "duration": 360,
    "start_time": "2021-09-22T13:41:17.829Z"
   },
   {
    "duration": 363,
    "start_time": "2021-09-22T13:41:48.275Z"
   },
   {
    "duration": 372,
    "start_time": "2021-09-22T13:42:08.976Z"
   },
   {
    "duration": 9,
    "start_time": "2021-09-22T13:42:37.056Z"
   },
   {
    "duration": 9,
    "start_time": "2021-09-22T13:42:44.336Z"
   },
   {
    "duration": 679,
    "start_time": "2021-09-22T13:42:56.677Z"
   },
   {
    "duration": 102,
    "start_time": "2021-09-22T13:42:57.358Z"
   },
   {
    "duration": 12,
    "start_time": "2021-09-22T13:42:57.463Z"
   },
   {
    "duration": 8,
    "start_time": "2021-09-22T13:42:57.478Z"
   },
   {
    "duration": 316,
    "start_time": "2021-09-22T13:42:57.487Z"
   },
   {
    "duration": 11,
    "start_time": "2021-09-22T13:42:57.804Z"
   },
   {
    "duration": 49,
    "start_time": "2021-09-22T13:42:57.817Z"
   },
   {
    "duration": 5,
    "start_time": "2021-09-22T13:42:57.868Z"
   },
   {
    "duration": 25,
    "start_time": "2021-09-22T13:42:57.876Z"
   },
   {
    "duration": 16,
    "start_time": "2021-09-22T13:42:57.903Z"
   },
   {
    "duration": 25,
    "start_time": "2021-09-22T13:42:57.921Z"
   },
   {
    "duration": 33,
    "start_time": "2021-09-22T13:42:57.947Z"
   },
   {
    "duration": 36,
    "start_time": "2021-09-22T13:42:57.982Z"
   },
   {
    "duration": 25,
    "start_time": "2021-09-22T13:42:58.020Z"
   },
   {
    "duration": 23,
    "start_time": "2021-09-22T13:42:58.047Z"
   },
   {
    "duration": 30,
    "start_time": "2021-09-22T13:42:58.071Z"
   },
   {
    "duration": 29,
    "start_time": "2021-09-22T13:42:58.103Z"
   },
   {
    "duration": 37,
    "start_time": "2021-09-22T13:42:58.133Z"
   },
   {
    "duration": 26,
    "start_time": "2021-09-22T13:42:58.172Z"
   },
   {
    "duration": 41,
    "start_time": "2021-09-22T13:42:58.199Z"
   },
   {
    "duration": 21,
    "start_time": "2021-09-22T13:42:58.242Z"
   },
   {
    "duration": 17,
    "start_time": "2021-09-22T13:42:58.265Z"
   },
   {
    "duration": 29,
    "start_time": "2021-09-22T13:42:58.284Z"
   },
   {
    "duration": 8,
    "start_time": "2021-09-22T13:42:58.315Z"
   },
   {
    "duration": 43,
    "start_time": "2021-09-22T13:42:58.325Z"
   },
   {
    "duration": 18,
    "start_time": "2021-09-22T13:42:58.370Z"
   },
   {
    "duration": 29,
    "start_time": "2021-09-22T13:42:58.391Z"
   },
   {
    "duration": 33,
    "start_time": "2021-09-22T13:42:58.422Z"
   },
   {
    "duration": 34,
    "start_time": "2021-09-22T13:42:58.457Z"
   },
   {
    "duration": 23,
    "start_time": "2021-09-22T13:42:58.493Z"
   },
   {
    "duration": 49,
    "start_time": "2021-09-22T13:42:58.518Z"
   },
   {
    "duration": 577,
    "start_time": "2021-09-22T13:42:58.568Z"
   },
   {
    "duration": 23,
    "start_time": "2021-09-22T13:42:59.147Z"
   },
   {
    "duration": 453,
    "start_time": "2021-09-22T13:42:59.172Z"
   },
   {
    "duration": 23,
    "start_time": "2021-09-22T13:42:59.626Z"
   },
   {
    "duration": 10,
    "start_time": "2021-09-22T13:42:59.651Z"
   },
   {
    "duration": 18,
    "start_time": "2021-09-22T13:42:59.664Z"
   },
   {
    "duration": 427,
    "start_time": "2021-09-22T13:42:59.684Z"
   },
   {
    "duration": 455,
    "start_time": "2021-09-22T13:43:47.471Z"
   },
   {
    "duration": 438,
    "start_time": "2021-09-22T13:44:15.673Z"
   },
   {
    "duration": 313,
    "start_time": "2021-09-22T13:49:11.039Z"
   },
   {
    "duration": 9,
    "start_time": "2021-09-22T13:49:52.470Z"
   },
   {
    "duration": 292,
    "start_time": "2021-09-22T13:51:19.006Z"
   },
   {
    "duration": 10,
    "start_time": "2021-09-22T13:52:13.177Z"
   },
   {
    "duration": 3,
    "start_time": "2021-09-22T13:55:20.383Z"
   },
   {
    "duration": 386,
    "start_time": "2021-09-22T17:55:23.282Z"
   },
   {
    "duration": 902,
    "start_time": "2021-09-22T17:55:37.805Z"
   },
   {
    "duration": 117,
    "start_time": "2021-09-22T17:55:38.710Z"
   },
   {
    "duration": 16,
    "start_time": "2021-09-22T17:55:38.830Z"
   },
   {
    "duration": 6,
    "start_time": "2021-09-22T17:55:38.848Z"
   },
   {
    "duration": 463,
    "start_time": "2021-09-22T17:55:38.857Z"
   },
   {
    "duration": 12,
    "start_time": "2021-09-22T17:55:39.323Z"
   },
   {
    "duration": 43,
    "start_time": "2021-09-22T17:55:39.338Z"
   },
   {
    "duration": 35,
    "start_time": "2021-09-22T17:55:39.385Z"
   },
   {
    "duration": 13,
    "start_time": "2021-09-22T17:55:39.424Z"
   },
   {
    "duration": 6,
    "start_time": "2021-09-22T17:55:39.439Z"
   },
   {
    "duration": 7,
    "start_time": "2021-09-22T17:55:39.448Z"
   },
   {
    "duration": 67,
    "start_time": "2021-09-22T17:55:39.458Z"
   },
   {
    "duration": 35,
    "start_time": "2021-09-22T17:55:39.527Z"
   },
   {
    "duration": 16,
    "start_time": "2021-09-22T17:55:39.565Z"
   },
   {
    "duration": 8,
    "start_time": "2021-09-22T17:55:39.584Z"
   },
   {
    "duration": 5,
    "start_time": "2021-09-22T17:55:39.595Z"
   },
   {
    "duration": 12,
    "start_time": "2021-09-22T17:55:39.617Z"
   },
   {
    "duration": 13,
    "start_time": "2021-09-22T17:55:39.632Z"
   },
   {
    "duration": 11,
    "start_time": "2021-09-22T17:55:39.647Z"
   },
   {
    "duration": 61,
    "start_time": "2021-09-22T17:55:39.660Z"
   },
   {
    "duration": 8,
    "start_time": "2021-09-22T17:55:39.724Z"
   },
   {
    "duration": 10,
    "start_time": "2021-09-22T17:55:39.735Z"
   },
   {
    "duration": 13,
    "start_time": "2021-09-22T17:55:39.750Z"
   },
   {
    "duration": 49,
    "start_time": "2021-09-22T17:55:39.767Z"
   },
   {
    "duration": 13,
    "start_time": "2021-09-22T17:55:39.819Z"
   },
   {
    "duration": 4,
    "start_time": "2021-09-22T17:55:39.834Z"
   },
   {
    "duration": 14,
    "start_time": "2021-09-22T17:55:39.840Z"
   },
   {
    "duration": 19,
    "start_time": "2021-09-22T17:55:39.857Z"
   },
   {
    "duration": 69,
    "start_time": "2021-09-22T17:55:39.878Z"
   },
   {
    "duration": 38,
    "start_time": "2021-09-22T17:55:39.949Z"
   },
   {
    "duration": 76,
    "start_time": "2021-09-22T17:55:39.990Z"
   },
   {
    "duration": 883,
    "start_time": "2021-09-22T17:55:40.068Z"
   },
   {
    "duration": 39,
    "start_time": "2021-09-22T17:55:40.953Z"
   },
   {
    "duration": 717,
    "start_time": "2021-09-22T17:55:40.994Z"
   },
   {
    "duration": 11,
    "start_time": "2021-09-22T17:55:41.717Z"
   },
   {
    "duration": 14,
    "start_time": "2021-09-22T17:55:41.730Z"
   },
   {
    "duration": 916,
    "start_time": "2021-09-22T17:55:41.747Z"
   },
   {
    "duration": 514,
    "start_time": "2021-09-22T17:55:42.665Z"
   },
   {
    "duration": 12,
    "start_time": "2021-09-22T17:55:43.181Z"
   },
   {
    "duration": 501,
    "start_time": "2021-09-22T17:55:43.196Z"
   },
   {
    "duration": 20,
    "start_time": "2021-09-22T17:55:43.700Z"
   },
   {
    "duration": 33,
    "start_time": "2021-09-22T17:55:43.723Z"
   },
   {
    "duration": 8,
    "start_time": "2021-09-22T18:01:00.982Z"
   },
   {
    "duration": 835,
    "start_time": "2021-09-22T18:02:37.741Z"
   },
   {
    "duration": 128,
    "start_time": "2021-09-22T18:02:38.579Z"
   },
   {
    "duration": 20,
    "start_time": "2021-09-22T18:02:38.710Z"
   },
   {
    "duration": 7,
    "start_time": "2021-09-22T18:02:38.732Z"
   },
   {
    "duration": 477,
    "start_time": "2021-09-22T18:02:38.742Z"
   },
   {
    "duration": 14,
    "start_time": "2021-09-22T18:02:39.221Z"
   },
   {
    "duration": 44,
    "start_time": "2021-09-22T18:02:39.237Z"
   },
   {
    "duration": 38,
    "start_time": "2021-09-22T18:02:39.285Z"
   },
   {
    "duration": 12,
    "start_time": "2021-09-22T18:02:39.326Z"
   },
   {
    "duration": 7,
    "start_time": "2021-09-22T18:02:39.340Z"
   },
   {
    "duration": 9,
    "start_time": "2021-09-22T18:02:39.349Z"
   },
   {
    "duration": 64,
    "start_time": "2021-09-22T18:02:39.360Z"
   },
   {
    "duration": 16,
    "start_time": "2021-09-22T18:02:39.427Z"
   },
   {
    "duration": 9,
    "start_time": "2021-09-22T18:02:39.446Z"
   },
   {
    "duration": 9,
    "start_time": "2021-09-22T18:02:39.457Z"
   },
   {
    "duration": 4,
    "start_time": "2021-09-22T18:02:39.469Z"
   },
   {
    "duration": 11,
    "start_time": "2021-09-22T18:02:39.517Z"
   },
   {
    "duration": 16,
    "start_time": "2021-09-22T18:02:39.530Z"
   },
   {
    "duration": 8,
    "start_time": "2021-09-22T18:02:39.549Z"
   },
   {
    "duration": 9,
    "start_time": "2021-09-22T18:02:39.560Z"
   },
   {
    "duration": 9,
    "start_time": "2021-09-22T18:02:39.616Z"
   },
   {
    "duration": 9,
    "start_time": "2021-09-22T18:02:39.628Z"
   },
   {
    "duration": 12,
    "start_time": "2021-09-22T18:02:39.643Z"
   },
   {
    "duration": 4,
    "start_time": "2021-09-22T18:02:39.659Z"
   },
   {
    "duration": 59,
    "start_time": "2021-09-22T18:02:39.666Z"
   },
   {
    "duration": 14,
    "start_time": "2021-09-22T18:02:39.727Z"
   },
   {
    "duration": 4,
    "start_time": "2021-09-22T18:02:39.743Z"
   },
   {
    "duration": 15,
    "start_time": "2021-09-22T18:02:39.750Z"
   },
   {
    "duration": 52,
    "start_time": "2021-09-22T18:02:39.768Z"
   },
   {
    "duration": 46,
    "start_time": "2021-09-22T18:02:39.822Z"
   },
   {
    "duration": 58,
    "start_time": "2021-09-22T18:02:39.870Z"
   },
   {
    "duration": 45,
    "start_time": "2021-09-22T18:02:39.931Z"
   },
   {
    "duration": 976,
    "start_time": "2021-09-22T18:02:39.979Z"
   },
   {
    "duration": 38,
    "start_time": "2021-09-22T18:02:40.957Z"
   },
   {
    "duration": 722,
    "start_time": "2021-09-22T18:02:41.017Z"
   },
   {
    "duration": 12,
    "start_time": "2021-09-22T18:02:41.741Z"
   },
   {
    "duration": 11,
    "start_time": "2021-09-22T18:02:41.755Z"
   },
   {
    "duration": 786,
    "start_time": "2021-09-22T18:02:41.768Z"
   },
   {
    "duration": 533,
    "start_time": "2021-09-22T18:02:42.557Z"
   },
   {
    "duration": 23,
    "start_time": "2021-09-22T18:02:43.093Z"
   },
   {
    "duration": 506,
    "start_time": "2021-09-22T18:02:43.118Z"
   },
   {
    "duration": 11,
    "start_time": "2021-09-22T18:02:43.626Z"
   },
   {
    "duration": 47,
    "start_time": "2021-09-22T18:02:43.640Z"
   },
   {
    "duration": 419,
    "start_time": "2021-09-22T18:03:46.667Z"
   },
   {
    "duration": 6,
    "start_time": "2021-09-22T18:03:57.281Z"
   },
   {
    "duration": 4,
    "start_time": "2021-09-22T18:07:18.064Z"
   },
   {
    "duration": 352,
    "start_time": "2021-09-22T18:08:55.709Z"
   },
   {
    "duration": 327,
    "start_time": "2021-09-22T18:09:23.390Z"
   },
   {
    "duration": 426,
    "start_time": "2021-09-22T18:09:35.958Z"
   },
   {
    "duration": 7,
    "start_time": "2021-09-22T18:10:13.137Z"
   },
   {
    "duration": 445,
    "start_time": "2021-09-22T18:10:16.020Z"
   },
   {
    "duration": 291,
    "start_time": "2021-09-22T18:10:29.428Z"
   },
   {
    "duration": 281,
    "start_time": "2021-09-22T18:11:18.138Z"
   },
   {
    "duration": 589,
    "start_time": "2021-09-22T18:15:03.470Z"
   },
   {
    "duration": 574,
    "start_time": "2021-09-22T18:15:48.486Z"
   },
   {
    "duration": 959,
    "start_time": "2021-09-22T18:16:09.778Z"
   },
   {
    "duration": 359,
    "start_time": "2021-09-22T18:16:18.574Z"
   },
   {
    "duration": 365,
    "start_time": "2021-09-22T18:20:26.973Z"
   },
   {
    "duration": 18,
    "start_time": "2021-09-22T18:23:58.284Z"
   },
   {
    "duration": 372,
    "start_time": "2021-09-22T18:27:39.335Z"
   },
   {
    "duration": 625,
    "start_time": "2021-09-22T18:30:40.533Z"
   },
   {
    "duration": 493,
    "start_time": "2021-09-22T18:35:11.941Z"
   },
   {
    "duration": 15,
    "start_time": "2021-09-22T18:35:15.772Z"
   },
   {
    "duration": 14,
    "start_time": "2021-09-22T18:35:27.797Z"
   },
   {
    "duration": 13,
    "start_time": "2021-09-22T18:35:39.159Z"
   },
   {
    "duration": 46,
    "start_time": "2021-09-22T18:45:01.931Z"
   },
   {
    "duration": 18,
    "start_time": "2021-09-22T19:22:16.256Z"
   },
   {
    "duration": 36,
    "start_time": "2021-09-22T19:22:30.984Z"
   },
   {
    "duration": 35,
    "start_time": "2021-09-22T19:22:46.015Z"
   },
   {
    "duration": 201,
    "start_time": "2021-09-22T19:23:53.034Z"
   },
   {
    "duration": 535,
    "start_time": "2021-09-22T19:25:58.810Z"
   },
   {
    "duration": 920,
    "start_time": "2021-09-22T19:27:07.150Z"
   },
   {
    "duration": 11,
    "start_time": "2021-09-22T19:32:01.027Z"
   },
   {
    "duration": 427,
    "start_time": "2021-09-22T19:55:15.968Z"
   },
   {
    "duration": 343,
    "start_time": "2021-09-22T19:55:30.435Z"
   },
   {
    "duration": 19,
    "start_time": "2021-09-22T19:56:07.773Z"
   },
   {
    "duration": 8,
    "start_time": "2021-09-22T19:56:21.400Z"
   },
   {
    "duration": 340,
    "start_time": "2021-09-22T20:09:45.280Z"
   },
   {
    "duration": 351,
    "start_time": "2021-09-22T20:14:31.973Z"
   },
   {
    "duration": 360,
    "start_time": "2021-09-22T20:14:54.469Z"
   },
   {
    "duration": 380,
    "start_time": "2021-09-22T20:15:18.309Z"
   },
   {
    "duration": 343,
    "start_time": "2021-09-22T20:15:28.740Z"
   },
   {
    "duration": 350,
    "start_time": "2021-09-22T20:15:55.581Z"
   },
   {
    "duration": 1803,
    "start_time": "2021-09-22T20:16:27.495Z"
   },
   {
    "duration": 1136,
    "start_time": "2021-09-22T20:17:51.762Z"
   },
   {
    "duration": 415,
    "start_time": "2021-09-22T20:20:09.496Z"
   },
   {
    "duration": -189,
    "start_time": "2021-09-22T20:20:22.781Z"
   },
   {
    "duration": 277,
    "start_time": "2021-09-22T20:20:26.594Z"
   },
   {
    "duration": 284,
    "start_time": "2021-09-22T20:21:02.421Z"
   },
   {
    "duration": 409,
    "start_time": "2021-09-22T20:21:44.349Z"
   },
   {
    "duration": 207,
    "start_time": "2021-09-22T20:23:16.776Z"
   },
   {
    "duration": 742,
    "start_time": "2021-09-22T20:24:44.224Z"
   },
   {
    "duration": 882,
    "start_time": "2021-09-22T20:25:08.373Z"
   },
   {
    "duration": 758,
    "start_time": "2021-09-22T20:25:25.753Z"
   },
   {
    "duration": 334,
    "start_time": "2021-09-22T20:25:51.630Z"
   },
   {
    "duration": 316,
    "start_time": "2021-09-22T20:26:17.507Z"
   },
   {
    "duration": 317,
    "start_time": "2021-09-22T20:26:23.523Z"
   },
   {
    "duration": 356,
    "start_time": "2021-09-22T20:26:31.423Z"
   },
   {
    "duration": 323,
    "start_time": "2021-09-22T20:26:37.097Z"
   },
   {
    "duration": 310,
    "start_time": "2021-09-22T20:27:27.492Z"
   },
   {
    "duration": 320,
    "start_time": "2021-09-22T20:27:33.815Z"
   },
   {
    "duration": 350,
    "start_time": "2021-09-22T20:27:45.681Z"
   },
   {
    "duration": 310,
    "start_time": "2021-09-22T20:27:50.851Z"
   },
   {
    "duration": 7,
    "start_time": "2021-09-22T21:40:18.310Z"
   },
   {
    "duration": 353,
    "start_time": "2021-09-22T21:45:51.205Z"
   },
   {
    "duration": 504,
    "start_time": "2021-09-22T21:47:04.701Z"
   },
   {
    "duration": 686,
    "start_time": "2021-09-22T21:48:31.473Z"
   },
   {
    "duration": 757,
    "start_time": "2021-09-22T21:48:39.321Z"
   },
   {
    "duration": 7,
    "start_time": "2021-09-22T21:48:59.758Z"
   },
   {
    "duration": 724,
    "start_time": "2021-09-22T21:50:49.444Z"
   },
   {
    "duration": 7,
    "start_time": "2021-09-22T21:50:54.855Z"
   },
   {
    "duration": 375,
    "start_time": "2021-09-22T21:52:52.026Z"
   },
   {
    "duration": 365,
    "start_time": "2021-09-22T21:53:48.493Z"
   },
   {
    "duration": 36,
    "start_time": "2021-09-22T21:53:55.373Z"
   },
   {
    "duration": 303,
    "start_time": "2021-09-22T21:54:13.584Z"
   },
   {
    "duration": 336,
    "start_time": "2021-09-22T21:54:43.924Z"
   },
   {
    "duration": 349,
    "start_time": "2021-09-22T21:55:25.951Z"
   },
   {
    "duration": 343,
    "start_time": "2021-09-22T21:55:39.804Z"
   },
   {
    "duration": 341,
    "start_time": "2021-09-22T21:55:49.986Z"
   },
   {
    "duration": 12,
    "start_time": "2021-09-22T21:56:00.709Z"
   },
   {
    "duration": 355,
    "start_time": "2021-09-22T21:56:15.206Z"
   },
   {
    "duration": 319,
    "start_time": "2021-09-22T21:56:23.007Z"
   },
   {
    "duration": 1328,
    "start_time": "2021-09-22T21:58:34.157Z"
   },
   {
    "duration": 1323,
    "start_time": "2021-09-22T21:58:39.573Z"
   },
   {
    "duration": 449,
    "start_time": "2021-09-22T22:03:59.224Z"
   },
   {
    "duration": 12,
    "start_time": "2021-09-22T22:04:33.346Z"
   },
   {
    "duration": 330,
    "start_time": "2021-09-22T22:22:40.214Z"
   },
   {
    "duration": 13,
    "start_time": "2021-09-22T22:24:15.547Z"
   },
   {
    "duration": 366,
    "start_time": "2021-09-24T09:16:34.844Z"
   },
   {
    "duration": 835,
    "start_time": "2021-09-24T09:16:50.567Z"
   },
   {
    "duration": 122,
    "start_time": "2021-09-24T09:16:51.405Z"
   },
   {
    "duration": 27,
    "start_time": "2021-09-24T09:16:51.530Z"
   },
   {
    "duration": 6,
    "start_time": "2021-09-24T09:16:51.559Z"
   },
   {
    "duration": 429,
    "start_time": "2021-09-24T09:16:51.568Z"
   },
   {
    "duration": 11,
    "start_time": "2021-09-24T09:16:52.000Z"
   },
   {
    "duration": 64,
    "start_time": "2021-09-24T09:16:52.013Z"
   },
   {
    "duration": 5,
    "start_time": "2021-09-24T09:16:52.081Z"
   },
   {
    "duration": 13,
    "start_time": "2021-09-24T09:16:52.090Z"
   },
   {
    "duration": 6,
    "start_time": "2021-09-24T09:16:52.106Z"
   },
   {
    "duration": 46,
    "start_time": "2021-09-24T09:16:52.114Z"
   },
   {
    "duration": 27,
    "start_time": "2021-09-24T09:16:52.162Z"
   },
   {
    "duration": 16,
    "start_time": "2021-09-24T09:16:52.191Z"
   },
   {
    "duration": 26,
    "start_time": "2021-09-24T09:16:52.209Z"
   },
   {
    "duration": 19,
    "start_time": "2021-09-24T09:16:52.238Z"
   },
   {
    "duration": 15,
    "start_time": "2021-09-24T09:16:52.259Z"
   },
   {
    "duration": 17,
    "start_time": "2021-09-24T09:16:52.276Z"
   },
   {
    "duration": 21,
    "start_time": "2021-09-24T09:16:52.295Z"
   },
   {
    "duration": 15,
    "start_time": "2021-09-24T09:16:52.318Z"
   },
   {
    "duration": 28,
    "start_time": "2021-09-24T09:16:52.335Z"
   },
   {
    "duration": 17,
    "start_time": "2021-09-24T09:16:52.365Z"
   },
   {
    "duration": 8,
    "start_time": "2021-09-24T09:16:52.385Z"
   },
   {
    "duration": 13,
    "start_time": "2021-09-24T09:16:52.399Z"
   },
   {
    "duration": 10,
    "start_time": "2021-09-24T09:16:52.416Z"
   },
   {
    "duration": 29,
    "start_time": "2021-09-24T09:16:52.428Z"
   },
   {
    "duration": 22,
    "start_time": "2021-09-24T09:16:52.460Z"
   },
   {
    "duration": 11,
    "start_time": "2021-09-24T09:16:52.484Z"
   },
   {
    "duration": 17,
    "start_time": "2021-09-24T09:16:52.497Z"
   },
   {
    "duration": 33,
    "start_time": "2021-09-24T09:16:52.516Z"
   },
   {
    "duration": 40,
    "start_time": "2021-09-24T09:16:52.551Z"
   },
   {
    "duration": 33,
    "start_time": "2021-09-24T09:16:52.593Z"
   },
   {
    "duration": 63,
    "start_time": "2021-09-24T09:16:52.628Z"
   },
   {
    "duration": 863,
    "start_time": "2021-09-24T09:16:52.694Z"
   },
   {
    "duration": 36,
    "start_time": "2021-09-24T09:16:53.559Z"
   },
   {
    "duration": 794,
    "start_time": "2021-09-24T09:16:53.597Z"
   },
   {
    "duration": 11,
    "start_time": "2021-09-24T09:16:54.393Z"
   },
   {
    "duration": 19,
    "start_time": "2021-09-24T09:16:54.406Z"
   },
   {
    "duration": 750,
    "start_time": "2021-09-24T09:16:54.427Z"
   },
   {
    "duration": 507,
    "start_time": "2021-09-24T09:16:55.180Z"
   },
   {
    "duration": 14,
    "start_time": "2021-09-24T09:16:55.690Z"
   },
   {
    "duration": 499,
    "start_time": "2021-09-24T09:16:55.707Z"
   },
   {
    "duration": 12,
    "start_time": "2021-09-24T09:16:56.208Z"
   },
   {
    "duration": 3,
    "start_time": "2021-09-24T09:16:56.222Z"
   },
   {
    "duration": 228,
    "start_time": "2021-09-24T09:16:56.227Z"
   },
   {
    "duration": 700,
    "start_time": "2021-09-24T09:16:56.458Z"
   },
   {
    "duration": 15,
    "start_time": "2021-09-24T09:16:57.161Z"
   },
   {
    "duration": 404,
    "start_time": "2021-09-24T09:16:57.178Z"
   },
   {
    "duration": 13,
    "start_time": "2021-09-24T09:16:57.584Z"
   },
   {
    "duration": 63,
    "start_time": "2021-09-24T09:16:57.599Z"
   },
   {
    "duration": 93,
    "start_time": "2021-09-24T09:16:57.665Z"
   },
   {
    "duration": 212,
    "start_time": "2021-09-24T09:16:57.760Z"
   },
   {
    "duration": 371,
    "start_time": "2021-09-24T09:16:57.974Z"
   },
   {
    "duration": 608,
    "start_time": "2021-09-24T09:16:58.347Z"
   },
   {
    "duration": 12,
    "start_time": "2021-09-24T09:16:58.958Z"
   },
   {
    "duration": 344,
    "start_time": "2021-09-24T09:16:58.973Z"
   },
   {
    "duration": 35,
    "start_time": "2021-09-24T09:16:59.320Z"
   },
   {
    "duration": 9,
    "start_time": "2021-09-24T09:16:59.358Z"
   },
   {
    "duration": 325,
    "start_time": "2021-09-24T09:16:59.369Z"
   },
   {
    "duration": 6,
    "start_time": "2021-09-24T09:16:59.697Z"
   },
   {
    "duration": 697,
    "start_time": "2021-09-24T09:16:59.705Z"
   },
   {
    "duration": 6,
    "start_time": "2021-09-24T09:17:00.405Z"
   },
   {
    "duration": 315,
    "start_time": "2021-09-24T09:17:00.413Z"
   },
   {
    "duration": 329,
    "start_time": "2021-09-24T09:17:00.731Z"
   },
   {
    "duration": 13,
    "start_time": "2021-09-24T09:17:01.062Z"
   },
   {
    "duration": 356,
    "start_time": "2021-09-24T09:17:01.077Z"
   },
   {
    "duration": 23,
    "start_time": "2021-09-24T09:17:01.435Z"
   },
   {
    "duration": 39,
    "start_time": "2021-09-24T09:17:01.460Z"
   },
   {
    "duration": 12,
    "start_time": "2021-09-24T09:31:45.752Z"
   },
   {
    "duration": 10,
    "start_time": "2021-09-24T09:31:57.700Z"
   },
   {
    "duration": 17,
    "start_time": "2021-09-24T09:36:04.588Z"
   },
   {
    "duration": 21,
    "start_time": "2021-09-24T09:36:49.142Z"
   },
   {
    "duration": 397,
    "start_time": "2021-09-24T09:37:13.306Z"
   },
   {
    "duration": 24,
    "start_time": "2021-09-24T09:39:59.106Z"
   },
   {
    "duration": 27,
    "start_time": "2021-09-24T09:40:08.167Z"
   },
   {
    "duration": 30,
    "start_time": "2021-09-24T09:42:22.935Z"
   },
   {
    "duration": 35,
    "start_time": "2021-09-24T09:42:56.499Z"
   },
   {
    "duration": 29,
    "start_time": "2021-09-24T09:43:19.218Z"
   },
   {
    "duration": 11,
    "start_time": "2021-09-24T09:44:01.362Z"
   },
   {
    "duration": 35,
    "start_time": "2021-09-24T09:44:42.394Z"
   },
   {
    "duration": 6,
    "start_time": "2021-09-24T09:46:33.808Z"
   },
   {
    "duration": 10,
    "start_time": "2021-09-24T09:47:02.638Z"
   },
   {
    "duration": 11,
    "start_time": "2021-09-24T09:48:25.546Z"
   },
   {
    "duration": 5,
    "start_time": "2021-09-24T10:05:32.737Z"
   },
   {
    "duration": 338,
    "start_time": "2021-09-24T10:06:48.825Z"
   },
   {
    "duration": 5,
    "start_time": "2021-09-24T10:14:48.070Z"
   },
   {
    "duration": 33,
    "start_time": "2021-09-24T10:15:01.216Z"
   },
   {
    "duration": 19,
    "start_time": "2021-09-24T10:17:40.038Z"
   },
   {
    "duration": 330,
    "start_time": "2021-09-24T10:18:00.176Z"
   },
   {
    "duration": 15,
    "start_time": "2021-09-24T10:18:12.850Z"
   },
   {
    "duration": 51,
    "start_time": "2021-09-24T10:18:16.357Z"
   },
   {
    "duration": 705,
    "start_time": "2021-09-24T10:19:50.091Z"
   },
   {
    "duration": 713,
    "start_time": "2021-09-24T10:23:39.223Z"
   },
   {
    "duration": 563,
    "start_time": "2021-09-24T10:25:25.811Z"
   },
   {
    "duration": 667,
    "start_time": "2021-09-24T10:25:45.083Z"
   },
   {
    "duration": 12,
    "start_time": "2021-09-24T10:32:45.872Z"
   },
   {
    "duration": 6,
    "start_time": "2021-09-24T10:33:28.369Z"
   },
   {
    "duration": 750,
    "start_time": "2021-09-24T10:34:41.454Z"
   },
   {
    "duration": 643,
    "start_time": "2021-09-24T10:35:10.590Z"
   },
   {
    "duration": 20,
    "start_time": "2021-09-24T10:37:39.933Z"
   },
   {
    "duration": 21,
    "start_time": "2021-09-24T10:37:46.405Z"
   },
   {
    "duration": 7323,
    "start_time": "2021-09-24T10:37:48.186Z"
   },
   {
    "duration": -226,
    "start_time": "2021-09-24T10:37:55.738Z"
   },
   {
    "duration": 6,
    "start_time": "2021-09-24T10:53:10.791Z"
   },
   {
    "duration": 14,
    "start_time": "2021-09-24T10:55:32.713Z"
   },
   {
    "duration": 19,
    "start_time": "2021-09-24T10:56:20.836Z"
   },
   {
    "duration": 20,
    "start_time": "2021-09-24T10:57:44.427Z"
   },
   {
    "duration": 5,
    "start_time": "2021-09-24T10:58:03.637Z"
   },
   {
    "duration": 20,
    "start_time": "2021-09-24T10:58:06.073Z"
   },
   {
    "duration": 319,
    "start_time": "2021-09-24T10:58:08.941Z"
   },
   {
    "duration": 29,
    "start_time": "2021-09-24T11:00:08.560Z"
   },
   {
    "duration": 291,
    "start_time": "2021-09-24T11:00:50.481Z"
   },
   {
    "duration": 11,
    "start_time": "2021-09-24T11:05:36.259Z"
   },
   {
    "duration": 11,
    "start_time": "2021-09-24T11:07:58.630Z"
   },
   {
    "duration": 36,
    "start_time": "2021-09-24T11:29:05.945Z"
   },
   {
    "duration": 14,
    "start_time": "2021-09-24T11:30:09.046Z"
   },
   {
    "duration": 13,
    "start_time": "2021-09-24T11:31:53.625Z"
   },
   {
    "duration": 11,
    "start_time": "2021-09-24T11:40:28.965Z"
   },
   {
    "duration": 11,
    "start_time": "2021-09-24T11:40:48.348Z"
   },
   {
    "duration": 11,
    "start_time": "2021-09-24T11:42:22.969Z"
   },
   {
    "duration": 14,
    "start_time": "2021-09-24T11:42:28.903Z"
   },
   {
    "duration": 13,
    "start_time": "2021-09-24T11:42:33.535Z"
   },
   {
    "duration": 316,
    "start_time": "2021-09-24T11:46:32.669Z"
   },
   {
    "duration": 97,
    "start_time": "2021-09-24T11:46:44.981Z"
   },
   {
    "duration": 14,
    "start_time": "2021-09-24T11:46:51.032Z"
   },
   {
    "duration": 11,
    "start_time": "2021-09-24T11:48:39.473Z"
   },
   {
    "duration": 12,
    "start_time": "2021-09-24T11:48:42.622Z"
   },
   {
    "duration": 250,
    "start_time": "2021-09-24T11:51:19.605Z"
   },
   {
    "duration": 32,
    "start_time": "2021-09-24T11:55:42.817Z"
   },
   {
    "duration": 272,
    "start_time": "2021-09-24T11:56:36.831Z"
   },
   {
    "duration": 400,
    "start_time": "2021-09-24T12:02:10.978Z"
   },
   {
    "duration": 7,
    "start_time": "2021-09-24T12:02:28.713Z"
   },
   {
    "duration": 279,
    "start_time": "2021-09-24T12:04:41.121Z"
   },
   {
    "duration": 268,
    "start_time": "2021-09-24T12:05:06.513Z"
   },
   {
    "duration": 50,
    "start_time": "2021-09-24T12:11:04.980Z"
   },
   {
    "duration": 341,
    "start_time": "2021-09-24T12:11:50.490Z"
   },
   {
    "duration": 250,
    "start_time": "2021-09-24T12:12:06.638Z"
   },
   {
    "duration": 396,
    "start_time": "2021-09-24T12:12:39.453Z"
   },
   {
    "duration": 104,
    "start_time": "2021-09-24T12:14:31.407Z"
   },
   {
    "duration": 263,
    "start_time": "2021-09-24T12:17:17.007Z"
   },
   {
    "duration": 33,
    "start_time": "2021-09-24T12:18:15.882Z"
   },
   {
    "duration": 420,
    "start_time": "2021-09-24T12:18:23.887Z"
   },
   {
    "duration": 33,
    "start_time": "2021-09-24T12:19:02.770Z"
   },
   {
    "duration": 292,
    "start_time": "2021-09-24T12:19:05.840Z"
   },
   {
    "duration": 299,
    "start_time": "2021-09-24T12:19:59.220Z"
   },
   {
    "duration": 384,
    "start_time": "2021-09-24T12:20:19.815Z"
   },
   {
    "duration": 34,
    "start_time": "2021-09-24T12:20:23.218Z"
   },
   {
    "duration": 39,
    "start_time": "2021-09-24T12:21:58.705Z"
   },
   {
    "duration": 261,
    "start_time": "2021-09-24T12:22:03.764Z"
   },
   {
    "duration": 440,
    "start_time": "2021-09-24T12:41:51.625Z"
   },
   {
    "duration": 360,
    "start_time": "2021-09-24T12:43:04.779Z"
   },
   {
    "duration": 7,
    "start_time": "2021-09-24T12:43:17.791Z"
   },
   {
    "duration": 456,
    "start_time": "2021-09-24T12:45:34.815Z"
   },
   {
    "duration": 7,
    "start_time": "2021-09-24T12:45:37.840Z"
   },
   {
    "duration": 309,
    "start_time": "2021-09-24T12:49:39.388Z"
   },
   {
    "duration": 323,
    "start_time": "2021-09-24T12:49:56.668Z"
   },
   {
    "duration": 334,
    "start_time": "2021-09-24T12:50:55.147Z"
   },
   {
    "duration": 329,
    "start_time": "2021-09-24T12:56:40.015Z"
   },
   {
    "duration": 329,
    "start_time": "2021-09-24T13:00:45.351Z"
   },
   {
    "duration": 313,
    "start_time": "2021-09-24T13:05:46.468Z"
   },
   {
    "duration": 340,
    "start_time": "2021-09-24T13:08:56.128Z"
   },
   {
    "duration": 328,
    "start_time": "2021-09-24T13:10:27.353Z"
   },
   {
    "duration": 829,
    "start_time": "2021-09-24T13:18:31.996Z"
   },
   {
    "duration": 131,
    "start_time": "2021-09-24T13:18:32.828Z"
   },
   {
    "duration": 24,
    "start_time": "2021-09-24T13:18:32.963Z"
   },
   {
    "duration": 8,
    "start_time": "2021-09-24T13:18:32.991Z"
   },
   {
    "duration": 743,
    "start_time": "2021-09-24T13:18:33.003Z"
   },
   {
    "duration": 17,
    "start_time": "2021-09-24T13:18:33.757Z"
   },
   {
    "duration": 81,
    "start_time": "2021-09-24T13:18:33.777Z"
   },
   {
    "duration": 9,
    "start_time": "2021-09-24T13:18:33.863Z"
   },
   {
    "duration": 24,
    "start_time": "2021-09-24T13:18:33.876Z"
   },
   {
    "duration": 7,
    "start_time": "2021-09-24T13:18:33.904Z"
   },
   {
    "duration": 41,
    "start_time": "2021-09-24T13:18:33.915Z"
   },
   {
    "duration": 16,
    "start_time": "2021-09-24T13:18:33.959Z"
   },
   {
    "duration": 16,
    "start_time": "2021-09-24T13:18:33.978Z"
   },
   {
    "duration": 11,
    "start_time": "2021-09-24T13:18:33.997Z"
   },
   {
    "duration": 47,
    "start_time": "2021-09-24T13:18:34.011Z"
   },
   {
    "duration": 5,
    "start_time": "2021-09-24T13:18:34.061Z"
   },
   {
    "duration": 16,
    "start_time": "2021-09-24T13:18:34.070Z"
   },
   {
    "duration": 17,
    "start_time": "2021-09-24T13:18:34.088Z"
   },
   {
    "duration": 8,
    "start_time": "2021-09-24T13:18:34.107Z"
   },
   {
    "duration": 9,
    "start_time": "2021-09-24T13:18:34.156Z"
   },
   {
    "duration": 12,
    "start_time": "2021-09-24T13:18:34.168Z"
   },
   {
    "duration": 17,
    "start_time": "2021-09-24T13:18:34.183Z"
   },
   {
    "duration": 48,
    "start_time": "2021-09-24T13:18:34.210Z"
   },
   {
    "duration": 7,
    "start_time": "2021-09-24T13:18:34.263Z"
   },
   {
    "duration": 9,
    "start_time": "2021-09-24T13:18:34.273Z"
   },
   {
    "duration": 17,
    "start_time": "2021-09-24T13:18:34.285Z"
   },
   {
    "duration": 10,
    "start_time": "2021-09-24T13:18:34.305Z"
   },
   {
    "duration": 48,
    "start_time": "2021-09-24T13:18:34.319Z"
   },
   {
    "duration": 32,
    "start_time": "2021-09-24T13:18:34.370Z"
   },
   {
    "duration": 76,
    "start_time": "2021-09-24T13:18:34.405Z"
   },
   {
    "duration": 54,
    "start_time": "2021-09-24T13:18:34.484Z"
   },
   {
    "duration": 66,
    "start_time": "2021-09-24T13:18:34.557Z"
   },
   {
    "duration": 1714,
    "start_time": "2021-09-24T13:18:34.627Z"
   },
   {
    "duration": 65,
    "start_time": "2021-09-24T13:18:36.345Z"
   },
   {
    "duration": 1189,
    "start_time": "2021-09-24T13:18:36.414Z"
   },
   {
    "duration": 16,
    "start_time": "2021-09-24T13:18:37.606Z"
   },
   {
    "duration": 33,
    "start_time": "2021-09-24T13:18:37.625Z"
   },
   {
    "duration": 1192,
    "start_time": "2021-09-24T13:18:37.661Z"
   },
   {
    "duration": 822,
    "start_time": "2021-09-24T13:18:38.857Z"
   },
   {
    "duration": 16,
    "start_time": "2021-09-24T13:18:39.682Z"
   },
   {
    "duration": 760,
    "start_time": "2021-09-24T13:18:39.701Z"
   },
   {
    "duration": 17,
    "start_time": "2021-09-24T13:18:40.464Z"
   },
   {
    "duration": 4,
    "start_time": "2021-09-24T13:18:40.485Z"
   },
   {
    "duration": 345,
    "start_time": "2021-09-24T13:18:40.492Z"
   },
   {
    "duration": 1081,
    "start_time": "2021-09-24T13:18:40.841Z"
   },
   {
    "duration": 34,
    "start_time": "2021-09-24T13:18:41.925Z"
   },
   {
    "duration": 605,
    "start_time": "2021-09-24T13:18:41.963Z"
   },
   {
    "duration": 19,
    "start_time": "2021-09-24T13:18:42.572Z"
   },
   {
    "duration": 89,
    "start_time": "2021-09-24T13:18:42.594Z"
   },
   {
    "duration": 130,
    "start_time": "2021-09-24T13:18:42.686Z"
   },
   {
    "duration": 336,
    "start_time": "2021-09-24T13:18:42.820Z"
   },
   {
    "duration": 628,
    "start_time": "2021-09-24T13:18:43.159Z"
   },
   {
    "duration": 997,
    "start_time": "2021-09-24T13:18:43.791Z"
   },
   {
    "duration": 11,
    "start_time": "2021-09-24T13:18:44.790Z"
   },
   {
    "duration": 366,
    "start_time": "2021-09-24T13:18:44.803Z"
   },
   {
    "duration": 18,
    "start_time": "2021-09-24T13:18:45.172Z"
   },
   {
    "duration": 15,
    "start_time": "2021-09-24T13:18:45.193Z"
   },
   {
    "duration": 333,
    "start_time": "2021-09-24T13:18:45.211Z"
   },
   {
    "duration": 13,
    "start_time": "2021-09-24T13:18:45.547Z"
   },
   {
    "duration": 716,
    "start_time": "2021-09-24T13:18:45.562Z"
   },
   {
    "duration": 6,
    "start_time": "2021-09-24T13:18:46.281Z"
   },
   {
    "duration": 311,
    "start_time": "2021-09-24T13:18:46.289Z"
   },
   {
    "duration": 348,
    "start_time": "2021-09-24T13:18:46.602Z"
   },
   {
    "duration": 13,
    "start_time": "2021-09-24T13:18:46.952Z"
   },
   {
    "duration": 458,
    "start_time": "2021-09-24T13:18:46.967Z"
   },
   {
    "duration": 28,
    "start_time": "2021-09-24T13:18:47.428Z"
   },
   {
    "duration": 439,
    "start_time": "2021-09-24T13:18:47.460Z"
   },
   {
    "duration": 11,
    "start_time": "2021-09-24T13:18:47.906Z"
   },
   {
    "duration": 58,
    "start_time": "2021-09-24T13:18:47.919Z"
   },
   {
    "duration": 13,
    "start_time": "2021-09-24T13:18:47.979Z"
   },
   {
    "duration": 13,
    "start_time": "2021-09-24T13:18:47.995Z"
   },
   {
    "duration": 46,
    "start_time": "2021-09-24T13:18:48.010Z"
   },
   {
    "duration": 6,
    "start_time": "2021-09-24T13:18:48.059Z"
   },
   {
    "duration": 39,
    "start_time": "2021-09-24T13:18:48.068Z"
   },
   {
    "duration": 400,
    "start_time": "2021-09-24T13:18:48.109Z"
   },
   {
    "duration": 14,
    "start_time": "2021-09-24T13:18:48.512Z"
   },
   {
    "duration": 279,
    "start_time": "2021-09-24T13:18:48.528Z"
   },
   {
    "duration": 16,
    "start_time": "2021-09-24T13:18:48.810Z"
   },
   {
    "duration": 39,
    "start_time": "2021-09-24T13:18:48.829Z"
   },
   {
    "duration": 22,
    "start_time": "2021-09-24T13:18:48.871Z"
   },
   {
    "duration": 14,
    "start_time": "2021-09-24T13:18:48.896Z"
   },
   {
    "duration": 43,
    "start_time": "2021-09-24T13:18:48.913Z"
   },
   {
    "duration": 33,
    "start_time": "2021-09-24T13:18:48.958Z"
   },
   {
    "duration": 303,
    "start_time": "2021-09-24T13:18:48.993Z"
   },
   {
    "duration": 7,
    "start_time": "2021-09-24T13:18:49.298Z"
   },
   {
    "duration": 55,
    "start_time": "2021-09-24T13:18:49.309Z"
   },
   {
    "duration": 271,
    "start_time": "2021-09-24T13:18:49.367Z"
   },
   {
    "duration": 458,
    "start_time": "2021-09-24T13:18:51.224Z"
   },
   {
    "duration": 7,
    "start_time": "2021-09-24T13:18:51.685Z"
   },
   {
    "duration": 338,
    "start_time": "2021-09-24T13:18:52.740Z"
   },
   {
    "duration": 328,
    "start_time": "2021-09-24T13:18:54.350Z"
   },
   {
    "duration": 354,
    "start_time": "2021-09-24T13:18:55.749Z"
   },
   {
    "duration": 11,
    "start_time": "2021-09-24T13:22:39.228Z"
   },
   {
    "duration": 10,
    "start_time": "2021-09-24T13:33:02.014Z"
   },
   {
    "duration": 11,
    "start_time": "2021-09-24T13:35:53.167Z"
   },
   {
    "duration": 13,
    "start_time": "2021-09-24T13:36:00.570Z"
   },
   {
    "duration": 12,
    "start_time": "2021-09-24T13:36:38.393Z"
   },
   {
    "duration": 11,
    "start_time": "2021-09-24T13:37:26.058Z"
   },
   {
    "duration": 12,
    "start_time": "2021-09-24T13:37:26.400Z"
   },
   {
    "duration": 11,
    "start_time": "2021-09-24T13:37:26.600Z"
   },
   {
    "duration": 873,
    "start_time": "2021-09-24T13:38:42.443Z"
   },
   {
    "duration": 123,
    "start_time": "2021-09-24T13:38:43.319Z"
   },
   {
    "duration": 23,
    "start_time": "2021-09-24T13:38:43.444Z"
   },
   {
    "duration": 6,
    "start_time": "2021-09-24T13:38:43.469Z"
   },
   {
    "duration": 448,
    "start_time": "2021-09-24T13:38:43.478Z"
   },
   {
    "duration": 27,
    "start_time": "2021-09-24T13:38:43.929Z"
   },
   {
    "duration": 42,
    "start_time": "2021-09-24T13:38:43.959Z"
   },
   {
    "duration": 11,
    "start_time": "2021-09-24T13:38:44.006Z"
   },
   {
    "duration": 50,
    "start_time": "2021-09-24T13:38:44.021Z"
   },
   {
    "duration": 25,
    "start_time": "2021-09-24T13:38:44.074Z"
   },
   {
    "duration": 20,
    "start_time": "2021-09-24T13:38:44.101Z"
   },
   {
    "duration": 34,
    "start_time": "2021-09-24T13:38:44.124Z"
   },
   {
    "duration": 20,
    "start_time": "2021-09-24T13:38:44.160Z"
   },
   {
    "duration": 15,
    "start_time": "2021-09-24T13:38:44.182Z"
   },
   {
    "duration": 28,
    "start_time": "2021-09-24T13:38:44.199Z"
   },
   {
    "duration": 23,
    "start_time": "2021-09-24T13:38:44.229Z"
   },
   {
    "duration": 30,
    "start_time": "2021-09-24T13:38:44.254Z"
   },
   {
    "duration": 17,
    "start_time": "2021-09-24T13:38:44.287Z"
   },
   {
    "duration": 19,
    "start_time": "2021-09-24T13:38:44.307Z"
   },
   {
    "duration": 19,
    "start_time": "2021-09-24T13:38:44.329Z"
   },
   {
    "duration": 17,
    "start_time": "2021-09-24T13:38:44.350Z"
   },
   {
    "duration": 19,
    "start_time": "2021-09-24T13:38:44.369Z"
   },
   {
    "duration": 13,
    "start_time": "2021-09-24T13:38:44.394Z"
   },
   {
    "duration": 5,
    "start_time": "2021-09-24T13:38:44.411Z"
   },
   {
    "duration": 14,
    "start_time": "2021-09-24T13:38:44.418Z"
   },
   {
    "duration": 31,
    "start_time": "2021-09-24T13:38:44.434Z"
   },
   {
    "duration": 4,
    "start_time": "2021-09-24T13:38:44.468Z"
   },
   {
    "duration": 13,
    "start_time": "2021-09-24T13:38:44.474Z"
   },
   {
    "duration": 18,
    "start_time": "2021-09-24T13:38:44.489Z"
   },
   {
    "duration": 67,
    "start_time": "2021-09-24T13:38:44.509Z"
   },
   {
    "duration": 35,
    "start_time": "2021-09-24T13:38:44.578Z"
   },
   {
    "duration": 70,
    "start_time": "2021-09-24T13:38:44.615Z"
   },
   {
    "duration": 889,
    "start_time": "2021-09-24T13:38:44.687Z"
   },
   {
    "duration": 36,
    "start_time": "2021-09-24T13:38:45.578Z"
   },
   {
    "duration": 698,
    "start_time": "2021-09-24T13:38:45.616Z"
   },
   {
    "duration": 12,
    "start_time": "2021-09-24T13:38:46.317Z"
   },
   {
    "duration": 32,
    "start_time": "2021-09-24T13:38:46.331Z"
   },
   {
    "duration": 731,
    "start_time": "2021-09-24T13:38:46.365Z"
   },
   {
    "duration": 518,
    "start_time": "2021-09-24T13:38:47.099Z"
   },
   {
    "duration": 11,
    "start_time": "2021-09-24T13:38:47.619Z"
   },
   {
    "duration": 507,
    "start_time": "2021-09-24T13:38:47.633Z"
   },
   {
    "duration": 21,
    "start_time": "2021-09-24T13:38:48.143Z"
   },
   {
    "duration": 4,
    "start_time": "2021-09-24T13:38:48.167Z"
   },
   {
    "duration": 220,
    "start_time": "2021-09-24T13:38:48.173Z"
   },
   {
    "duration": 607,
    "start_time": "2021-09-24T13:38:48.395Z"
   },
   {
    "duration": 15,
    "start_time": "2021-09-24T13:38:49.004Z"
   },
   {
    "duration": 367,
    "start_time": "2021-09-24T13:38:49.022Z"
   },
   {
    "duration": 14,
    "start_time": "2021-09-24T13:38:49.391Z"
   },
   {
    "duration": 68,
    "start_time": "2021-09-24T13:38:49.407Z"
   },
   {
    "duration": 87,
    "start_time": "2021-09-24T13:38:49.478Z"
   },
   {
    "duration": 217,
    "start_time": "2021-09-24T13:38:49.568Z"
   },
   {
    "duration": 371,
    "start_time": "2021-09-24T13:38:49.787Z"
   },
   {
    "duration": 734,
    "start_time": "2021-09-24T13:38:50.160Z"
   },
   {
    "duration": 11,
    "start_time": "2021-09-24T13:38:50.896Z"
   },
   {
    "duration": 349,
    "start_time": "2021-09-24T13:38:50.909Z"
   },
   {
    "duration": 17,
    "start_time": "2021-09-24T13:38:51.260Z"
   },
   {
    "duration": 7,
    "start_time": "2021-09-24T13:38:51.279Z"
   },
   {
    "duration": 334,
    "start_time": "2021-09-24T13:38:51.289Z"
   },
   {
    "duration": 7,
    "start_time": "2021-09-24T13:38:51.625Z"
   },
   {
    "duration": 734,
    "start_time": "2021-09-24T13:38:51.634Z"
   },
   {
    "duration": 7,
    "start_time": "2021-09-24T13:38:52.370Z"
   },
   {
    "duration": 295,
    "start_time": "2021-09-24T13:38:52.380Z"
   },
   {
    "duration": 320,
    "start_time": "2021-09-24T13:38:52.677Z"
   },
   {
    "duration": 11,
    "start_time": "2021-09-24T13:38:52.999Z"
   },
   {
    "duration": 345,
    "start_time": "2021-09-24T13:38:53.013Z"
   },
   {
    "duration": 12,
    "start_time": "2021-09-24T13:38:53.361Z"
   },
   {
    "duration": 346,
    "start_time": "2021-09-24T13:38:53.375Z"
   },
   {
    "duration": 11,
    "start_time": "2021-09-24T13:38:53.732Z"
   },
   {
    "duration": 37,
    "start_time": "2021-09-24T13:38:53.758Z"
   },
   {
    "duration": 11,
    "start_time": "2021-09-24T13:38:53.798Z"
   },
   {
    "duration": 45,
    "start_time": "2021-09-24T13:38:53.812Z"
   },
   {
    "duration": 6,
    "start_time": "2021-09-24T13:38:53.859Z"
   },
   {
    "duration": 17,
    "start_time": "2021-09-24T13:38:53.867Z"
   },
   {
    "duration": 38,
    "start_time": "2021-09-24T13:38:53.886Z"
   },
   {
    "duration": 388,
    "start_time": "2021-09-24T13:38:53.927Z"
   },
   {
    "duration": 11,
    "start_time": "2021-09-24T13:38:54.318Z"
   },
   {
    "duration": 30,
    "start_time": "2021-09-24T13:38:54.332Z"
   },
   {
    "duration": 13,
    "start_time": "2021-09-24T13:38:54.364Z"
   },
   {
    "duration": 10,
    "start_time": "2021-09-24T13:38:54.380Z"
   },
   {
    "duration": 11,
    "start_time": "2021-09-24T13:38:54.393Z"
   },
   {
    "duration": 14,
    "start_time": "2021-09-24T13:38:54.406Z"
   },
   {
    "duration": 11,
    "start_time": "2021-09-24T13:38:54.456Z"
   },
   {
    "duration": 33,
    "start_time": "2021-09-24T13:38:54.469Z"
   },
   {
    "duration": 318,
    "start_time": "2021-09-24T13:38:54.504Z"
   },
   {
    "duration": 8,
    "start_time": "2021-09-24T13:38:54.824Z"
   },
   {
    "duration": 52,
    "start_time": "2021-09-24T13:38:54.834Z"
   },
   {
    "duration": 274,
    "start_time": "2021-09-24T13:38:54.888Z"
   },
   {
    "duration": 411,
    "start_time": "2021-09-24T13:38:55.164Z"
   },
   {
    "duration": 6,
    "start_time": "2021-09-24T13:38:55.578Z"
   },
   {
    "duration": 421,
    "start_time": "2021-09-24T13:38:55.587Z"
   },
   {
    "duration": 348,
    "start_time": "2021-09-24T13:38:56.010Z"
   },
   {
    "duration": 358,
    "start_time": "2021-09-24T13:38:56.361Z"
   },
   {
    "duration": 10,
    "start_time": "2021-09-24T13:41:09.371Z"
   },
   {
    "duration": 11,
    "start_time": "2021-09-24T13:41:16.404Z"
   },
   {
    "duration": 700,
    "start_time": "2021-09-24T18:12:29.057Z"
   },
   {
    "duration": 86,
    "start_time": "2021-09-24T18:12:29.759Z"
   },
   {
    "duration": 12,
    "start_time": "2021-09-24T18:12:29.848Z"
   },
   {
    "duration": 16,
    "start_time": "2021-09-24T18:12:29.863Z"
   },
   {
    "duration": 310,
    "start_time": "2021-09-24T18:12:29.881Z"
   },
   {
    "duration": 11,
    "start_time": "2021-09-24T18:12:30.194Z"
   },
   {
    "duration": 29,
    "start_time": "2021-09-24T18:12:30.207Z"
   },
   {
    "duration": 5,
    "start_time": "2021-09-24T18:12:30.238Z"
   },
   {
    "duration": 39,
    "start_time": "2021-09-24T18:12:30.247Z"
   },
   {
    "duration": 5,
    "start_time": "2021-09-24T18:12:30.289Z"
   },
   {
    "duration": 13,
    "start_time": "2021-09-24T18:12:30.296Z"
   },
   {
    "duration": 11,
    "start_time": "2021-09-24T18:12:30.310Z"
   },
   {
    "duration": 9,
    "start_time": "2021-09-24T18:12:30.322Z"
   },
   {
    "duration": 14,
    "start_time": "2021-09-24T18:12:30.333Z"
   },
   {
    "duration": 34,
    "start_time": "2021-09-24T18:12:30.349Z"
   },
   {
    "duration": 8,
    "start_time": "2021-09-24T18:12:30.385Z"
   },
   {
    "duration": 17,
    "start_time": "2021-09-24T18:12:30.395Z"
   },
   {
    "duration": 11,
    "start_time": "2021-09-24T18:12:30.414Z"
   },
   {
    "duration": 7,
    "start_time": "2021-09-24T18:12:30.427Z"
   },
   {
    "duration": 9,
    "start_time": "2021-09-24T18:12:30.435Z"
   },
   {
    "duration": 32,
    "start_time": "2021-09-24T18:12:30.446Z"
   },
   {
    "duration": 8,
    "start_time": "2021-09-24T18:12:30.480Z"
   },
   {
    "duration": 19,
    "start_time": "2021-09-24T18:12:30.490Z"
   },
   {
    "duration": 14,
    "start_time": "2021-09-24T18:12:30.510Z"
   },
   {
    "duration": 15,
    "start_time": "2021-09-24T18:12:30.526Z"
   },
   {
    "duration": 19,
    "start_time": "2021-09-24T18:12:30.542Z"
   },
   {
    "duration": 4,
    "start_time": "2021-09-24T18:12:30.565Z"
   },
   {
    "duration": 14,
    "start_time": "2021-09-24T18:12:30.576Z"
   },
   {
    "duration": 30,
    "start_time": "2021-09-24T18:12:30.592Z"
   },
   {
    "duration": 29,
    "start_time": "2021-09-24T18:12:30.624Z"
   },
   {
    "duration": 32,
    "start_time": "2021-09-24T18:12:30.655Z"
   },
   {
    "duration": 40,
    "start_time": "2021-09-24T18:12:30.689Z"
   },
   {
    "duration": 577,
    "start_time": "2021-09-24T18:12:30.730Z"
   },
   {
    "duration": 22,
    "start_time": "2021-09-24T18:12:31.309Z"
   },
   {
    "duration": 458,
    "start_time": "2021-09-24T18:12:31.332Z"
   },
   {
    "duration": 10,
    "start_time": "2021-09-24T18:12:31.792Z"
   },
   {
    "duration": 8,
    "start_time": "2021-09-24T18:12:31.804Z"
   },
   {
    "duration": 492,
    "start_time": "2021-09-24T18:12:31.814Z"
   },
   {
    "duration": 333,
    "start_time": "2021-09-24T18:12:32.308Z"
   },
   {
    "duration": 8,
    "start_time": "2021-09-24T18:12:32.643Z"
   },
   {
    "duration": 315,
    "start_time": "2021-09-24T18:12:32.653Z"
   },
   {
    "duration": 14,
    "start_time": "2021-09-24T18:12:32.969Z"
   },
   {
    "duration": 2,
    "start_time": "2021-09-24T18:12:32.985Z"
   },
   {
    "duration": 142,
    "start_time": "2021-09-24T18:12:32.989Z"
   },
   {
    "duration": 378,
    "start_time": "2021-09-24T18:12:33.133Z"
   },
   {
    "duration": 11,
    "start_time": "2021-09-24T18:12:33.513Z"
   },
   {
    "duration": 239,
    "start_time": "2021-09-24T18:12:33.526Z"
   },
   {
    "duration": 14,
    "start_time": "2021-09-24T18:12:33.766Z"
   },
   {
    "duration": 29,
    "start_time": "2021-09-24T18:12:33.781Z"
   },
   {
    "duration": 89,
    "start_time": "2021-09-24T18:12:33.812Z"
   },
   {
    "duration": 132,
    "start_time": "2021-09-24T18:12:33.902Z"
   },
   {
    "duration": 245,
    "start_time": "2021-09-24T18:12:34.035Z"
   },
   {
    "duration": 401,
    "start_time": "2021-09-24T18:12:34.282Z"
   },
   {
    "duration": 9,
    "start_time": "2021-09-24T18:12:34.685Z"
   },
   {
    "duration": 246,
    "start_time": "2021-09-24T18:12:34.695Z"
   },
   {
    "duration": 14,
    "start_time": "2021-09-24T18:12:34.943Z"
   },
   {
    "duration": 26,
    "start_time": "2021-09-24T18:12:34.959Z"
   },
   {
    "duration": 300,
    "start_time": "2021-09-24T18:12:34.988Z"
   },
   {
    "duration": 6,
    "start_time": "2021-09-24T18:12:35.291Z"
   },
   {
    "duration": 592,
    "start_time": "2021-09-24T18:12:35.298Z"
   },
   {
    "duration": 5,
    "start_time": "2021-09-24T18:12:35.893Z"
   },
   {
    "duration": 207,
    "start_time": "2021-09-24T18:12:35.900Z"
   },
   {
    "duration": 220,
    "start_time": "2021-09-24T18:12:36.108Z"
   },
   {
    "duration": 8,
    "start_time": "2021-09-24T18:12:36.330Z"
   },
   {
    "duration": 229,
    "start_time": "2021-09-24T18:12:36.339Z"
   },
   {
    "duration": 11,
    "start_time": "2021-09-24T18:12:36.576Z"
   },
   {
    "duration": 267,
    "start_time": "2021-09-24T18:12:36.589Z"
   },
   {
    "duration": 20,
    "start_time": "2021-09-24T18:12:36.858Z"
   },
   {
    "duration": 30,
    "start_time": "2021-09-24T18:12:36.881Z"
   },
   {
    "duration": 9,
    "start_time": "2021-09-24T18:12:36.912Z"
   },
   {
    "duration": 10,
    "start_time": "2021-09-24T18:12:36.923Z"
   },
   {
    "duration": 41,
    "start_time": "2021-09-24T18:12:36.935Z"
   },
   {
    "duration": 7,
    "start_time": "2021-09-24T18:12:36.979Z"
   },
   {
    "duration": 116,
    "start_time": "2021-09-24T18:12:36.989Z"
   },
   {
    "duration": 214,
    "start_time": "2021-09-24T18:12:37.107Z"
   },
   {
    "duration": 9,
    "start_time": "2021-09-24T18:12:37.324Z"
   },
   {
    "duration": 11,
    "start_time": "2021-09-24T18:12:37.335Z"
   },
   {
    "duration": 30,
    "start_time": "2021-09-24T18:12:37.348Z"
   },
   {
    "duration": 10,
    "start_time": "2021-09-24T18:12:37.380Z"
   },
   {
    "duration": 16,
    "start_time": "2021-09-24T18:12:37.392Z"
   },
   {
    "duration": 10,
    "start_time": "2021-09-24T18:12:37.417Z"
   },
   {
    "duration": 10,
    "start_time": "2021-09-24T18:12:37.429Z"
   },
   {
    "duration": 57,
    "start_time": "2021-09-24T18:12:37.441Z"
   },
   {
    "duration": 203,
    "start_time": "2021-09-24T18:12:37.500Z"
   },
   {
    "duration": 6,
    "start_time": "2021-09-24T18:12:37.705Z"
   },
   {
    "duration": 34,
    "start_time": "2021-09-24T18:12:37.713Z"
   },
   {
    "duration": 201,
    "start_time": "2021-09-24T18:12:37.749Z"
   },
   {
    "duration": 367,
    "start_time": "2021-09-24T18:12:37.952Z"
   },
   {
    "duration": 5,
    "start_time": "2021-09-24T18:12:38.321Z"
   },
   {
    "duration": 235,
    "start_time": "2021-09-24T18:12:38.328Z"
   },
   {
    "duration": 232,
    "start_time": "2021-09-24T18:12:38.564Z"
   },
   {
    "duration": 218,
    "start_time": "2021-09-24T18:12:38.798Z"
   },
   {
    "duration": 476,
    "start_time": "2021-09-25T11:34:18.440Z"
   },
   {
    "duration": 415,
    "start_time": "2021-09-25T11:34:34.712Z"
   },
   {
    "duration": 883,
    "start_time": "2021-09-25T11:34:42.797Z"
   },
   {
    "duration": 122,
    "start_time": "2021-09-25T11:34:43.683Z"
   },
   {
    "duration": 15,
    "start_time": "2021-09-25T11:34:43.807Z"
   },
   {
    "duration": 6,
    "start_time": "2021-09-25T11:34:43.825Z"
   },
   {
    "duration": 481,
    "start_time": "2021-09-25T11:34:43.833Z"
   },
   {
    "duration": 12,
    "start_time": "2021-09-25T11:34:44.317Z"
   },
   {
    "duration": 66,
    "start_time": "2021-09-25T11:34:44.331Z"
   },
   {
    "duration": 6,
    "start_time": "2021-09-25T11:34:44.401Z"
   },
   {
    "duration": 12,
    "start_time": "2021-09-25T11:34:44.410Z"
   },
   {
    "duration": 6,
    "start_time": "2021-09-25T11:34:44.425Z"
   },
   {
    "duration": 6,
    "start_time": "2021-09-25T11:34:44.462Z"
   },
   {
    "duration": 18,
    "start_time": "2021-09-25T11:34:44.470Z"
   },
   {
    "duration": 13,
    "start_time": "2021-09-25T11:34:44.491Z"
   },
   {
    "duration": 15,
    "start_time": "2021-09-25T11:34:44.506Z"
   },
   {
    "duration": 41,
    "start_time": "2021-09-25T11:34:44.523Z"
   },
   {
    "duration": 5,
    "start_time": "2021-09-25T11:34:44.566Z"
   },
   {
    "duration": 18,
    "start_time": "2021-09-25T11:34:44.573Z"
   },
   {
    "duration": 13,
    "start_time": "2021-09-25T11:34:44.593Z"
   },
   {
    "duration": 9,
    "start_time": "2021-09-25T11:34:44.608Z"
   },
   {
    "duration": 45,
    "start_time": "2021-09-25T11:34:44.619Z"
   },
   {
    "duration": 8,
    "start_time": "2021-09-25T11:34:44.667Z"
   },
   {
    "duration": 11,
    "start_time": "2021-09-25T11:34:44.678Z"
   },
   {
    "duration": 12,
    "start_time": "2021-09-25T11:34:44.696Z"
   },
   {
    "duration": 5,
    "start_time": "2021-09-25T11:34:44.712Z"
   },
   {
    "duration": 18,
    "start_time": "2021-09-25T11:34:44.765Z"
   },
   {
    "duration": 21,
    "start_time": "2021-09-25T11:34:44.786Z"
   },
   {
    "duration": 4,
    "start_time": "2021-09-25T11:34:44.809Z"
   },
   {
    "duration": 22,
    "start_time": "2021-09-25T11:34:44.816Z"
   },
   {
    "duration": 33,
    "start_time": "2021-09-25T11:34:44.841Z"
   },
   {
    "duration": 41,
    "start_time": "2021-09-25T11:34:44.877Z"
   },
   {
    "duration": 55,
    "start_time": "2021-09-25T11:34:44.920Z"
   },
   {
    "duration": 56,
    "start_time": "2021-09-25T11:34:44.977Z"
   },
   {
    "duration": 878,
    "start_time": "2021-09-25T11:34:45.035Z"
   },
   {
    "duration": 48,
    "start_time": "2021-09-25T11:34:45.915Z"
   },
   {
    "duration": 1278,
    "start_time": "2021-09-25T11:34:45.966Z"
   },
   {
    "duration": -235,
    "start_time": "2021-09-25T11:34:47.483Z"
   },
   {
    "duration": -242,
    "start_time": "2021-09-25T11:34:47.491Z"
   },
   {
    "duration": -254,
    "start_time": "2021-09-25T11:34:47.505Z"
   },
   {
    "duration": -258,
    "start_time": "2021-09-25T11:34:47.510Z"
   },
   {
    "duration": -253,
    "start_time": "2021-09-25T11:34:47.515Z"
   },
   {
    "duration": -256,
    "start_time": "2021-09-25T11:34:47.520Z"
   },
   {
    "duration": -260,
    "start_time": "2021-09-25T11:34:47.525Z"
   },
   {
    "duration": -265,
    "start_time": "2021-09-25T11:34:47.531Z"
   },
   {
    "duration": -268,
    "start_time": "2021-09-25T11:34:47.536Z"
   },
   {
    "duration": -278,
    "start_time": "2021-09-25T11:34:47.547Z"
   },
   {
    "duration": -282,
    "start_time": "2021-09-25T11:34:47.553Z"
   },
   {
    "duration": -285,
    "start_time": "2021-09-25T11:34:47.557Z"
   },
   {
    "duration": -290,
    "start_time": "2021-09-25T11:34:47.563Z"
   },
   {
    "duration": -292,
    "start_time": "2021-09-25T11:34:47.567Z"
   },
   {
    "duration": -303,
    "start_time": "2021-09-25T11:34:47.579Z"
   },
   {
    "duration": -307,
    "start_time": "2021-09-25T11:34:47.584Z"
   },
   {
    "duration": -310,
    "start_time": "2021-09-25T11:34:47.589Z"
   },
   {
    "duration": -314,
    "start_time": "2021-09-25T11:34:47.594Z"
   },
   {
    "duration": -317,
    "start_time": "2021-09-25T11:34:47.599Z"
   },
   {
    "duration": -347,
    "start_time": "2021-09-25T11:34:47.630Z"
   },
   {
    "duration": -350,
    "start_time": "2021-09-25T11:34:47.635Z"
   },
   {
    "duration": -391,
    "start_time": "2021-09-25T11:34:47.677Z"
   },
   {
    "duration": -395,
    "start_time": "2021-09-25T11:34:47.682Z"
   },
   {
    "duration": -423,
    "start_time": "2021-09-25T11:34:47.711Z"
   },
   {
    "duration": -426,
    "start_time": "2021-09-25T11:34:47.716Z"
   },
   {
    "duration": -574,
    "start_time": "2021-09-25T11:34:47.865Z"
   },
   {
    "duration": -578,
    "start_time": "2021-09-25T11:34:47.870Z"
   },
   {
    "duration": -587,
    "start_time": "2021-09-25T11:34:47.881Z"
   },
   {
    "duration": -591,
    "start_time": "2021-09-25T11:34:47.886Z"
   },
   {
    "duration": -594,
    "start_time": "2021-09-25T11:34:47.891Z"
   },
   {
    "duration": -599,
    "start_time": "2021-09-25T11:34:47.897Z"
   },
   {
    "duration": -539,
    "start_time": "2021-09-25T11:34:47.902Z"
   },
   {
    "duration": -543,
    "start_time": "2021-09-25T11:34:47.907Z"
   },
   {
    "duration": -661,
    "start_time": "2021-09-25T11:34:48.027Z"
   },
   {
    "duration": -666,
    "start_time": "2021-09-25T11:34:48.033Z"
   },
   {
    "duration": -669,
    "start_time": "2021-09-25T11:34:48.038Z"
   },
   {
    "duration": -673,
    "start_time": "2021-09-25T11:34:48.043Z"
   },
   {
    "duration": -676,
    "start_time": "2021-09-25T11:34:48.048Z"
   },
   {
    "duration": -680,
    "start_time": "2021-09-25T11:34:48.053Z"
   },
   {
    "duration": -684,
    "start_time": "2021-09-25T11:34:48.058Z"
   },
   {
    "duration": -768,
    "start_time": "2021-09-25T11:34:48.144Z"
   },
   {
    "duration": -771,
    "start_time": "2021-09-25T11:34:48.148Z"
   },
   {
    "duration": -774,
    "start_time": "2021-09-25T11:34:48.153Z"
   },
   {
    "duration": -777,
    "start_time": "2021-09-25T11:34:48.157Z"
   },
   {
    "duration": -781,
    "start_time": "2021-09-25T11:34:48.162Z"
   },
   {
    "duration": -846,
    "start_time": "2021-09-25T11:34:48.229Z"
   },
   {
    "duration": -850,
    "start_time": "2021-09-25T11:34:48.234Z"
   },
   {
    "duration": -852,
    "start_time": "2021-09-25T11:34:48.238Z"
   },
   {
    "duration": -856,
    "start_time": "2021-09-25T11:34:48.243Z"
   },
   {
    "duration": -859,
    "start_time": "2021-09-25T11:34:48.248Z"
   },
   {
    "duration": -862,
    "start_time": "2021-09-25T11:34:48.253Z"
   },
   {
    "duration": -865,
    "start_time": "2021-09-25T11:34:48.257Z"
   },
   {
    "duration": -868,
    "start_time": "2021-09-25T11:34:48.262Z"
   },
   {
    "duration": -871,
    "start_time": "2021-09-25T11:34:48.266Z"
   },
   {
    "duration": -874,
    "start_time": "2021-09-25T11:34:48.271Z"
   },
   {
    "duration": -814,
    "start_time": "2021-09-25T11:34:48.276Z"
   },
   {
    "duration": -817,
    "start_time": "2021-09-25T11:34:48.281Z"
   },
   {
    "duration": 342,
    "start_time": "2021-09-25T11:36:05.336Z"
   },
   {
    "duration": 373,
    "start_time": "2021-09-25T11:36:16.037Z"
   },
   {
    "duration": 1065,
    "start_time": "2021-09-25T11:36:50.670Z"
   },
   {
    "duration": -246,
    "start_time": "2021-09-25T11:38:40.886Z"
   },
   {
    "duration": 691,
    "start_time": "2021-09-25T11:38:41.244Z"
   },
   {
    "duration": 364,
    "start_time": "2021-09-25T19:41:50.846Z"
   },
   {
    "duration": 720,
    "start_time": "2021-09-25T19:42:01.640Z"
   },
   {
    "duration": 92,
    "start_time": "2021-09-25T19:42:02.362Z"
   },
   {
    "duration": 11,
    "start_time": "2021-09-25T19:42:02.456Z"
   },
   {
    "duration": 4,
    "start_time": "2021-09-25T19:42:02.469Z"
   },
   {
    "duration": 312,
    "start_time": "2021-09-25T19:42:02.476Z"
   },
   {
    "duration": 9,
    "start_time": "2021-09-25T19:42:02.789Z"
   },
   {
    "duration": 46,
    "start_time": "2021-09-25T19:42:02.800Z"
   },
   {
    "duration": 5,
    "start_time": "2021-09-25T19:42:02.849Z"
   },
   {
    "duration": 10,
    "start_time": "2021-09-25T19:42:02.856Z"
   },
   {
    "duration": 5,
    "start_time": "2021-09-25T19:42:02.867Z"
   },
   {
    "duration": 8,
    "start_time": "2021-09-25T19:42:02.873Z"
   },
   {
    "duration": 24,
    "start_time": "2021-09-25T19:42:02.883Z"
   },
   {
    "duration": 7,
    "start_time": "2021-09-25T19:42:02.909Z"
   },
   {
    "duration": 31,
    "start_time": "2021-09-25T19:42:02.918Z"
   },
   {
    "duration": 6,
    "start_time": "2021-09-25T19:42:02.951Z"
   },
   {
    "duration": 4,
    "start_time": "2021-09-25T19:42:02.959Z"
   },
   {
    "duration": 9,
    "start_time": "2021-09-25T19:42:02.965Z"
   },
   {
    "duration": 8,
    "start_time": "2021-09-25T19:42:02.976Z"
   },
   {
    "duration": 5,
    "start_time": "2021-09-25T19:42:02.985Z"
   },
   {
    "duration": 6,
    "start_time": "2021-09-25T19:42:02.991Z"
   },
   {
    "duration": 46,
    "start_time": "2021-09-25T19:42:02.999Z"
   },
   {
    "duration": 7,
    "start_time": "2021-09-25T19:42:03.048Z"
   },
   {
    "duration": 8,
    "start_time": "2021-09-25T19:42:03.059Z"
   },
   {
    "duration": 3,
    "start_time": "2021-09-25T19:42:03.069Z"
   },
   {
    "duration": 9,
    "start_time": "2021-09-25T19:42:03.074Z"
   },
   {
    "duration": 20,
    "start_time": "2021-09-25T19:42:03.085Z"
   },
   {
    "duration": 3,
    "start_time": "2021-09-25T19:42:03.107Z"
   },
   {
    "duration": 37,
    "start_time": "2021-09-25T19:42:03.111Z"
   },
   {
    "duration": 15,
    "start_time": "2021-09-25T19:42:03.150Z"
   },
   {
    "duration": 22,
    "start_time": "2021-09-25T19:42:03.167Z"
   },
   {
    "duration": 21,
    "start_time": "2021-09-25T19:42:03.191Z"
   },
   {
    "duration": 54,
    "start_time": "2021-09-25T19:42:03.213Z"
   },
   {
    "duration": 525,
    "start_time": "2021-09-25T19:42:03.268Z"
   },
   {
    "duration": 21,
    "start_time": "2021-09-25T19:42:03.795Z"
   },
   {
    "duration": 865,
    "start_time": "2021-09-25T19:42:03.817Z"
   },
   {
    "duration": -6185,
    "start_time": "2021-09-25T19:42:10.869Z"
   },
   {
    "duration": -6201,
    "start_time": "2021-09-25T19:42:10.886Z"
   },
   {
    "duration": -6294,
    "start_time": "2021-09-25T19:42:10.980Z"
   },
   {
    "duration": -6311,
    "start_time": "2021-09-25T19:42:10.998Z"
   },
   {
    "duration": -6329,
    "start_time": "2021-09-25T19:42:11.017Z"
   },
   {
    "duration": -6347,
    "start_time": "2021-09-25T19:42:11.036Z"
   },
   {
    "duration": -6364,
    "start_time": "2021-09-25T19:42:11.054Z"
   },
   {
    "duration": -6384,
    "start_time": "2021-09-25T19:42:11.075Z"
   },
   {
    "duration": -6417,
    "start_time": "2021-09-25T19:42:11.109Z"
   },
   {
    "duration": -6435,
    "start_time": "2021-09-25T19:42:11.128Z"
   },
   {
    "duration": -6454,
    "start_time": "2021-09-25T19:42:11.148Z"
   },
   {
    "duration": -6472,
    "start_time": "2021-09-25T19:42:11.167Z"
   },
   {
    "duration": -6489,
    "start_time": "2021-09-25T19:42:11.185Z"
   },
   {
    "duration": -6508,
    "start_time": "2021-09-25T19:42:11.205Z"
   },
   {
    "duration": -6540,
    "start_time": "2021-09-25T19:42:11.238Z"
   },
   {
    "duration": -6560,
    "start_time": "2021-09-25T19:42:11.259Z"
   },
   {
    "duration": -6578,
    "start_time": "2021-09-25T19:42:11.277Z"
   },
   {
    "duration": -6596,
    "start_time": "2021-09-25T19:42:11.296Z"
   },
   {
    "duration": -6612,
    "start_time": "2021-09-25T19:42:11.313Z"
   },
   {
    "duration": -6631,
    "start_time": "2021-09-25T19:42:11.333Z"
   },
   {
    "duration": -6665,
    "start_time": "2021-09-25T19:42:11.368Z"
   },
   {
    "duration": -6682,
    "start_time": "2021-09-25T19:42:11.386Z"
   },
   {
    "duration": -6699,
    "start_time": "2021-09-25T19:42:11.403Z"
   },
   {
    "duration": -6715,
    "start_time": "2021-09-25T19:42:11.420Z"
   },
   {
    "duration": -6732,
    "start_time": "2021-09-25T19:42:11.438Z"
   },
   {
    "duration": -6750,
    "start_time": "2021-09-25T19:42:11.457Z"
   },
   {
    "duration": -6782,
    "start_time": "2021-09-25T19:42:11.490Z"
   },
   {
    "duration": -6800,
    "start_time": "2021-09-25T19:42:11.509Z"
   },
   {
    "duration": -6817,
    "start_time": "2021-09-25T19:42:11.526Z"
   },
   {
    "duration": -6833,
    "start_time": "2021-09-25T19:42:11.543Z"
   },
   {
    "duration": -6848,
    "start_time": "2021-09-25T19:42:11.559Z"
   },
   {
    "duration": -6833,
    "start_time": "2021-09-25T19:42:11.577Z"
   },
   {
    "duration": -6865,
    "start_time": "2021-09-25T19:42:11.610Z"
   },
   {
    "duration": -6883,
    "start_time": "2021-09-25T19:42:11.629Z"
   },
   {
    "duration": -6899,
    "start_time": "2021-09-25T19:42:11.646Z"
   },
   {
    "duration": -6915,
    "start_time": "2021-09-25T19:42:11.663Z"
   },
   {
    "duration": -6931,
    "start_time": "2021-09-25T19:42:11.680Z"
   },
   {
    "duration": -6949,
    "start_time": "2021-09-25T19:42:11.699Z"
   },
   {
    "duration": -6981,
    "start_time": "2021-09-25T19:42:11.732Z"
   },
   {
    "duration": -7001,
    "start_time": "2021-09-25T19:42:11.752Z"
   },
   {
    "duration": -7017,
    "start_time": "2021-09-25T19:42:11.769Z"
   },
   {
    "duration": -7035,
    "start_time": "2021-09-25T19:42:11.788Z"
   },
   {
    "duration": -7049,
    "start_time": "2021-09-25T19:42:11.803Z"
   },
   {
    "duration": -7064,
    "start_time": "2021-09-25T19:42:11.819Z"
   },
   {
    "duration": -7095,
    "start_time": "2021-09-25T19:42:11.851Z"
   },
   {
    "duration": -7113,
    "start_time": "2021-09-25T19:42:11.870Z"
   },
   {
    "duration": -7131,
    "start_time": "2021-09-25T19:42:11.888Z"
   },
   {
    "duration": -7148,
    "start_time": "2021-09-25T19:42:11.906Z"
   },
   {
    "duration": -7164,
    "start_time": "2021-09-25T19:42:11.923Z"
   },
   {
    "duration": -7185,
    "start_time": "2021-09-25T19:42:11.945Z"
   },
   {
    "duration": -7219,
    "start_time": "2021-09-25T19:42:11.980Z"
   },
   {
    "duration": -7236,
    "start_time": "2021-09-25T19:42:11.998Z"
   },
   {
    "duration": -7251,
    "start_time": "2021-09-25T19:42:12.014Z"
   },
   {
    "duration": -7269,
    "start_time": "2021-09-25T19:42:12.033Z"
   },
   {
    "duration": -7284,
    "start_time": "2021-09-25T19:42:12.049Z"
   },
   {
    "duration": -7305,
    "start_time": "2021-09-25T19:42:12.071Z"
   },
   {
    "duration": -7340,
    "start_time": "2021-09-25T19:42:12.107Z"
   },
   {
    "duration": 778,
    "start_time": "2021-09-25T19:43:30.033Z"
   },
   {
    "duration": 674,
    "start_time": "2021-09-25T19:43:46.801Z"
   },
   {
    "duration": 413,
    "start_time": "2021-09-25T19:44:10.869Z"
   },
   {
    "duration": 355,
    "start_time": "2021-09-25T19:44:37.425Z"
   },
   {
    "duration": 270,
    "start_time": "2021-09-25T19:45:38.778Z"
   },
   {
    "duration": 275,
    "start_time": "2021-09-25T19:45:49.989Z"
   },
   {
    "duration": 271,
    "start_time": "2021-09-25T19:45:59.779Z"
   },
   {
    "duration": 267,
    "start_time": "2021-09-25T19:46:05.852Z"
   },
   {
    "duration": 794,
    "start_time": "2021-09-25T19:47:02.652Z"
   },
   {
    "duration": 79,
    "start_time": "2021-09-25T19:47:03.448Z"
   },
   {
    "duration": 24,
    "start_time": "2021-09-25T19:47:03.529Z"
   },
   {
    "duration": 4,
    "start_time": "2021-09-25T19:47:03.555Z"
   },
   {
    "duration": 221,
    "start_time": "2021-09-25T19:47:03.561Z"
   },
   {
    "duration": 9,
    "start_time": "2021-09-25T19:47:03.783Z"
   },
   {
    "duration": 25,
    "start_time": "2021-09-25T19:47:03.793Z"
   },
   {
    "duration": 26,
    "start_time": "2021-09-25T19:47:03.821Z"
   },
   {
    "duration": 10,
    "start_time": "2021-09-25T19:47:03.849Z"
   },
   {
    "duration": 4,
    "start_time": "2021-09-25T19:47:03.861Z"
   },
   {
    "duration": 15,
    "start_time": "2021-09-25T19:47:03.867Z"
   },
   {
    "duration": 16,
    "start_time": "2021-09-25T19:47:03.884Z"
   },
   {
    "duration": 9,
    "start_time": "2021-09-25T19:47:03.901Z"
   },
   {
    "duration": 15,
    "start_time": "2021-09-25T19:47:03.911Z"
   },
   {
    "duration": 5,
    "start_time": "2021-09-25T19:47:03.944Z"
   },
   {
    "duration": 6,
    "start_time": "2021-09-25T19:47:03.951Z"
   },
   {
    "duration": 11,
    "start_time": "2021-09-25T19:47:03.958Z"
   },
   {
    "duration": 8,
    "start_time": "2021-09-25T19:47:03.971Z"
   },
   {
    "duration": 10,
    "start_time": "2021-09-25T19:47:03.981Z"
   },
   {
    "duration": 8,
    "start_time": "2021-09-25T19:47:03.993Z"
   },
   {
    "duration": 13,
    "start_time": "2021-09-25T19:47:04.002Z"
   },
   {
    "duration": 31,
    "start_time": "2021-09-25T19:47:04.016Z"
   },
   {
    "duration": 9,
    "start_time": "2021-09-25T19:47:04.051Z"
   },
   {
    "duration": 4,
    "start_time": "2021-09-25T19:47:04.062Z"
   },
   {
    "duration": 13,
    "start_time": "2021-09-25T19:47:04.067Z"
   },
   {
    "duration": 18,
    "start_time": "2021-09-25T19:47:04.082Z"
   },
   {
    "duration": 6,
    "start_time": "2021-09-25T19:47:04.102Z"
   },
   {
    "duration": 25,
    "start_time": "2021-09-25T19:47:04.109Z"
   },
   {
    "duration": 33,
    "start_time": "2021-09-25T19:47:04.136Z"
   },
   {
    "duration": 35,
    "start_time": "2021-09-25T19:47:04.171Z"
   },
   {
    "duration": 21,
    "start_time": "2021-09-25T19:47:04.208Z"
   },
   {
    "duration": 27,
    "start_time": "2021-09-25T19:47:04.231Z"
   },
   {
    "duration": 525,
    "start_time": "2021-09-25T19:47:04.260Z"
   },
   {
    "duration": 20,
    "start_time": "2021-09-25T19:47:04.787Z"
   },
   {
    "duration": 408,
    "start_time": "2021-09-25T19:47:04.809Z"
   },
   {
    "duration": 8,
    "start_time": "2021-09-25T19:47:05.219Z"
   },
   {
    "duration": 16,
    "start_time": "2021-09-25T19:47:05.229Z"
   },
   {
    "duration": 432,
    "start_time": "2021-09-25T19:47:05.247Z"
   },
   {
    "duration": 267,
    "start_time": "2021-09-25T19:47:05.681Z"
   },
   {
    "duration": 8,
    "start_time": "2021-09-25T19:47:05.950Z"
   },
   {
    "duration": 300,
    "start_time": "2021-09-25T19:47:05.960Z"
   },
   {
    "duration": 9,
    "start_time": "2021-09-25T19:47:06.261Z"
   },
   {
    "duration": 10,
    "start_time": "2021-09-25T19:47:06.271Z"
   },
   {
    "duration": 127,
    "start_time": "2021-09-25T19:47:06.283Z"
   },
   {
    "duration": 369,
    "start_time": "2021-09-25T19:47:06.411Z"
   },
   {
    "duration": 11,
    "start_time": "2021-09-25T19:47:06.781Z"
   },
   {
    "duration": 224,
    "start_time": "2021-09-25T19:47:06.793Z"
   },
   {
    "duration": 10,
    "start_time": "2021-09-25T19:47:07.018Z"
   },
   {
    "duration": 37,
    "start_time": "2021-09-25T19:47:07.029Z"
   },
   {
    "duration": 85,
    "start_time": "2021-09-25T19:47:07.068Z"
   },
   {
    "duration": 136,
    "start_time": "2021-09-25T19:47:07.155Z"
   },
   {
    "duration": 237,
    "start_time": "2021-09-25T19:47:07.293Z"
   },
   {
    "duration": 360,
    "start_time": "2021-09-25T19:47:07.532Z"
   },
   {
    "duration": 8,
    "start_time": "2021-09-25T19:47:07.894Z"
   },
   {
    "duration": 224,
    "start_time": "2021-09-25T19:47:07.903Z"
   },
   {
    "duration": 16,
    "start_time": "2021-09-25T19:47:08.129Z"
   },
   {
    "duration": 4,
    "start_time": "2021-09-25T19:47:08.147Z"
   },
   {
    "duration": 201,
    "start_time": "2021-09-25T19:47:08.152Z"
   },
   {
    "duration": 4,
    "start_time": "2021-09-25T19:47:08.355Z"
   },
   {
    "duration": 526,
    "start_time": "2021-09-25T19:47:08.360Z"
   },
   {
    "duration": 4,
    "start_time": "2021-09-25T19:47:08.888Z"
   },
   {
    "duration": 196,
    "start_time": "2021-09-25T19:47:08.894Z"
   },
   {
    "duration": 196,
    "start_time": "2021-09-25T19:47:09.091Z"
   },
   {
    "duration": 8,
    "start_time": "2021-09-25T19:47:09.288Z"
   },
   {
    "duration": 272,
    "start_time": "2021-09-25T19:47:09.297Z"
   },
   {
    "duration": 8,
    "start_time": "2021-09-25T19:47:09.571Z"
   },
   {
    "duration": 208,
    "start_time": "2021-09-25T19:47:09.580Z"
   },
   {
    "duration": 8,
    "start_time": "2021-09-25T19:47:09.793Z"
   },
   {
    "duration": 43,
    "start_time": "2021-09-25T19:47:09.803Z"
   },
   {
    "duration": 8,
    "start_time": "2021-09-25T19:47:09.847Z"
   },
   {
    "duration": 16,
    "start_time": "2021-09-25T19:47:09.856Z"
   },
   {
    "duration": 8,
    "start_time": "2021-09-25T19:47:09.874Z"
   },
   {
    "duration": 8,
    "start_time": "2021-09-25T19:47:09.883Z"
   },
   {
    "duration": 25,
    "start_time": "2021-09-25T19:47:09.893Z"
   },
   {
    "duration": 285,
    "start_time": "2021-09-25T19:47:09.920Z"
   },
   {
    "duration": 8,
    "start_time": "2021-09-25T19:47:10.207Z"
   },
   {
    "duration": 15,
    "start_time": "2021-09-25T19:47:10.217Z"
   },
   {
    "duration": 12,
    "start_time": "2021-09-25T19:47:10.234Z"
   },
   {
    "duration": 8,
    "start_time": "2021-09-25T19:47:10.248Z"
   },
   {
    "duration": 15,
    "start_time": "2021-09-25T19:47:10.258Z"
   },
   {
    "duration": 10,
    "start_time": "2021-09-25T19:47:10.275Z"
   },
   {
    "duration": 8,
    "start_time": "2021-09-25T19:47:10.286Z"
   },
   {
    "duration": 19,
    "start_time": "2021-09-25T19:47:10.296Z"
   },
   {
    "duration": 189,
    "start_time": "2021-09-25T19:47:10.345Z"
   },
   {
    "duration": 10,
    "start_time": "2021-09-25T19:47:10.536Z"
   },
   {
    "duration": 35,
    "start_time": "2021-09-25T19:47:10.548Z"
   },
   {
    "duration": 167,
    "start_time": "2021-09-25T19:47:10.585Z"
   },
   {
    "duration": 329,
    "start_time": "2021-09-25T19:47:10.754Z"
   },
   {
    "duration": 4,
    "start_time": "2021-09-25T19:47:11.085Z"
   },
   {
    "duration": 200,
    "start_time": "2021-09-25T19:47:11.090Z"
   },
   {
    "duration": 189,
    "start_time": "2021-09-25T19:47:11.292Z"
   },
   {
    "duration": 213,
    "start_time": "2021-09-25T19:47:11.483Z"
   },
   {
    "duration": 388,
    "start_time": "2021-09-25T19:47:45.336Z"
   },
   {
    "duration": 411,
    "start_time": "2021-09-25T19:48:27.688Z"
   },
   {
    "duration": 791,
    "start_time": "2021-09-25T19:48:37.911Z"
   },
   {
    "duration": 392,
    "start_time": "2021-09-25T19:48:51.238Z"
   },
   {
    "duration": 377,
    "start_time": "2021-09-25T19:50:16.878Z"
   },
   {
    "duration": 95,
    "start_time": "2021-09-25T19:51:31.556Z"
   },
   {
    "duration": 666,
    "start_time": "2021-09-25T19:51:37.683Z"
   },
   {
    "duration": 381,
    "start_time": "2021-09-25T19:51:45.553Z"
   },
   {
    "duration": 775,
    "start_time": "2021-09-25T19:51:52.017Z"
   },
   {
    "duration": 735,
    "start_time": "2021-09-25T19:52:16.004Z"
   },
   {
    "duration": 384,
    "start_time": "2021-09-25T19:52:23.463Z"
   },
   {
    "duration": 368,
    "start_time": "2021-09-25T19:52:31.472Z"
   },
   {
    "duration": 381,
    "start_time": "2021-09-25T19:52:43.800Z"
   },
   {
    "duration": 10,
    "start_time": "2021-09-25T19:53:57.425Z"
   },
   {
    "duration": 464,
    "start_time": "2021-09-25T19:55:29.180Z"
   },
   {
    "duration": 520,
    "start_time": "2021-09-25T19:55:46.716Z"
   },
   {
    "duration": 410,
    "start_time": "2021-09-25T19:56:24.284Z"
   },
   {
    "duration": 387,
    "start_time": "2021-09-25T19:56:44.449Z"
   },
   {
    "duration": 397,
    "start_time": "2021-09-25T19:56:50.761Z"
   },
   {
    "duration": 270,
    "start_time": "2021-09-25T19:57:33.490Z"
   },
   {
    "duration": 387,
    "start_time": "2021-09-25T19:58:18.826Z"
   },
   {
    "duration": 753,
    "start_time": "2021-09-25T20:00:58.733Z"
   },
   {
    "duration": 93,
    "start_time": "2021-09-25T20:00:59.488Z"
   },
   {
    "duration": 11,
    "start_time": "2021-09-25T20:00:59.583Z"
   },
   {
    "duration": 4,
    "start_time": "2021-09-25T20:00:59.596Z"
   },
   {
    "duration": 217,
    "start_time": "2021-09-25T20:00:59.601Z"
   },
   {
    "duration": 9,
    "start_time": "2021-09-25T20:00:59.820Z"
   },
   {
    "duration": 41,
    "start_time": "2021-09-25T20:00:59.830Z"
   },
   {
    "duration": 5,
    "start_time": "2021-09-25T20:00:59.874Z"
   },
   {
    "duration": 12,
    "start_time": "2021-09-25T20:00:59.881Z"
   },
   {
    "duration": 4,
    "start_time": "2021-09-25T20:00:59.895Z"
   },
   {
    "duration": 6,
    "start_time": "2021-09-25T20:00:59.900Z"
   },
   {
    "duration": 40,
    "start_time": "2021-09-25T20:00:59.908Z"
   },
   {
    "duration": 10,
    "start_time": "2021-09-25T20:00:59.950Z"
   },
   {
    "duration": 6,
    "start_time": "2021-09-25T20:00:59.962Z"
   },
   {
    "duration": 6,
    "start_time": "2021-09-25T20:00:59.969Z"
   },
   {
    "duration": 7,
    "start_time": "2021-09-25T20:00:59.977Z"
   },
   {
    "duration": 10,
    "start_time": "2021-09-25T20:00:59.986Z"
   },
   {
    "duration": 17,
    "start_time": "2021-09-25T20:00:59.998Z"
   },
   {
    "duration": 36,
    "start_time": "2021-09-25T20:01:00.017Z"
   },
   {
    "duration": 7,
    "start_time": "2021-09-25T20:01:00.055Z"
   },
   {
    "duration": 7,
    "start_time": "2021-09-25T20:01:00.065Z"
   },
   {
    "duration": 15,
    "start_time": "2021-09-25T20:01:00.074Z"
   },
   {
    "duration": 13,
    "start_time": "2021-09-25T20:01:00.092Z"
   },
   {
    "duration": 5,
    "start_time": "2021-09-25T20:01:00.108Z"
   },
   {
    "duration": 34,
    "start_time": "2021-09-25T20:01:00.115Z"
   },
   {
    "duration": 16,
    "start_time": "2021-09-25T20:01:00.151Z"
   },
   {
    "duration": 3,
    "start_time": "2021-09-25T20:01:00.169Z"
   },
   {
    "duration": 15,
    "start_time": "2021-09-25T20:01:00.173Z"
   },
   {
    "duration": 16,
    "start_time": "2021-09-25T20:01:00.190Z"
   },
   {
    "duration": 45,
    "start_time": "2021-09-25T20:01:00.208Z"
   },
   {
    "duration": 23,
    "start_time": "2021-09-25T20:01:00.254Z"
   },
   {
    "duration": 42,
    "start_time": "2021-09-25T20:01:00.278Z"
   },
   {
    "duration": 567,
    "start_time": "2021-09-25T20:01:00.322Z"
   },
   {
    "duration": 22,
    "start_time": "2021-09-25T20:01:00.891Z"
   },
   {
    "duration": 393,
    "start_time": "2021-09-25T20:01:00.915Z"
   },
   {
    "duration": 10,
    "start_time": "2021-09-25T20:01:01.310Z"
   },
   {
    "duration": 28,
    "start_time": "2021-09-25T20:01:01.322Z"
   },
   {
    "duration": 416,
    "start_time": "2021-09-25T20:01:01.352Z"
   },
   {
    "duration": 282,
    "start_time": "2021-09-25T20:01:01.770Z"
   },
   {
    "duration": 8,
    "start_time": "2021-09-25T20:01:02.054Z"
   },
   {
    "duration": 276,
    "start_time": "2021-09-25T20:01:02.064Z"
   },
   {
    "duration": 9,
    "start_time": "2021-09-25T20:01:02.344Z"
   },
   {
    "duration": 463,
    "start_time": "2021-09-25T20:01:02.354Z"
   },
   {
    "duration": -5524,
    "start_time": "2021-09-25T20:01:08.344Z"
   },
   {
    "duration": -5537,
    "start_time": "2021-09-25T20:01:08.358Z"
   },
   {
    "duration": -5553,
    "start_time": "2021-09-25T20:01:08.375Z"
   },
   {
    "duration": -5567,
    "start_time": "2021-09-25T20:01:08.389Z"
   },
   {
    "duration": -5582,
    "start_time": "2021-09-25T20:01:08.405Z"
   },
   {
    "duration": -5596,
    "start_time": "2021-09-25T20:01:08.420Z"
   },
   {
    "duration": -5651,
    "start_time": "2021-09-25T20:01:08.476Z"
   },
   {
    "duration": -5664,
    "start_time": "2021-09-25T20:01:08.490Z"
   },
   {
    "duration": -5680,
    "start_time": "2021-09-25T20:01:08.507Z"
   },
   {
    "duration": -5693,
    "start_time": "2021-09-25T20:01:08.521Z"
   },
   {
    "duration": -5709,
    "start_time": "2021-09-25T20:01:08.538Z"
   },
   {
    "duration": -5722,
    "start_time": "2021-09-25T20:01:08.552Z"
   },
   {
    "duration": -5737,
    "start_time": "2021-09-25T20:01:08.568Z"
   },
   {
    "duration": -5752,
    "start_time": "2021-09-25T20:01:08.596Z"
   },
   {
    "duration": -5769,
    "start_time": "2021-09-25T20:01:08.614Z"
   },
   {
    "duration": -5782,
    "start_time": "2021-09-25T20:01:08.628Z"
   },
   {
    "duration": -5797,
    "start_time": "2021-09-25T20:01:08.644Z"
   },
   {
    "duration": -5810,
    "start_time": "2021-09-25T20:01:08.658Z"
   },
   {
    "duration": -5825,
    "start_time": "2021-09-25T20:01:08.674Z"
   },
   {
    "duration": -5838,
    "start_time": "2021-09-25T20:01:08.688Z"
   },
   {
    "duration": -5866,
    "start_time": "2021-09-25T20:01:08.717Z"
   },
   {
    "duration": -5880,
    "start_time": "2021-09-25T20:01:08.732Z"
   },
   {
    "duration": -5895,
    "start_time": "2021-09-25T20:01:08.748Z"
   },
   {
    "duration": -5909,
    "start_time": "2021-09-25T20:01:08.763Z"
   },
   {
    "duration": -5924,
    "start_time": "2021-09-25T20:01:08.779Z"
   },
   {
    "duration": -5937,
    "start_time": "2021-09-25T20:01:08.793Z"
   },
   {
    "duration": -5952,
    "start_time": "2021-09-25T20:01:08.809Z"
   },
   {
    "duration": -5977,
    "start_time": "2021-09-25T20:01:08.835Z"
   },
   {
    "duration": -5993,
    "start_time": "2021-09-25T20:01:08.852Z"
   },
   {
    "duration": -6006,
    "start_time": "2021-09-25T20:01:08.866Z"
   },
   {
    "duration": -6022,
    "start_time": "2021-09-25T20:01:08.883Z"
   },
   {
    "duration": -6035,
    "start_time": "2021-09-25T20:01:08.897Z"
   },
   {
    "duration": -6050,
    "start_time": "2021-09-25T20:01:08.913Z"
   },
   {
    "duration": -6064,
    "start_time": "2021-09-25T20:01:08.927Z"
   },
   {
    "duration": -6091,
    "start_time": "2021-09-25T20:01:08.955Z"
   },
   {
    "duration": -6105,
    "start_time": "2021-09-25T20:01:08.970Z"
   },
   {
    "duration": -6120,
    "start_time": "2021-09-25T20:01:08.986Z"
   },
   {
    "duration": -6133,
    "start_time": "2021-09-25T20:01:09.000Z"
   },
   {
    "duration": -6149,
    "start_time": "2021-09-25T20:01:09.017Z"
   },
   {
    "duration": -6163,
    "start_time": "2021-09-25T20:01:09.032Z"
   },
   {
    "duration": -6178,
    "start_time": "2021-09-25T20:01:09.048Z"
   },
   {
    "duration": -6214,
    "start_time": "2021-09-25T20:01:09.085Z"
   },
   {
    "duration": -6229,
    "start_time": "2021-09-25T20:01:09.101Z"
   },
   {
    "duration": -6242,
    "start_time": "2021-09-25T20:01:09.115Z"
   },
   {
    "duration": -6258,
    "start_time": "2021-09-25T20:01:09.132Z"
   },
   {
    "duration": -6271,
    "start_time": "2021-09-25T20:01:09.146Z"
   },
   {
    "duration": -6288,
    "start_time": "2021-09-25T20:01:09.163Z"
   },
   {
    "duration": -6301,
    "start_time": "2021-09-25T20:01:09.177Z"
   },
   {
    "duration": 117,
    "start_time": "2021-09-25T20:02:37.039Z"
   },
   {
    "duration": 118,
    "start_time": "2021-09-25T20:03:45.674Z"
   },
   {
    "duration": 498,
    "start_time": "2021-09-25T20:41:06.389Z"
   },
   {
    "duration": 92,
    "start_time": "2021-09-25T20:50:03.792Z"
   },
   {
    "duration": 96,
    "start_time": "2021-09-25T20:51:16.892Z"
   },
   {
    "duration": 291,
    "start_time": "2021-09-25T20:52:53.210Z"
   },
   {
    "duration": 273,
    "start_time": "2021-09-25T20:53:31.565Z"
   },
   {
    "duration": 278,
    "start_time": "2021-09-25T20:56:26.147Z"
   },
   {
    "duration": 294,
    "start_time": "2021-09-27T11:27:33.915Z"
   },
   {
    "duration": 691,
    "start_time": "2021-09-27T11:27:42.433Z"
   },
   {
    "duration": 98,
    "start_time": "2021-09-27T11:27:43.126Z"
   },
   {
    "duration": 10,
    "start_time": "2021-09-27T11:27:43.226Z"
   },
   {
    "duration": 4,
    "start_time": "2021-09-27T11:27:43.238Z"
   },
   {
    "duration": 246,
    "start_time": "2021-09-27T11:27:43.243Z"
   },
   {
    "duration": 14,
    "start_time": "2021-09-27T11:27:43.491Z"
   },
   {
    "duration": 26,
    "start_time": "2021-09-27T11:27:43.507Z"
   },
   {
    "duration": 4,
    "start_time": "2021-09-27T11:27:43.535Z"
   },
   {
    "duration": 9,
    "start_time": "2021-09-27T11:27:43.541Z"
   },
   {
    "duration": 4,
    "start_time": "2021-09-27T11:27:43.552Z"
   },
   {
    "duration": 6,
    "start_time": "2021-09-27T11:27:43.557Z"
   },
   {
    "duration": 9,
    "start_time": "2021-09-27T11:27:43.600Z"
   },
   {
    "duration": 9,
    "start_time": "2021-09-27T11:27:43.610Z"
   },
   {
    "duration": 6,
    "start_time": "2021-09-27T11:27:43.620Z"
   },
   {
    "duration": 5,
    "start_time": "2021-09-27T11:27:43.627Z"
   },
   {
    "duration": 3,
    "start_time": "2021-09-27T11:27:43.634Z"
   },
   {
    "duration": 8,
    "start_time": "2021-09-27T11:27:43.639Z"
   },
   {
    "duration": 7,
    "start_time": "2021-09-27T11:27:43.648Z"
   },
   {
    "duration": 43,
    "start_time": "2021-09-27T11:27:43.657Z"
   },
   {
    "duration": 6,
    "start_time": "2021-09-27T11:27:43.702Z"
   },
   {
    "duration": 5,
    "start_time": "2021-09-27T11:27:43.710Z"
   },
   {
    "duration": 6,
    "start_time": "2021-09-27T11:27:43.717Z"
   },
   {
    "duration": 8,
    "start_time": "2021-09-27T11:27:43.727Z"
   },
   {
    "duration": 3,
    "start_time": "2021-09-27T11:27:43.738Z"
   },
   {
    "duration": 7,
    "start_time": "2021-09-27T11:27:43.742Z"
   },
   {
    "duration": 50,
    "start_time": "2021-09-27T11:27:43.750Z"
   },
   {
    "duration": 3,
    "start_time": "2021-09-27T11:27:43.801Z"
   },
   {
    "duration": 13,
    "start_time": "2021-09-27T11:27:43.806Z"
   },
   {
    "duration": 24,
    "start_time": "2021-09-27T11:27:43.820Z"
   },
   {
    "duration": 24,
    "start_time": "2021-09-27T11:27:43.846Z"
   },
   {
    "duration": 37,
    "start_time": "2021-09-27T11:27:43.872Z"
   },
   {
    "duration": 28,
    "start_time": "2021-09-27T11:27:43.911Z"
   },
   {
    "duration": 553,
    "start_time": "2021-09-27T11:27:43.941Z"
   },
   {
    "duration": 23,
    "start_time": "2021-09-27T11:27:44.499Z"
   },
   {
    "duration": 411,
    "start_time": "2021-09-27T11:27:44.523Z"
   },
   {
    "duration": 8,
    "start_time": "2021-09-27T11:27:44.936Z"
   },
   {
    "duration": 8,
    "start_time": "2021-09-27T11:27:44.945Z"
   },
   {
    "duration": 461,
    "start_time": "2021-09-27T11:27:44.955Z"
   },
   {
    "duration": 291,
    "start_time": "2021-09-27T11:27:45.418Z"
   },
   {
    "duration": 8,
    "start_time": "2021-09-27T11:27:45.710Z"
   },
   {
    "duration": 299,
    "start_time": "2021-09-27T11:27:45.720Z"
   },
   {
    "duration": 8,
    "start_time": "2021-09-27T11:27:46.020Z"
   },
   {
    "duration": 140,
    "start_time": "2021-09-27T11:27:46.030Z"
   },
   {
    "duration": 383,
    "start_time": "2021-09-27T11:27:46.171Z"
   },
   {
    "duration": 10,
    "start_time": "2021-09-27T11:27:46.556Z"
   },
   {
    "duration": 244,
    "start_time": "2021-09-27T11:27:46.568Z"
   },
   {
    "duration": 9,
    "start_time": "2021-09-27T11:27:46.814Z"
   },
   {
    "duration": 26,
    "start_time": "2021-09-27T11:27:46.824Z"
   },
   {
    "duration": 92,
    "start_time": "2021-09-27T11:27:46.852Z"
   },
   {
    "duration": 139,
    "start_time": "2021-09-27T11:27:46.946Z"
   },
   {
    "duration": 252,
    "start_time": "2021-09-27T11:27:47.087Z"
   },
   {
    "duration": 396,
    "start_time": "2021-09-27T11:27:47.340Z"
   },
   {
    "duration": 10,
    "start_time": "2021-09-27T11:27:47.738Z"
   },
   {
    "duration": 232,
    "start_time": "2021-09-27T11:27:47.750Z"
   },
   {
    "duration": 20,
    "start_time": "2021-09-27T11:27:47.984Z"
   },
   {
    "duration": 6,
    "start_time": "2021-09-27T11:27:48.006Z"
   },
   {
    "duration": 214,
    "start_time": "2021-09-27T11:27:48.014Z"
   },
   {
    "duration": 6,
    "start_time": "2021-09-27T11:27:48.230Z"
   },
   {
    "duration": 524,
    "start_time": "2021-09-27T11:27:48.238Z"
   },
   {
    "duration": 5,
    "start_time": "2021-09-27T11:27:48.763Z"
   },
   {
    "duration": 191,
    "start_time": "2021-09-27T11:27:48.770Z"
   },
   {
    "duration": 207,
    "start_time": "2021-09-27T11:27:48.963Z"
   },
   {
    "duration": 8,
    "start_time": "2021-09-27T11:27:49.172Z"
   },
   {
    "duration": 226,
    "start_time": "2021-09-27T11:27:49.181Z"
   },
   {
    "duration": 9,
    "start_time": "2021-09-27T11:27:49.409Z"
   },
   {
    "duration": 226,
    "start_time": "2021-09-27T11:27:49.419Z"
   },
   {
    "duration": 295,
    "start_time": "2021-09-27T11:27:49.647Z"
   },
   {
    "duration": -1504,
    "start_time": "2021-09-27T11:27:51.448Z"
   },
   {
    "duration": -1513,
    "start_time": "2021-09-27T11:27:51.458Z"
   },
   {
    "duration": -1523,
    "start_time": "2021-09-27T11:27:51.469Z"
   },
   {
    "duration": -1533,
    "start_time": "2021-09-27T11:27:51.480Z"
   },
   {
    "duration": -1543,
    "start_time": "2021-09-27T11:27:51.491Z"
   },
   {
    "duration": -1552,
    "start_time": "2021-09-27T11:27:51.501Z"
   },
   {
    "duration": -1562,
    "start_time": "2021-09-27T11:27:51.512Z"
   },
   {
    "duration": -1598,
    "start_time": "2021-09-27T11:27:51.549Z"
   },
   {
    "duration": -1608,
    "start_time": "2021-09-27T11:27:51.560Z"
   },
   {
    "duration": -1617,
    "start_time": "2021-09-27T11:27:51.570Z"
   },
   {
    "duration": -1630,
    "start_time": "2021-09-27T11:27:51.584Z"
   },
   {
    "duration": -1568,
    "start_time": "2021-09-27T11:27:51.596Z"
   },
   {
    "duration": -1578,
    "start_time": "2021-09-27T11:27:51.607Z"
   },
   {
    "duration": -1588,
    "start_time": "2021-09-27T11:27:51.618Z"
   },
   {
    "duration": -1598,
    "start_time": "2021-09-27T11:27:51.629Z"
   },
   {
    "duration": -1608,
    "start_time": "2021-09-27T11:27:51.640Z"
   },
   {
    "duration": -1625,
    "start_time": "2021-09-27T11:27:51.659Z"
   },
   {
    "duration": -1636,
    "start_time": "2021-09-27T11:27:51.671Z"
   },
   {
    "duration": -1646,
    "start_time": "2021-09-27T11:27:51.682Z"
   },
   {
    "duration": -1657,
    "start_time": "2021-09-27T11:27:51.694Z"
   },
   {
    "duration": -1667,
    "start_time": "2021-09-27T11:27:51.705Z"
   },
   {
    "duration": -1677,
    "start_time": "2021-09-27T11:27:51.716Z"
   },
   {
    "duration": -1686,
    "start_time": "2021-09-27T11:27:51.726Z"
   },
   {
    "duration": -1697,
    "start_time": "2021-09-27T11:27:51.738Z"
   },
   {
    "duration": -1706,
    "start_time": "2021-09-27T11:27:51.748Z"
   },
   {
    "duration": 396,
    "start_time": "2021-09-27T11:29:25.311Z"
   },
   {
    "duration": 238,
    "start_time": "2021-09-27T11:30:06.296Z"
   },
   {
    "duration": 484,
    "start_time": "2021-09-27T11:30:20.976Z"
   },
   {
    "duration": 239,
    "start_time": "2021-09-27T11:30:31.873Z"
   },
   {
    "duration": 2017,
    "start_time": "2021-09-27T11:30:57.841Z"
   },
   {
    "duration": 133,
    "start_time": "2021-09-27T11:31:24.649Z"
   },
   {
    "duration": 263,
    "start_time": "2021-09-27T11:32:41.132Z"
   },
   {
    "duration": 402,
    "start_time": "2021-09-27T11:32:47.532Z"
   },
   {
    "duration": 225,
    "start_time": "2021-09-27T11:35:27.248Z"
   },
   {
    "duration": 226,
    "start_time": "2021-09-27T11:35:42.749Z"
   },
   {
    "duration": 291,
    "start_time": "2021-09-27T11:36:36.280Z"
   },
   {
    "duration": 521,
    "start_time": "2021-09-27T11:37:32.641Z"
   },
   {
    "duration": 197,
    "start_time": "2021-09-27T11:38:15.875Z"
   },
   {
    "duration": 95,
    "start_time": "2021-09-27T11:40:58.896Z"
   },
   {
    "duration": 206,
    "start_time": "2021-09-27T11:45:10.557Z"
   },
   {
    "duration": 203,
    "start_time": "2021-09-27T11:45:22.427Z"
   },
   {
    "duration": 234,
    "start_time": "2021-09-27T11:45:38.740Z"
   },
   {
    "duration": 196,
    "start_time": "2021-09-27T11:45:45.871Z"
   },
   {
    "duration": 222,
    "start_time": "2021-09-27T11:57:18.527Z"
   },
   {
    "duration": 942,
    "start_time": "2021-09-27T11:59:17.491Z"
   },
   {
    "duration": 205,
    "start_time": "2021-09-27T12:06:06.230Z"
   },
   {
    "duration": 191,
    "start_time": "2021-09-27T12:06:18.273Z"
   },
   {
    "duration": 246,
    "start_time": "2021-09-27T12:08:17.558Z"
   },
   {
    "duration": 225,
    "start_time": "2021-09-27T12:08:30.610Z"
   },
   {
    "duration": 203,
    "start_time": "2021-09-27T12:09:02.093Z"
   },
   {
    "duration": 198,
    "start_time": "2021-09-27T12:09:08.142Z"
   },
   {
    "duration": 241,
    "start_time": "2021-09-27T12:09:56.913Z"
   },
   {
    "duration": 249,
    "start_time": "2021-09-27T12:10:24.710Z"
   },
   {
    "duration": 217,
    "start_time": "2021-09-27T12:10:38.717Z"
   },
   {
    "duration": 65,
    "start_time": "2021-09-27T12:11:06.904Z"
   },
   {
    "duration": 255,
    "start_time": "2021-09-27T12:13:21.548Z"
   },
   {
    "duration": 242,
    "start_time": "2021-09-27T12:13:54.511Z"
   },
   {
    "duration": 199,
    "start_time": "2021-09-27T12:15:24.257Z"
   },
   {
    "duration": 476,
    "start_time": "2021-09-27T12:15:52.009Z"
   },
   {
    "duration": 226,
    "start_time": "2021-09-27T12:16:44.158Z"
   },
   {
    "duration": 214,
    "start_time": "2021-09-27T12:18:35.031Z"
   },
   {
    "duration": 237,
    "start_time": "2021-09-27T12:18:51.888Z"
   },
   {
    "duration": 219,
    "start_time": "2021-09-27T12:19:00.589Z"
   },
   {
    "duration": 218,
    "start_time": "2021-09-27T12:19:09.117Z"
   },
   {
    "duration": 354,
    "start_time": "2021-09-27T12:19:50.508Z"
   },
   {
    "duration": 199,
    "start_time": "2021-09-27T12:20:48.530Z"
   },
   {
    "duration": 72,
    "start_time": "2021-09-27T12:21:59.128Z"
   },
   {
    "duration": 218,
    "start_time": "2021-09-27T12:29:21.635Z"
   },
   {
    "duration": 7876,
    "start_time": "2021-09-27T12:29:57.005Z"
   },
   {
    "duration": -845,
    "start_time": "2021-09-27T12:30:12.221Z"
   },
   {
    "duration": 444,
    "start_time": "2021-09-27T12:31:14.821Z"
   },
   {
    "duration": 1232,
    "start_time": "2021-09-27T12:31:21.384Z"
   },
   {
    "duration": 87,
    "start_time": "2021-09-27T12:31:22.617Z"
   },
   {
    "duration": 10,
    "start_time": "2021-09-27T12:31:22.707Z"
   },
   {
    "duration": 4,
    "start_time": "2021-09-27T12:31:22.720Z"
   },
   {
    "duration": 242,
    "start_time": "2021-09-27T12:31:22.726Z"
   },
   {
    "duration": 9,
    "start_time": "2021-09-27T12:31:22.970Z"
   },
   {
    "duration": 42,
    "start_time": "2021-09-27T12:31:22.981Z"
   },
   {
    "duration": 4,
    "start_time": "2021-09-27T12:31:23.026Z"
   },
   {
    "duration": 11,
    "start_time": "2021-09-27T12:31:23.032Z"
   },
   {
    "duration": 4,
    "start_time": "2021-09-27T12:31:23.044Z"
   },
   {
    "duration": 6,
    "start_time": "2021-09-27T12:31:23.050Z"
   },
   {
    "duration": 11,
    "start_time": "2021-09-27T12:31:23.057Z"
   },
   {
    "duration": 38,
    "start_time": "2021-09-27T12:31:23.069Z"
   },
   {
    "duration": 7,
    "start_time": "2021-09-27T12:31:23.109Z"
   },
   {
    "duration": 6,
    "start_time": "2021-09-27T12:31:23.118Z"
   },
   {
    "duration": 4,
    "start_time": "2021-09-27T12:31:23.126Z"
   },
   {
    "duration": 9,
    "start_time": "2021-09-27T12:31:23.132Z"
   },
   {
    "duration": 8,
    "start_time": "2021-09-27T12:31:23.143Z"
   },
   {
    "duration": 48,
    "start_time": "2021-09-27T12:31:23.153Z"
   },
   {
    "duration": 8,
    "start_time": "2021-09-27T12:31:23.203Z"
   },
   {
    "duration": 7,
    "start_time": "2021-09-27T12:31:23.213Z"
   },
   {
    "duration": 8,
    "start_time": "2021-09-27T12:31:23.222Z"
   },
   {
    "duration": 10,
    "start_time": "2021-09-27T12:31:23.235Z"
   },
   {
    "duration": 4,
    "start_time": "2021-09-27T12:31:23.248Z"
   },
   {
    "duration": 7,
    "start_time": "2021-09-27T12:31:23.300Z"
   },
   {
    "duration": 17,
    "start_time": "2021-09-27T12:31:23.309Z"
   },
   {
    "duration": 4,
    "start_time": "2021-09-27T12:31:23.327Z"
   },
   {
    "duration": 9,
    "start_time": "2021-09-27T12:31:23.333Z"
   },
   {
    "duration": 20,
    "start_time": "2021-09-27T12:31:23.344Z"
   },
   {
    "duration": 41,
    "start_time": "2021-09-27T12:31:23.366Z"
   },
   {
    "duration": 22,
    "start_time": "2021-09-27T12:31:23.409Z"
   },
   {
    "duration": 32,
    "start_time": "2021-09-27T12:31:23.433Z"
   },
   {
    "duration": 507,
    "start_time": "2021-09-27T12:31:23.467Z"
   },
   {
    "duration": 30,
    "start_time": "2021-09-27T12:31:23.976Z"
   },
   {
    "duration": 419,
    "start_time": "2021-09-27T12:31:24.007Z"
   },
   {
    "duration": 9,
    "start_time": "2021-09-27T12:31:24.428Z"
   },
   {
    "duration": 9,
    "start_time": "2021-09-27T12:31:24.438Z"
   },
   {
    "duration": 538,
    "start_time": "2021-09-27T12:31:24.449Z"
   },
   {
    "duration": 296,
    "start_time": "2021-09-27T12:31:24.989Z"
   },
   {
    "duration": 13,
    "start_time": "2021-09-27T12:31:25.287Z"
   },
   {
    "duration": 300,
    "start_time": "2021-09-27T12:31:25.302Z"
   },
   {
    "duration": 9,
    "start_time": "2021-09-27T12:31:25.604Z"
   },
   {
    "duration": 141,
    "start_time": "2021-09-27T12:31:25.615Z"
   },
   {
    "duration": 400,
    "start_time": "2021-09-27T12:31:25.758Z"
   },
   {
    "duration": 11,
    "start_time": "2021-09-27T12:31:26.160Z"
   },
   {
    "duration": 250,
    "start_time": "2021-09-27T12:31:26.172Z"
   },
   {
    "duration": 9,
    "start_time": "2021-09-27T12:31:26.424Z"
   },
   {
    "duration": 26,
    "start_time": "2021-09-27T12:31:26.435Z"
   },
   {
    "duration": 10,
    "start_time": "2021-09-27T12:31:26.462Z"
   },
   {
    "duration": 149,
    "start_time": "2021-09-27T12:31:26.474Z"
   },
   {
    "duration": 259,
    "start_time": "2021-09-27T12:31:26.625Z"
   },
   {
    "duration": 398,
    "start_time": "2021-09-27T12:31:26.885Z"
   },
   {
    "duration": 16,
    "start_time": "2021-09-27T12:31:27.285Z"
   },
   {
    "duration": 316,
    "start_time": "2021-09-27T12:31:27.303Z"
   },
   {
    "duration": 12,
    "start_time": "2021-09-27T12:31:27.621Z"
   },
   {
    "duration": 5,
    "start_time": "2021-09-27T12:31:27.635Z"
   },
   {
    "duration": 246,
    "start_time": "2021-09-27T12:31:27.641Z"
   },
   {
    "duration": 13,
    "start_time": "2021-09-27T12:31:27.889Z"
   },
   {
    "duration": 487,
    "start_time": "2021-09-27T12:31:27.903Z"
   },
   {
    "duration": 5,
    "start_time": "2021-09-27T12:31:28.399Z"
   },
   {
    "duration": 208,
    "start_time": "2021-09-27T12:31:28.406Z"
   },
   {
    "duration": 216,
    "start_time": "2021-09-27T12:31:28.616Z"
   },
   {
    "duration": 8,
    "start_time": "2021-09-27T12:31:28.834Z"
   },
   {
    "duration": 209,
    "start_time": "2021-09-27T12:31:28.843Z"
   },
   {
    "duration": 8,
    "start_time": "2021-09-27T12:31:29.053Z"
   },
   {
    "duration": 221,
    "start_time": "2021-09-27T12:31:29.063Z"
   },
   {
    "duration": 331,
    "start_time": "2021-09-27T12:31:29.286Z"
   },
   {
    "duration": -1369,
    "start_time": "2021-09-27T12:31:30.989Z"
   },
   {
    "duration": -1379,
    "start_time": "2021-09-27T12:31:31.000Z"
   },
   {
    "duration": -1387,
    "start_time": "2021-09-27T12:31:31.010Z"
   },
   {
    "duration": -1397,
    "start_time": "2021-09-27T12:31:31.021Z"
   },
   {
    "duration": -1405,
    "start_time": "2021-09-27T12:31:31.030Z"
   },
   {
    "duration": -1414,
    "start_time": "2021-09-27T12:31:31.041Z"
   },
   {
    "duration": -1421,
    "start_time": "2021-09-27T12:31:31.050Z"
   },
   {
    "duration": -1461,
    "start_time": "2021-09-27T12:31:31.091Z"
   },
   {
    "duration": -1470,
    "start_time": "2021-09-27T12:31:31.101Z"
   },
   {
    "duration": -1479,
    "start_time": "2021-09-27T12:31:31.112Z"
   },
   {
    "duration": -1488,
    "start_time": "2021-09-27T12:31:31.122Z"
   },
   {
    "duration": -1497,
    "start_time": "2021-09-27T12:31:31.132Z"
   },
   {
    "duration": -1506,
    "start_time": "2021-09-27T12:31:31.143Z"
   },
   {
    "duration": -1516,
    "start_time": "2021-09-27T12:31:31.154Z"
   },
   {
    "duration": -1524,
    "start_time": "2021-09-27T12:31:31.164Z"
   },
   {
    "duration": -1534,
    "start_time": "2021-09-27T12:31:31.175Z"
   },
   {
    "duration": -1542,
    "start_time": "2021-09-27T12:31:31.185Z"
   },
   {
    "duration": -1565,
    "start_time": "2021-09-27T12:31:31.209Z"
   },
   {
    "duration": -1575,
    "start_time": "2021-09-27T12:31:31.220Z"
   },
   {
    "duration": -1584,
    "start_time": "2021-09-27T12:31:31.231Z"
   },
   {
    "duration": -1593,
    "start_time": "2021-09-27T12:31:31.242Z"
   },
   {
    "duration": -1603,
    "start_time": "2021-09-27T12:31:31.253Z"
   },
   {
    "duration": -1613,
    "start_time": "2021-09-27T12:31:31.264Z"
   },
   {
    "duration": -1625,
    "start_time": "2021-09-27T12:31:31.278Z"
   },
   {
    "duration": -1634,
    "start_time": "2021-09-27T12:31:31.288Z"
   },
   {
    "duration": 206,
    "start_time": "2021-09-27T12:33:32.679Z"
   },
   {
    "duration": 1546,
    "start_time": "2021-09-27T12:40:00.742Z"
   },
   {
    "duration": 635,
    "start_time": "2021-09-27T12:40:40.404Z"
   },
   {
    "duration": 562,
    "start_time": "2021-09-27T12:40:51.215Z"
   },
   {
    "duration": 565,
    "start_time": "2021-09-27T12:41:42.529Z"
   },
   {
    "duration": 228,
    "start_time": "2021-09-27T12:41:55.380Z"
   },
   {
    "duration": 259,
    "start_time": "2021-09-27T12:46:06.576Z"
   },
   {
    "duration": 219,
    "start_time": "2021-09-27T12:46:59.323Z"
   },
   {
    "duration": 228,
    "start_time": "2021-09-27T12:52:26.956Z"
   },
   {
    "duration": 184,
    "start_time": "2021-09-27T12:56:29.274Z"
   },
   {
    "duration": 1185,
    "start_time": "2021-09-27T12:56:38.872Z"
   },
   {
    "duration": 80,
    "start_time": "2021-09-27T12:56:40.059Z"
   },
   {
    "duration": 11,
    "start_time": "2021-09-27T12:56:40.141Z"
   },
   {
    "duration": 11,
    "start_time": "2021-09-27T12:56:40.154Z"
   },
   {
    "duration": 230,
    "start_time": "2021-09-27T12:56:40.166Z"
   },
   {
    "duration": 11,
    "start_time": "2021-09-27T12:56:40.399Z"
   },
   {
    "duration": 26,
    "start_time": "2021-09-27T12:56:40.411Z"
   },
   {
    "duration": 4,
    "start_time": "2021-09-27T12:56:40.439Z"
   },
   {
    "duration": 10,
    "start_time": "2021-09-27T12:56:40.444Z"
   },
   {
    "duration": 4,
    "start_time": "2021-09-27T12:56:40.455Z"
   },
   {
    "duration": 39,
    "start_time": "2021-09-27T12:56:40.461Z"
   },
   {
    "duration": 8,
    "start_time": "2021-09-27T12:56:40.502Z"
   },
   {
    "duration": 7,
    "start_time": "2021-09-27T12:56:40.511Z"
   },
   {
    "duration": 5,
    "start_time": "2021-09-27T12:56:40.520Z"
   },
   {
    "duration": 5,
    "start_time": "2021-09-27T12:56:40.526Z"
   },
   {
    "duration": 3,
    "start_time": "2021-09-27T12:56:40.532Z"
   },
   {
    "duration": 8,
    "start_time": "2021-09-27T12:56:40.536Z"
   },
   {
    "duration": 8,
    "start_time": "2021-09-27T12:56:40.546Z"
   },
   {
    "duration": 46,
    "start_time": "2021-09-27T12:56:40.555Z"
   },
   {
    "duration": 6,
    "start_time": "2021-09-27T12:56:40.603Z"
   },
   {
    "duration": 5,
    "start_time": "2021-09-27T12:56:40.611Z"
   },
   {
    "duration": 10,
    "start_time": "2021-09-27T12:56:40.617Z"
   },
   {
    "duration": 7,
    "start_time": "2021-09-27T12:56:40.631Z"
   },
   {
    "duration": 3,
    "start_time": "2021-09-27T12:56:40.641Z"
   },
   {
    "duration": 7,
    "start_time": "2021-09-27T12:56:40.645Z"
   },
   {
    "duration": 11,
    "start_time": "2021-09-27T12:56:40.654Z"
   },
   {
    "duration": 35,
    "start_time": "2021-09-27T12:56:40.667Z"
   },
   {
    "duration": 11,
    "start_time": "2021-09-27T12:56:40.703Z"
   },
   {
    "duration": 13,
    "start_time": "2021-09-27T12:56:40.716Z"
   },
   {
    "duration": 23,
    "start_time": "2021-09-27T12:56:40.730Z"
   },
   {
    "duration": 20,
    "start_time": "2021-09-27T12:56:40.755Z"
   },
   {
    "duration": 27,
    "start_time": "2021-09-27T12:56:40.799Z"
   },
   {
    "duration": 496,
    "start_time": "2021-09-27T12:56:40.827Z"
   },
   {
    "duration": 21,
    "start_time": "2021-09-27T12:56:41.325Z"
   },
   {
    "duration": 408,
    "start_time": "2021-09-27T12:56:41.347Z"
   },
   {
    "duration": 8,
    "start_time": "2021-09-27T12:56:41.757Z"
   },
   {
    "duration": 8,
    "start_time": "2021-09-27T12:56:41.766Z"
   },
   {
    "duration": 518,
    "start_time": "2021-09-27T12:56:41.776Z"
   },
   {
    "duration": 291,
    "start_time": "2021-09-27T12:56:42.295Z"
   },
   {
    "duration": 12,
    "start_time": "2021-09-27T12:56:42.588Z"
   },
   {
    "duration": 295,
    "start_time": "2021-09-27T12:56:42.601Z"
   },
   {
    "duration": 9,
    "start_time": "2021-09-27T12:56:42.897Z"
   },
   {
    "duration": 144,
    "start_time": "2021-09-27T12:56:42.907Z"
   },
   {
    "duration": 389,
    "start_time": "2021-09-27T12:56:43.053Z"
   },
   {
    "duration": 11,
    "start_time": "2021-09-27T12:56:43.444Z"
   },
   {
    "duration": 249,
    "start_time": "2021-09-27T12:56:43.456Z"
   },
   {
    "duration": 10,
    "start_time": "2021-09-27T12:56:43.707Z"
   },
   {
    "duration": 28,
    "start_time": "2021-09-27T12:56:43.718Z"
   },
   {
    "duration": 10,
    "start_time": "2021-09-27T12:56:43.748Z"
   },
   {
    "duration": 151,
    "start_time": "2021-09-27T12:56:43.759Z"
   },
   {
    "duration": 257,
    "start_time": "2021-09-27T12:56:43.911Z"
   },
   {
    "duration": 399,
    "start_time": "2021-09-27T12:56:44.170Z"
   },
   {
    "duration": 8,
    "start_time": "2021-09-27T12:56:44.570Z"
   },
   {
    "duration": 310,
    "start_time": "2021-09-27T12:56:44.580Z"
   },
   {
    "duration": 17,
    "start_time": "2021-09-27T12:56:44.891Z"
   },
   {
    "duration": 4,
    "start_time": "2021-09-27T12:56:44.910Z"
   },
   {
    "duration": 218,
    "start_time": "2021-09-27T12:56:44.916Z"
   },
   {
    "duration": 5,
    "start_time": "2021-09-27T12:56:45.135Z"
   },
   {
    "duration": 530,
    "start_time": "2021-09-27T12:56:45.142Z"
   },
   {
    "duration": 5,
    "start_time": "2021-09-27T12:56:45.673Z"
   },
   {
    "duration": 206,
    "start_time": "2021-09-27T12:56:45.680Z"
   },
   {
    "duration": 216,
    "start_time": "2021-09-27T12:56:45.888Z"
   },
   {
    "duration": 9,
    "start_time": "2021-09-27T12:56:46.106Z"
   },
   {
    "duration": 222,
    "start_time": "2021-09-27T12:56:46.116Z"
   },
   {
    "duration": 9,
    "start_time": "2021-09-27T12:56:46.340Z"
   },
   {
    "duration": 226,
    "start_time": "2021-09-27T12:56:46.351Z"
   },
   {
    "duration": 319,
    "start_time": "2021-09-27T12:56:46.579Z"
   },
   {
    "duration": -1959,
    "start_time": "2021-09-27T12:56:48.860Z"
   },
   {
    "duration": -1970,
    "start_time": "2021-09-27T12:56:48.871Z"
   },
   {
    "duration": -1978,
    "start_time": "2021-09-27T12:56:48.880Z"
   },
   {
    "duration": -1988,
    "start_time": "2021-09-27T12:56:48.891Z"
   },
   {
    "duration": -1996,
    "start_time": "2021-09-27T12:56:48.900Z"
   },
   {
    "duration": -2006,
    "start_time": "2021-09-27T12:56:48.911Z"
   },
   {
    "duration": -2018,
    "start_time": "2021-09-27T12:56:48.924Z"
   },
   {
    "duration": -2061,
    "start_time": "2021-09-27T12:56:48.968Z"
   },
   {
    "duration": -2070,
    "start_time": "2021-09-27T12:56:48.978Z"
   },
   {
    "duration": -2081,
    "start_time": "2021-09-27T12:56:48.990Z"
   },
   {
    "duration": -2091,
    "start_time": "2021-09-27T12:56:49.000Z"
   },
   {
    "duration": -2100,
    "start_time": "2021-09-27T12:56:49.010Z"
   },
   {
    "duration": -2109,
    "start_time": "2021-09-27T12:56:49.020Z"
   },
   {
    "duration": -2120,
    "start_time": "2021-09-27T12:56:49.032Z"
   },
   {
    "duration": -2128,
    "start_time": "2021-09-27T12:56:49.041Z"
   },
   {
    "duration": -2140,
    "start_time": "2021-09-27T12:56:49.054Z"
   },
   {
    "duration": -2148,
    "start_time": "2021-09-27T12:56:49.064Z"
   },
   {
    "duration": -2169,
    "start_time": "2021-09-27T12:56:49.085Z"
   },
   {
    "duration": -2178,
    "start_time": "2021-09-27T12:56:49.095Z"
   },
   {
    "duration": -2189,
    "start_time": "2021-09-27T12:56:49.107Z"
   },
   {
    "duration": -2198,
    "start_time": "2021-09-27T12:56:49.117Z"
   },
   {
    "duration": -2208,
    "start_time": "2021-09-27T12:56:49.128Z"
   },
   {
    "duration": -2217,
    "start_time": "2021-09-27T12:56:49.138Z"
   },
   {
    "duration": -2227,
    "start_time": "2021-09-27T12:56:49.149Z"
   },
   {
    "duration": -2237,
    "start_time": "2021-09-27T12:56:49.160Z"
   },
   {
    "duration": 22,
    "start_time": "2021-09-27T12:57:22.706Z"
   },
   {
    "duration": 216,
    "start_time": "2021-09-27T12:57:51.777Z"
   },
   {
    "duration": 5777,
    "start_time": "2021-09-27T12:58:06.422Z"
   },
   {
    "duration": 6077,
    "start_time": "2021-09-27T12:58:33.710Z"
   },
   {
    "duration": 130,
    "start_time": "2021-09-27T12:58:47.939Z"
   },
   {
    "duration": 490,
    "start_time": "2021-09-27T12:58:52.562Z"
   },
   {
    "duration": 493,
    "start_time": "2021-09-27T12:59:39.119Z"
   },
   {
    "duration": 236,
    "start_time": "2021-09-27T13:02:49.996Z"
   },
   {
    "duration": 483,
    "start_time": "2021-09-27T13:03:07.139Z"
   },
   {
    "duration": 1411,
    "start_time": "2022-04-29T06:40:05.775Z"
   },
   {
    "duration": 101,
    "start_time": "2022-04-29T06:40:07.188Z"
   },
   {
    "duration": 15,
    "start_time": "2022-04-29T06:40:07.291Z"
   },
   {
    "duration": 18,
    "start_time": "2022-04-29T06:40:07.308Z"
   },
   {
    "duration": 177,
    "start_time": "2022-04-29T06:40:07.328Z"
   },
   {
    "duration": 17,
    "start_time": "2022-04-29T06:40:07.507Z"
   },
   {
    "duration": 30,
    "start_time": "2022-04-29T06:40:07.526Z"
   },
   {
    "duration": 5,
    "start_time": "2022-04-29T06:40:07.559Z"
   },
   {
    "duration": 14,
    "start_time": "2022-04-29T06:40:07.565Z"
   },
   {
    "duration": 5,
    "start_time": "2022-04-29T06:40:07.581Z"
   },
   {
    "duration": 37,
    "start_time": "2022-04-29T06:40:07.588Z"
   },
   {
    "duration": 9,
    "start_time": "2022-04-29T06:40:07.626Z"
   },
   {
    "duration": 8,
    "start_time": "2022-04-29T06:40:07.637Z"
   },
   {
    "duration": 7,
    "start_time": "2022-04-29T06:40:07.647Z"
   },
   {
    "duration": 6,
    "start_time": "2022-04-29T06:40:07.656Z"
   },
   {
    "duration": 4,
    "start_time": "2022-04-29T06:40:07.664Z"
   },
   {
    "duration": 12,
    "start_time": "2022-04-29T06:40:07.670Z"
   },
   {
    "duration": 7,
    "start_time": "2022-04-29T06:40:07.724Z"
   },
   {
    "duration": 8,
    "start_time": "2022-04-29T06:40:07.732Z"
   },
   {
    "duration": 11,
    "start_time": "2022-04-29T06:40:07.742Z"
   },
   {
    "duration": 8,
    "start_time": "2022-04-29T06:40:07.755Z"
   },
   {
    "duration": 9,
    "start_time": "2022-04-29T06:40:07.765Z"
   },
   {
    "duration": 9,
    "start_time": "2022-04-29T06:40:07.775Z"
   },
   {
    "duration": 4,
    "start_time": "2022-04-29T06:40:07.785Z"
   },
   {
    "duration": 9,
    "start_time": "2022-04-29T06:40:07.823Z"
   },
   {
    "duration": 14,
    "start_time": "2022-04-29T06:40:07.835Z"
   },
   {
    "duration": 4,
    "start_time": "2022-04-29T06:40:07.851Z"
   },
   {
    "duration": 8,
    "start_time": "2022-04-29T06:40:07.860Z"
   },
   {
    "duration": 19,
    "start_time": "2022-04-29T06:40:07.870Z"
   },
   {
    "duration": 50,
    "start_time": "2022-04-29T06:40:07.890Z"
   },
   {
    "duration": 24,
    "start_time": "2022-04-29T06:40:07.941Z"
   },
   {
    "duration": 30,
    "start_time": "2022-04-29T06:40:07.967Z"
   },
   {
    "duration": 310,
    "start_time": "2022-04-29T06:40:07.999Z"
   },
   {
    "duration": 31,
    "start_time": "2022-04-29T06:40:08.311Z"
   },
   {
    "duration": 267,
    "start_time": "2022-04-29T06:40:08.344Z"
   },
   {
    "duration": 14,
    "start_time": "2022-04-29T06:40:08.613Z"
   },
   {
    "duration": 10,
    "start_time": "2022-04-29T06:40:08.630Z"
   },
   {
    "duration": 306,
    "start_time": "2022-04-29T06:40:08.642Z"
   },
   {
    "duration": 269,
    "start_time": "2022-04-29T06:40:08.950Z"
   },
   {
    "duration": 9,
    "start_time": "2022-04-29T06:40:09.224Z"
   },
   {
    "duration": 190,
    "start_time": "2022-04-29T06:40:09.235Z"
   },
   {
    "duration": 8,
    "start_time": "2022-04-29T06:40:09.428Z"
   },
   {
    "duration": 93,
    "start_time": "2022-04-29T06:40:09.437Z"
   },
   {
    "duration": 258,
    "start_time": "2022-04-29T06:40:09.532Z"
   },
   {
    "duration": 17,
    "start_time": "2022-04-29T06:40:09.792Z"
   },
   {
    "duration": 289,
    "start_time": "2022-04-29T06:40:09.810Z"
   },
   {
    "duration": 11,
    "start_time": "2022-04-29T06:40:10.102Z"
   },
   {
    "duration": 52,
    "start_time": "2022-04-29T06:40:10.123Z"
   },
   {
    "duration": 17,
    "start_time": "2022-04-29T06:40:10.177Z"
   },
   {
    "duration": 91,
    "start_time": "2022-04-29T06:40:10.197Z"
   },
   {
    "duration": 299,
    "start_time": "2022-04-29T06:40:10.289Z"
   },
   {
    "duration": 499,
    "start_time": "2022-04-29T06:40:10.591Z"
   },
   {
    "duration": 12,
    "start_time": "2022-04-29T06:40:11.092Z"
   },
   {
    "duration": 279,
    "start_time": "2022-04-29T06:40:11.106Z"
   },
   {
    "duration": 22,
    "start_time": "2022-04-29T06:40:11.388Z"
   },
   {
    "duration": 7,
    "start_time": "2022-04-29T06:40:11.424Z"
   },
   {
    "duration": 513,
    "start_time": "2022-04-29T06:40:11.433Z"
   },
   {
    "duration": 7,
    "start_time": "2022-04-29T06:40:11.948Z"
   },
   {
    "duration": 214,
    "start_time": "2022-04-29T06:40:11.957Z"
   },
   {
    "duration": 5,
    "start_time": "2022-04-29T06:40:12.173Z"
   },
   {
    "duration": 168,
    "start_time": "2022-04-29T06:40:12.180Z"
   },
   {
    "duration": 338,
    "start_time": "2022-04-29T06:40:12.351Z"
   },
   {
    "duration": 7,
    "start_time": "2022-04-29T06:40:12.691Z"
   },
   {
    "duration": 33,
    "start_time": "2022-04-29T06:40:12.700Z"
   },
   {
    "duration": 8,
    "start_time": "2022-04-29T06:40:12.734Z"
   },
   {
    "duration": 12,
    "start_time": "2022-04-29T06:40:12.743Z"
   },
   {
    "duration": 8,
    "start_time": "2022-04-29T06:40:12.757Z"
   },
   {
    "duration": 5,
    "start_time": "2022-04-29T06:40:12.766Z"
   },
   {
    "duration": 25,
    "start_time": "2022-04-29T06:40:12.772Z"
   },
   {
    "duration": 168,
    "start_time": "2022-04-29T06:40:12.799Z"
   },
   {
    "duration": 10,
    "start_time": "2022-04-29T06:40:12.969Z"
   },
   {
    "duration": 9,
    "start_time": "2022-04-29T06:40:12.980Z"
   },
   {
    "duration": 11,
    "start_time": "2022-04-29T06:40:12.990Z"
   },
   {
    "duration": 25,
    "start_time": "2022-04-29T06:40:13.003Z"
   },
   {
    "duration": 11,
    "start_time": "2022-04-29T06:40:13.030Z"
   },
   {
    "duration": 9,
    "start_time": "2022-04-29T06:40:13.042Z"
   },
   {
    "duration": 8,
    "start_time": "2022-04-29T06:40:13.052Z"
   },
   {
    "duration": 19,
    "start_time": "2022-04-29T06:40:13.062Z"
   },
   {
    "duration": 160,
    "start_time": "2022-04-29T06:40:13.083Z"
   },
   {
    "duration": 5,
    "start_time": "2022-04-29T06:40:13.244Z"
   },
   {
    "duration": 23,
    "start_time": "2022-04-29T06:40:13.251Z"
   },
   {
    "duration": 154,
    "start_time": "2022-04-29T06:40:13.280Z"
   },
   {
    "duration": 149,
    "start_time": "2022-04-29T06:40:13.435Z"
   },
   {
    "duration": 5,
    "start_time": "2022-04-29T06:40:13.586Z"
   },
   {
    "duration": 171,
    "start_time": "2022-04-29T06:40:13.593Z"
   },
   {
    "duration": 237,
    "start_time": "2022-04-29T06:40:13.765Z"
   },
   {
    "duration": 265,
    "start_time": "2022-04-29T06:40:14.004Z"
   },
   {
    "duration": 1618,
    "start_time": "2022-04-29T06:41:04.796Z"
   },
   {
    "duration": 97,
    "start_time": "2022-04-29T06:41:06.417Z"
   },
   {
    "duration": 21,
    "start_time": "2022-04-29T06:41:06.515Z"
   },
   {
    "duration": 6,
    "start_time": "2022-04-29T06:41:06.538Z"
   },
   {
    "duration": 266,
    "start_time": "2022-04-29T06:41:06.545Z"
   },
   {
    "duration": 9,
    "start_time": "2022-04-29T06:41:06.812Z"
   },
   {
    "duration": 30,
    "start_time": "2022-04-29T06:41:06.823Z"
   },
   {
    "duration": 5,
    "start_time": "2022-04-29T06:41:06.855Z"
   },
   {
    "duration": 13,
    "start_time": "2022-04-29T06:41:06.861Z"
   },
   {
    "duration": 5,
    "start_time": "2022-04-29T06:41:06.878Z"
   },
   {
    "duration": 8,
    "start_time": "2022-04-29T06:41:06.885Z"
   },
   {
    "duration": 35,
    "start_time": "2022-04-29T06:41:06.895Z"
   },
   {
    "duration": 10,
    "start_time": "2022-04-29T06:41:06.932Z"
   },
   {
    "duration": 13,
    "start_time": "2022-04-29T06:41:06.943Z"
   },
   {
    "duration": 7,
    "start_time": "2022-04-29T06:41:06.958Z"
   },
   {
    "duration": 4,
    "start_time": "2022-04-29T06:41:06.967Z"
   },
   {
    "duration": 9,
    "start_time": "2022-04-29T06:41:06.973Z"
   },
   {
    "duration": 41,
    "start_time": "2022-04-29T06:41:06.984Z"
   },
   {
    "duration": 7,
    "start_time": "2022-04-29T06:41:07.027Z"
   },
   {
    "duration": 8,
    "start_time": "2022-04-29T06:41:07.036Z"
   },
   {
    "duration": 6,
    "start_time": "2022-04-29T06:41:07.046Z"
   },
   {
    "duration": 7,
    "start_time": "2022-04-29T06:41:07.054Z"
   },
   {
    "duration": 11,
    "start_time": "2022-04-29T06:41:07.062Z"
   },
   {
    "duration": 9,
    "start_time": "2022-04-29T06:41:07.075Z"
   },
   {
    "duration": 42,
    "start_time": "2022-04-29T06:41:07.086Z"
   },
   {
    "duration": 14,
    "start_time": "2022-04-29T06:41:07.130Z"
   },
   {
    "duration": 3,
    "start_time": "2022-04-29T06:41:07.146Z"
   },
   {
    "duration": 16,
    "start_time": "2022-04-29T06:41:07.153Z"
   },
   {
    "duration": 18,
    "start_time": "2022-04-29T06:41:07.171Z"
   },
   {
    "duration": 41,
    "start_time": "2022-04-29T06:41:07.191Z"
   },
   {
    "duration": 25,
    "start_time": "2022-04-29T06:41:07.234Z"
   },
   {
    "duration": 31,
    "start_time": "2022-04-29T06:41:07.261Z"
   },
   {
    "duration": 321,
    "start_time": "2022-04-29T06:41:07.294Z"
   },
   {
    "duration": 24,
    "start_time": "2022-04-29T06:41:07.624Z"
   },
   {
    "duration": 285,
    "start_time": "2022-04-29T06:41:07.650Z"
   },
   {
    "duration": 8,
    "start_time": "2022-04-29T06:41:07.937Z"
   },
   {
    "duration": 9,
    "start_time": "2022-04-29T06:41:07.947Z"
   },
   {
    "duration": 304,
    "start_time": "2022-04-29T06:41:07.958Z"
   },
   {
    "duration": 261,
    "start_time": "2022-04-29T06:41:08.264Z"
   },
   {
    "duration": 8,
    "start_time": "2022-04-29T06:41:08.527Z"
   },
   {
    "duration": 199,
    "start_time": "2022-04-29T06:41:08.537Z"
   },
   {
    "duration": 9,
    "start_time": "2022-04-29T06:41:08.739Z"
   },
   {
    "duration": 99,
    "start_time": "2022-04-29T06:41:08.750Z"
   },
   {
    "duration": 252,
    "start_time": "2022-04-29T06:41:08.851Z"
   },
   {
    "duration": 19,
    "start_time": "2022-04-29T06:41:09.105Z"
   },
   {
    "duration": 162,
    "start_time": "2022-04-29T06:41:09.126Z"
   },
   {
    "duration": 9,
    "start_time": "2022-04-29T06:41:09.290Z"
   },
   {
    "duration": 44,
    "start_time": "2022-04-29T06:41:09.301Z"
   },
   {
    "duration": 10,
    "start_time": "2022-04-29T06:41:09.346Z"
   },
   {
    "duration": 89,
    "start_time": "2022-04-29T06:41:09.358Z"
   },
   {
    "duration": 179,
    "start_time": "2022-04-29T06:41:09.448Z"
   },
   {
    "duration": 265,
    "start_time": "2022-04-29T06:41:09.628Z"
   },
   {
    "duration": 9,
    "start_time": "2022-04-29T06:41:09.894Z"
   },
   {
    "duration": 162,
    "start_time": "2022-04-29T06:41:09.905Z"
   },
   {
    "duration": 13,
    "start_time": "2022-04-29T06:41:10.068Z"
   },
   {
    "duration": 5,
    "start_time": "2022-04-29T06:41:10.083Z"
   },
   {
    "duration": 250,
    "start_time": "2022-04-29T06:41:10.089Z"
   },
   {
    "duration": 5,
    "start_time": "2022-04-29T06:41:10.341Z"
   },
   {
    "duration": 210,
    "start_time": "2022-04-29T06:41:10.348Z"
   },
   {
    "duration": 6,
    "start_time": "2022-04-29T06:41:10.559Z"
   },
   {
    "duration": 163,
    "start_time": "2022-04-29T06:41:10.566Z"
   },
   {
    "duration": 328,
    "start_time": "2022-04-29T06:41:10.730Z"
   },
   {
    "duration": 7,
    "start_time": "2022-04-29T06:41:11.060Z"
   },
   {
    "duration": 39,
    "start_time": "2022-04-29T06:41:11.069Z"
   },
   {
    "duration": 7,
    "start_time": "2022-04-29T06:41:11.109Z"
   },
   {
    "duration": 9,
    "start_time": "2022-04-29T06:41:11.117Z"
   },
   {
    "duration": 5,
    "start_time": "2022-04-29T06:41:11.128Z"
   },
   {
    "duration": 6,
    "start_time": "2022-04-29T06:41:11.134Z"
   },
   {
    "duration": 25,
    "start_time": "2022-04-29T06:41:11.142Z"
   },
   {
    "duration": 162,
    "start_time": "2022-04-29T06:41:11.168Z"
   },
   {
    "duration": 8,
    "start_time": "2022-04-29T06:41:11.332Z"
   },
   {
    "duration": 11,
    "start_time": "2022-04-29T06:41:11.342Z"
   },
   {
    "duration": 9,
    "start_time": "2022-04-29T06:41:11.355Z"
   },
   {
    "duration": 7,
    "start_time": "2022-04-29T06:41:11.366Z"
   },
   {
    "duration": 10,
    "start_time": "2022-04-29T06:41:11.375Z"
   },
   {
    "duration": 8,
    "start_time": "2022-04-29T06:41:11.387Z"
   },
   {
    "duration": 9,
    "start_time": "2022-04-29T06:41:11.425Z"
   },
   {
    "duration": 20,
    "start_time": "2022-04-29T06:41:11.436Z"
   },
   {
    "duration": 151,
    "start_time": "2022-04-29T06:41:11.458Z"
   },
   {
    "duration": 13,
    "start_time": "2022-04-29T06:41:11.611Z"
   },
   {
    "duration": 28,
    "start_time": "2022-04-29T06:41:11.626Z"
   },
   {
    "duration": 131,
    "start_time": "2022-04-29T06:41:11.660Z"
   },
   {
    "duration": 152,
    "start_time": "2022-04-29T06:41:11.793Z"
   },
   {
    "duration": 5,
    "start_time": "2022-04-29T06:41:11.946Z"
   },
   {
    "duration": 164,
    "start_time": "2022-04-29T06:41:11.953Z"
   },
   {
    "duration": 160,
    "start_time": "2022-04-29T06:41:12.119Z"
   },
   {
    "duration": 166,
    "start_time": "2022-04-29T06:41:12.281Z"
   }
  ],
  "kernelspec": {
   "display_name": "Python 3 (ipykernel)",
   "language": "python",
   "name": "python3"
  },
  "language_info": {
   "codemirror_mode": {
    "name": "ipython",
    "version": 3
   },
   "file_extension": ".py",
   "mimetype": "text/x-python",
   "name": "python",
   "nbconvert_exporter": "python",
   "pygments_lexer": "ipython3",
   "version": "3.9.5"
  },
  "toc": {
   "base_numbering": 1,
   "nav_menu": {},
   "number_sections": true,
   "sideBar": true,
   "skip_h1_title": true,
   "title_cell": "Содержание",
   "title_sidebar": "Contents",
   "toc_cell": true,
   "toc_position": {
    "height": "525.556px",
    "left": "387px",
    "top": "325.33px",
    "width": "190.764px"
   },
   "toc_section_display": true,
   "toc_window_display": true
  }
 },
 "nbformat": 4,
 "nbformat_minor": 2
}
